{
 "cells": [
  {
   "cell_type": "code",
   "execution_count": 1,
   "id": "cf7cbc8d",
   "metadata": {
    "ExecuteTime": {
     "end_time": "2021-11-06T20:10:47.957413Z",
     "start_time": "2021-11-06T20:10:47.953708Z"
    }
   },
   "outputs": [],
   "source": [
    "import pandas as pd\n",
    "import numpy as np\n",
    "import os\n",
    "from tqdm.notebook import tqdm\n",
    "import glob\n",
    "\n",
    "from bs4 import BeautifulSoup"
   ]
  },
  {
   "cell_type": "code",
   "execution_count": 2,
   "id": "27358720",
   "metadata": {
    "ExecuteTime": {
     "end_time": "2021-11-06T20:10:48.503836Z",
     "start_time": "2021-11-06T20:10:48.173093Z"
    }
   },
   "outputs": [],
   "source": [
    "# group4 = pd.read_csv('/Users/chahaksethi/Desktop/Target/data/group10/header.csv',\n",
    "#                       sep='\\t', low_memory=False)\n",
    "ip_file_dir = \"/Users/chahaksethi/Desktop/Target/data/scraped/\"\n",
    "file_list = glob.glob(\"/Users/chahaksethi/Desktop/Target/data/scraped/*\")\n",
    "tcin_completed = [file.split('/')[-1].split('_')[0] for file in file_list]\n",
    "total_tcin = list(set(pd.Series(tcin_completed).astype('int')))"
   ]
  },
  {
   "cell_type": "code",
   "execution_count": 3,
   "id": "48740ae6",
   "metadata": {
    "ExecuteTime": {
     "end_time": "2021-11-06T20:10:48.507337Z",
     "start_time": "2021-11-06T20:10:48.505008Z"
    }
   },
   "outputs": [
    {
     "data": {
      "text/plain": [
       "22860"
      ]
     },
     "execution_count": 3,
     "metadata": {},
     "output_type": "execute_result"
    }
   ],
   "source": [
    "len(total_tcin)"
   ]
  },
  {
   "cell_type": "code",
   "execution_count": 3,
   "id": "be94906d",
   "metadata": {
    "ExecuteTime": {
     "end_time": "2021-11-06T20:12:37.903951Z",
     "start_time": "2021-11-06T20:12:37.898480Z"
    }
   },
   "outputs": [],
   "source": [
    "def get_highlights(soup):\n",
    "    highlights = []\n",
    "    try:\n",
    "        highlight_tag = soup.find('h3', text='Highlights')\n",
    "        highlights_sib = highlight_tag.find_next()\n",
    "        highlights_spans = highlights_sib.find_all('span')\n",
    "        for s in highlights_spans:\n",
    "            highlights.append(s.text)\n",
    "    except:\n",
    "        highlights = np.nan\n",
    "    return highlights"
   ]
  },
  {
   "cell_type": "code",
   "execution_count": 9,
   "id": "6d7ea6e9",
   "metadata": {
    "ExecuteTime": {
     "end_time": "2021-11-06T20:12:38.338228Z",
     "start_time": "2021-11-06T20:12:38.329661Z"
    }
   },
   "outputs": [],
   "source": [
    "def get_specifications(soup):\n",
    "    specifications = []\n",
    "    try:\n",
    "        specifications_tag = soup.find('h3', text='Specifications')\n",
    "        for d in specifications_tag.parent.find_all('div'):\n",
    "            specifications.append(d.text)\n",
    "        specifications = [s for s in list(set(specifications))\n",
    "                          if not s.startswith('Content on this site is for reference purposes only')\n",
    "                          if not s.startswith('Grocery Disclaimer')]\n",
    "    except:\n",
    "        specifications = np.nan\n",
    "    return specifications"
   ]
  },
  {
   "cell_type": "code",
   "execution_count": 10,
   "id": "0681f4bb",
   "metadata": {
    "ExecuteTime": {
     "end_time": "2021-11-06T20:12:39.680708Z",
     "start_time": "2021-11-06T20:12:39.674787Z"
    }
   },
   "outputs": [],
   "source": [
    "def get_description(soup):\n",
    "    description_text = ''\n",
    "    try:\n",
    "        description_tag = soup.find('h3', text='Description')\n",
    "        description_sib = description_tag.find_next()\n",
    "        description_text = description_sib.text\n",
    "    except:\n",
    "        pass\n",
    "    return description_text"
   ]
  },
  {
   "cell_type": "code",
   "execution_count": 11,
   "id": "ef1f4704",
   "metadata": {
    "ExecuteTime": {
     "end_time": "2021-11-06T20:12:41.062429Z",
     "start_time": "2021-11-06T20:12:41.056961Z"
    }
   },
   "outputs": [],
   "source": [
    "def get_serving_info(soup):\n",
    "    serving_info = []\n",
    "    try:\n",
    "        nutrition = soup.find('div', {'data-test':\n",
    "                                      'productDetailsTabs-nutritionFactsTab'}).div.div.div\n",
    "        for p in nutrition.find_all('p'):\n",
    "            serving_info.append(p.text)\n",
    "    except:\n",
    "        serving_info = np.nan\n",
    "    return serving_info"
   ]
  },
  {
   "cell_type": "code",
   "execution_count": 12,
   "id": "5fd3abcd",
   "metadata": {
    "ExecuteTime": {
     "end_time": "2021-11-06T20:16:24.298741Z",
     "start_time": "2021-11-06T20:16:24.289314Z"
    }
   },
   "outputs": [],
   "source": [
    "def get_nutrition_info(soup):\n",
    "    nutrition_info = []\n",
    "    try:\n",
    "        nutrition = soup.find('div', {'data-test':\n",
    "                                      'productDetailsTabs-nutritionFactsTab'}).div.div.div\n",
    "        nutrition_tags = nutrition.find_all('div',\n",
    "                                            class_=lambda x: x and x.startswith(\"h-margin-t-tight\"))\n",
    "        for nutrition_tag in nutrition_tags:\n",
    "            text_split = nutrition_tag.span.text.split()\n",
    "            nutrition_info.append(\n",
    "                ([\" \".join(text_split[0:-1]), (text_split[-1])]))\n",
    "    except:\n",
    "        nutrition_info = np.nan\n",
    "    return nutrition_info"
   ]
  },
  {
   "cell_type": "code",
   "execution_count": 13,
   "id": "6f36031d",
   "metadata": {
    "ExecuteTime": {
     "end_time": "2021-11-06T20:12:44.528438Z",
     "start_time": "2021-11-06T20:12:44.523827Z"
    }
   },
   "outputs": [],
   "source": [
    "def get_ingredients(soup):\n",
    "    ingredients_text = ''\n",
    "    try:\n",
    "        ingredients_tag = soup.find('h4',\n",
    "                                    text=lambda x: x.startswith('Ingredients'))\n",
    "        ingredients_sib = ingredients_tag.find_next()\n",
    "        ingredients_text = ingredients_sib.text\n",
    "    except:\n",
    "        pass\n",
    "    return ingredients_text"
   ]
  },
  {
   "cell_type": "code",
   "execution_count": 14,
   "id": "141d6dba",
   "metadata": {
    "ExecuteTime": {
     "end_time": "2021-11-06T20:12:44.975956Z",
     "start_time": "2021-11-06T20:12:44.971233Z"
    }
   },
   "outputs": [],
   "source": [
    "def get_allergens(soup):\n",
    "    allergens_text = ''\n",
    "    try:\n",
    "        allergens = soup.find('h4',\n",
    "                              text=lambda x: x.startswith('Allergens & Warnings'))\n",
    "        allergens_text = allergens.parent.text\n",
    "    except:\n",
    "        pass\n",
    "    return allergens_text"
   ]
  },
  {
   "cell_type": "code",
   "execution_count": 15,
   "id": "cb9cfc83",
   "metadata": {
    "ExecuteTime": {
     "end_time": "2021-11-06T20:12:46.884812Z",
     "start_time": "2021-11-06T20:12:46.876578Z"
    }
   },
   "outputs": [],
   "source": [
    "def get_price(soup):\n",
    "    product_price = np.nan\n",
    "    try:\n",
    "        product_price_tag = soup.find('div', {'data-test': 'product-price'})\n",
    "        product_price = float(product_price_tag.get_text()[1:])\n",
    "    except:\n",
    "        pass\n",
    "    return product_price\n",
    "\n",
    "\n",
    "def get_rating(soup):\n",
    "    rating = np.nan\n",
    "    try:\n",
    "        rating_tag = soup.find('span', {'data-test': 'ratings'})\n",
    "        rating = float(rating_tag.get_text().split()[0])\n",
    "    except:\n",
    "        pass\n",
    "    return rating\n",
    "\n",
    "\n",
    "def get_n_reviews(soup):\n",
    "    n_reviews = np.nan\n",
    "    try:\n",
    "        n_reviews_tag = soup.find('span', {'data-test': 'ratings'})\n",
    "        n_reviews = int(n_reviews_tag.get_text().split()[-2])\n",
    "    except:\n",
    "        pass\n",
    "    return n_reviews"
   ]
  },
  {
   "cell_type": "code",
   "execution_count": 16,
   "id": "10acfcb8",
   "metadata": {
    "ExecuteTime": {
     "end_time": "2021-11-06T21:11:03.725821Z",
     "start_time": "2021-11-06T20:20:41.481710Z"
    }
   },
   "outputs": [
    {
     "data": {
      "application/vnd.jupyter.widget-view+json": {
       "model_id": "7ea3fce5dfbe4d62804b2abcb46113d5",
       "version_major": 2,
       "version_minor": 0
      },
      "text/plain": [
       "  0%|          | 0/22860 [00:00<?, ?it/s]"
      ]
     },
     "metadata": {},
     "output_type": "display_data"
    }
   ],
   "source": [
    "op_file_path = os.path.join(ip_file_dir, 'products.csv')\n",
    "products = []\n",
    "for i, tcin in enumerate(tqdm(total_tcin)):\n",
    "    try:\n",
    "        path = os.path.join(ip_file_dir, str(tcin) + '_details.html')\n",
    "        with open(path) as f:\n",
    "            html = f.read()\n",
    "        details_soup = BeautifulSoup(html)\n",
    "\n",
    "        product = {}\n",
    "        product['tcin'] = tcin\n",
    "        product['price'] = get_price(details_soup)\n",
    "        product['rating'] = get_rating(details_soup)\n",
    "        product['n_reviews'] = get_n_reviews(details_soup)\n",
    "        product['highlights'] = get_highlights(details_soup)\n",
    "        product['specifications'] = get_specifications(details_soup)\n",
    "        product['description'] = get_description(details_soup)\n",
    "\n",
    "        path = os.path.join(ip_file_dir, str(tcin) + '_label_info.html')\n",
    "        if os.path.isfile(path):\n",
    "            with open(path) as f:\n",
    "                html = f.read()\n",
    "        label_info_soup = BeautifulSoup(html)\n",
    "        product['serving_info'] = get_serving_info(label_info_soup)\n",
    "        product['nutrition_info'] = get_nutrition_info(label_info_soup)\n",
    "        product['ingredients'] = get_ingredients(label_info_soup)\n",
    "        product['allergens'] = get_allergens(label_info_soup)\n",
    "\n",
    "        products.append(product)\n",
    "\n",
    "        if i % 50 == 0:\n",
    "            products_df = pd.DataFrame(products)\n",
    "            products_df.to_csv(op_file_path, index=False)\n",
    "    except:\n",
    "        print(tcin)\n",
    "        pass\n",
    "\n",
    "products_df = pd.DataFrame(products)\n",
    "products_df.to_csv(op_file_path, index=False)"
   ]
  },
  {
   "cell_type": "code",
   "execution_count": 12,
   "id": "e42d568a",
   "metadata": {},
   "outputs": [],
   "source": [
    "def get_images(soup):\n",
    "    images = []\n",
    "    try:\n",
    "        product_image_div = soup.find('div', {'data-test':\n",
    "                                  'product-image'})\n",
    "        product_images = product_image_div.find_all('img')\n",
    "        for image in product_images:\n",
    "            images.append(image['src'])\n",
    "    except:\n",
    "        images = np.nan\n",
    "    return images"
   ]
  },
  {
   "cell_type": "code",
   "execution_count": 13,
   "id": "aa2a08b1",
   "metadata": {},
   "outputs": [],
   "source": [
    "def get_image(soup):\n",
    "    image = np.nan\n",
    "    try:\n",
    "        product_images_div = soup.find('div', {'data-test':\n",
    "                                  'product-image'})\n",
    "        product_image_div = product_images_div.find('div', {'aria-hidden': 'false'})\n",
    "        product_image = product_image_div.find('img')\n",
    "        image = product_image['src']\n",
    "    except:\n",
    "        pass\n",
    "    return image"
   ]
  },
  {
   "cell_type": "code",
   "execution_count": 14,
   "id": "e1cbe3a6",
   "metadata": {},
   "outputs": [],
   "source": [
    "op_file_path = os.path.join(ip_file_dir, 'product_image.csv')"
   ]
  },
  {
   "cell_type": "code",
   "execution_count": 16,
   "id": "298c4a4b",
   "metadata": {},
   "outputs": [
    {
     "data": {
      "application/vnd.jupyter.widget-view+json": {
       "model_id": "7b9301c4eb9e415b81f99f1f20f569cc",
       "version_major": 2,
       "version_minor": 0
      },
      "text/plain": [
       "  0%|          | 0/22860 [00:00<?, ?it/s]"
      ]
     },
     "metadata": {},
     "output_type": "display_data"
    }
   ],
   "source": [
    "products = []\n",
    "for i, tcin in enumerate(tqdm(total_tcin)):\n",
    "    try:\n",
    "        path = os.path.join(ip_file_dir, str(tcin) + '_details.html')\n",
    "        with open(path) as f:\n",
    "            html = f.read()\n",
    "        details_soup = BeautifulSoup(html)\n",
    "\n",
    "        product = {}\n",
    "        product['tcin'] = tcin\n",
    "        product['image'] = get_image(details_soup)\n",
    "\n",
    "        products.append(product)\n",
    "\n",
    "        if i % 50 == 0:\n",
    "            products_df = pd.DataFrame(products)\n",
    "            products_df.to_csv(op_file_path, index=False)\n",
    "    except:\n",
    "        print(tcin)\n",
    "        pass\n",
    "\n",
    "products_df = pd.DataFrame(products)\n",
    "products_df.to_csv(op_file_path, index=False)"
   ]
  },
  {
   "cell_type": "code",
   "execution_count": 17,
   "id": "2c5bdf2e",
   "metadata": {},
   "outputs": [
    {
     "data": {
      "application/vnd.jupyter.widget-view+json": {
       "model_id": "da178169628e4bb9b0ebf5f4387f7fec",
       "version_major": 2,
       "version_minor": 0
      },
      "text/plain": [
       "  0%|          | 0/22860 [00:00<?, ?it/s]"
      ]
     },
     "metadata": {},
     "output_type": "display_data"
    }
   ],
   "source": [
    "op_file_path = os.path.join(ip_file_dir, 'product_images.csv')\n",
    "products = []\n",
    "for i, tcin in enumerate(tqdm(total_tcin)):\n",
    "    try:\n",
    "        path = os.path.join(ip_file_dir, str(tcin) + '_details.html')\n",
    "        with open(path) as f:\n",
    "            html = f.read()\n",
    "        details_soup = BeautifulSoup(html)\n",
    "\n",
    "        product = {}\n",
    "        product['tcin'] = tcin\n",
    "        product['images'] = get_images(details_soup)\n",
    "\n",
    "        products.append(product)\n",
    "\n",
    "        if i % 50 == 0:\n",
    "            products_df = pd.DataFrame(products)\n",
    "            products_df.to_csv(op_file_path, index=False)\n",
    "    except:\n",
    "        print(tcin)\n",
    "        pass\n",
    "\n",
    "products_df = pd.DataFrame(products)\n",
    "products_df.to_csv(op_file_path, index=False)\n",
    "product_images = pd.read_csv(op_file_path)"
   ]
  },
  {
   "cell_type": "code",
   "execution_count": 20,
   "id": "ff4db190",
   "metadata": {
    "ExecuteTime": {
     "end_time": "2021-11-06T21:11:06.880594Z",
     "start_time": "2021-11-06T21:11:06.464621Z"
    }
   },
   "outputs": [],
   "source": [
    "op_file_path = os.path.join(ip_file_dir, 'product_image.csv')\n",
    "product_image = pd.read_csv(op_file_path)\n",
    "op_file_path = os.path.join(ip_file_dir, 'product_images.csv')\n",
    "product_images = pd.read_csv(op_file_path)"
   ]
  },
  {
   "cell_type": "code",
   "execution_count": 21,
   "id": "30720aea",
   "metadata": {},
   "outputs": [],
   "source": [
    "op_file_path = os.path.join(ip_file_dir, 'products_group4.csv')\n",
    "products = pd.read_csv(op_file_path)\n",
    "\n",
    "\n",
    "products_new = pd.merge(products, product_image, how='left', on='tcin')\n",
    "products_new = pd.merge(products_new, product_images, how='left', on='tcin')\n",
    "products_new.to_csv(op_file_path, index=False)"
   ]
  },
  {
   "cell_type": "code",
   "execution_count": 22,
   "id": "493ac324",
   "metadata": {},
   "outputs": [],
   "source": [
    "products = pd.read_csv(op_file_path)"
   ]
  },
  {
   "cell_type": "code",
   "execution_count": 28,
   "id": "5e370464",
   "metadata": {
    "ExecuteTime": {
     "end_time": "2021-11-06T21:11:07.524076Z",
     "start_time": "2021-11-06T21:11:07.496538Z"
    }
   },
   "outputs": [],
   "source": [
    "# products = products.drop(['images_y'], axis=1)\n",
    "products = products.rename(columns={\"images_x\": \"images\"})"
   ]
  },
  {
   "cell_type": "code",
   "execution_count": 29,
   "id": "ccfb25e8",
   "metadata": {},
   "outputs": [],
   "source": [
    "products.to_csv(op_file_path, index=False)"
   ]
  },
  {
   "cell_type": "code",
   "execution_count": 30,
   "id": "c1d5e16c",
   "metadata": {},
   "outputs": [
    {
     "data": {
      "text/html": [
       "<div>\n",
       "<style scoped>\n",
       "    .dataframe tbody tr th:only-of-type {\n",
       "        vertical-align: middle;\n",
       "    }\n",
       "\n",
       "    .dataframe tbody tr th {\n",
       "        vertical-align: top;\n",
       "    }\n",
       "\n",
       "    .dataframe thead th {\n",
       "        text-align: right;\n",
       "    }\n",
       "</style>\n",
       "<table border=\"1\" class=\"dataframe\">\n",
       "  <thead>\n",
       "    <tr style=\"text-align: right;\">\n",
       "      <th></th>\n",
       "      <th>tcin</th>\n",
       "      <th>price</th>\n",
       "      <th>rating</th>\n",
       "      <th>n_reviews</th>\n",
       "      <th>highlights</th>\n",
       "      <th>specifications</th>\n",
       "      <th>description</th>\n",
       "      <th>serving_info</th>\n",
       "      <th>nutrition_info</th>\n",
       "      <th>ingredients</th>\n",
       "      <th>allergens</th>\n",
       "      <th>images</th>\n",
       "      <th>image</th>\n",
       "    </tr>\n",
       "  </thead>\n",
       "  <tbody>\n",
       "    <tr>\n",
       "      <th>0</th>\n",
       "      <td>82444295</td>\n",
       "      <td>303.10</td>\n",
       "      <td>NaN</td>\n",
       "      <td>0.0</td>\n",
       "      <td>['MAXIMIZES SPACE: Sliding pull out freezer ca...</td>\n",
       "      <td>['Dimensions (Overall): 5 inches (H) x 21.6 in...</td>\n",
       "      <td>Traveling can be stressful, but with the MORry...</td>\n",
       "      <td>NaN</td>\n",
       "      <td>NaN</td>\n",
       "      <td>NaN</td>\n",
       "      <td>NaN</td>\n",
       "      <td>NaN</td>\n",
       "      <td>NaN</td>\n",
       "    </tr>\n",
       "    <tr>\n",
       "      <th>1</th>\n",
       "      <td>84672533</td>\n",
       "      <td>14.99</td>\n",
       "      <td>NaN</td>\n",
       "      <td>0.0</td>\n",
       "      <td>NaN</td>\n",
       "      <td>['UPC: 192173178836', \"Warranty: No Applicable...</td>\n",
       "      <td>This Freestanding Countertop Paper Towel Holde...</td>\n",
       "      <td>NaN</td>\n",
       "      <td>NaN</td>\n",
       "      <td>NaN</td>\n",
       "      <td>NaN</td>\n",
       "      <td>['https://target.scene7.com/is/image/Target/GU...</td>\n",
       "      <td>https://target.scene7.com/is/image/Target/GUES...</td>\n",
       "    </tr>\n",
       "  </tbody>\n",
       "</table>\n",
       "</div>"
      ],
      "text/plain": [
       "       tcin   price  rating  n_reviews  \\\n",
       "0  82444295  303.10     NaN        0.0   \n",
       "1  84672533   14.99     NaN        0.0   \n",
       "\n",
       "                                          highlights  \\\n",
       "0  ['MAXIMIZES SPACE: Sliding pull out freezer ca...   \n",
       "1                                                NaN   \n",
       "\n",
       "                                      specifications  \\\n",
       "0  ['Dimensions (Overall): 5 inches (H) x 21.6 in...   \n",
       "1  ['UPC: 192173178836', \"Warranty: No Applicable...   \n",
       "\n",
       "                                         description serving_info  \\\n",
       "0  Traveling can be stressful, but with the MORry...          NaN   \n",
       "1  This Freestanding Countertop Paper Towel Holde...          NaN   \n",
       "\n",
       "  nutrition_info ingredients allergens  \\\n",
       "0            NaN         NaN       NaN   \n",
       "1            NaN         NaN       NaN   \n",
       "\n",
       "                                              images  \\\n",
       "0                                                NaN   \n",
       "1  ['https://target.scene7.com/is/image/Target/GU...   \n",
       "\n",
       "                                               image  \n",
       "0                                                NaN  \n",
       "1  https://target.scene7.com/is/image/Target/GUES...  "
      ]
     },
     "execution_count": 30,
     "metadata": {},
     "output_type": "execute_result"
    }
   ],
   "source": [
    "products.head(2)"
   ]
  },
  {
   "cell_type": "code",
   "execution_count": null,
   "id": "161cf455",
   "metadata": {},
   "outputs": [],
   "source": []
  }
 ],
 "metadata": {
  "kernelspec": {
   "display_name": "Python 3 (ipykernel)",
   "language": "python",
   "name": "python3"
  },
  "language_info": {
   "codemirror_mode": {
    "name": "ipython",
    "version": 3
   },
   "file_extension": ".py",
   "mimetype": "text/x-python",
   "name": "python",
   "nbconvert_exporter": "python",
   "pygments_lexer": "ipython3",
   "version": "3.8.11"
  }
 },
 "nbformat": 4,
 "nbformat_minor": 5
}
