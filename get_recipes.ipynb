{
 "cells": [
  {
   "cell_type": "code",
   "execution_count": 1,
   "id": "15c044ca",
   "metadata": {},
   "outputs": [],
   "source": [
    "#%pip install requests"
   ]
  },
  {
   "cell_type": "code",
   "execution_count": 49,
   "id": "4fc8d448",
   "metadata": {},
   "outputs": [],
   "source": [
    "import requests"
   ]
  },
  {
   "cell_type": "code",
   "execution_count": 50,
   "id": "8c95e52d",
   "metadata": {},
   "outputs": [],
   "source": [
    "headers = {\n",
    "    'x-rapidapi-key': \"70fcf77facmshaf5555f7be26d0cp11fe0ejsn74b399108a64\",\n",
    "    'x-rapidapi-host': \"tasty.p.rapidapi.com\"\n",
    "    }\n",
    "\n",
    "offset = 0\n",
    "size = 20\n",
    "tags = \"korean\""
   ]
  },
  {
   "cell_type": "code",
   "execution_count": 52,
   "id": "fff0727e",
   "metadata": {},
   "outputs": [],
   "source": [
    "url = \"https://tasty.p.rapidapi.com/recipes/list\"\n",
    "querystring = {\"from\": f\"{str(offset)}\",\"size\":f\"{str(size)}\",\"tags\":f\"{tags}\"}\n",
    "response = requests.request(\"GET\", url, headers=headers, params=querystring)"
   ]
  },
  {
   "cell_type": "code",
   "execution_count": 54,
   "id": "3c5e9330",
   "metadata": {},
   "outputs": [],
   "source": [
    "response_json = response.json().items()"
   ]
  },
  {
   "cell_type": "code",
   "execution_count": 72,
   "id": "5c4a7c7d",
   "metadata": {},
   "outputs": [
    {
     "name": "stdout",
     "output_type": "stream",
     "text": [
      "7520\n",
      "7386\n",
      "2390\n",
      "7317\n",
      "7318\n",
      "7319\n",
      "7320\n",
      "7321\n",
      "7322\n",
      "7323\n",
      "2282\n",
      "2182\n",
      "7129\n",
      "7130\n",
      "7131\n",
      "7095\n",
      "2135\n",
      "1624\n",
      "6467\n",
      "1495\n"
     ]
    }
   ],
   "source": [
    "id = []\n",
    "for recipe in list(response_json)[1][1]:\n",
    "    print(recipe.get('id'))\n",
    "    id.append(recipe.get('id'))"
   ]
  },
  {
   "cell_type": "code",
   "execution_count": 73,
   "id": "65aeba40",
   "metadata": {},
   "outputs": [],
   "source": [
    "# retrieve the first recipe for now.\n",
    "id_querystring = {\"id\":id[0]}\n",
    "url = \"https://tasty.p.rapidapi.com/recipes/detail\"\n",
    "headers = {\n",
    "    'x-rapidapi-key': \"70fcf77facmshaf5555f7be26d0cp11fe0ejsn74b399108a64\",\n",
    "    'x-rapidapi-host': \"tasty.p.rapidapi.com\"\n",
    "    }\n",
    "response = requests.request(\"GET\", url, headers=headers, params=id_querystring)"
   ]
  },
  {
   "cell_type": "code",
   "execution_count": 74,
   "id": "3ffd4669",
   "metadata": {},
   "outputs": [],
   "source": [
    "recipe = response.json()"
   ]
  },
  {
   "cell_type": "code",
   "execution_count": 78,
   "id": "5886edb0",
   "metadata": {
    "scrolled": false
   },
   "outputs": [
    {
     "data": {
      "text/plain": [
       "'Korean-Inspired Pulled Pork Sandwiches'"
      ]
     },
     "execution_count": 78,
     "metadata": {},
     "output_type": "execute_result"
    }
   ],
   "source": [
    "recipe.get('name')"
   ]
  },
  {
   "cell_type": "code",
   "execution_count": 80,
   "id": "bf2fbc23",
   "metadata": {
    "scrolled": false
   },
   "outputs": [
    {
     "name": "stdout",
     "output_type": "stream",
     "text": [
      "canola oil\n",
      "garlic\n",
      "gochujang\n",
      "soy sauce\n",
      "honey\n",
      "rice vinegar\n",
      "sesame oil\n",
      "Kroger® Hardwood Smoked Pulled Pork\n",
      "purple cabbage\n",
      "carrot\n",
      "kosher salt\n",
      "brioche  bun\n",
      "fresh cilantro\n",
      "jalapeño\n"
     ]
    }
   ],
   "source": [
    "for ingredient in recipe.get('sections')[0].get('components'):\n",
    "    print(ingredient.get('ingredient').get('name'))"
   ]
  },
  {
   "cell_type": "code",
   "execution_count": null,
   "id": "f539567b",
   "metadata": {},
   "outputs": [],
   "source": []
  }
 ],
 "metadata": {
  "kernelspec": {
   "display_name": "Python 3",
   "language": "python",
   "name": "python3"
  },
  "language_info": {
   "codemirror_mode": {
    "name": "ipython",
    "version": 3
   },
   "file_extension": ".py",
   "mimetype": "text/x-python",
   "name": "python",
   "nbconvert_exporter": "python",
   "pygments_lexer": "ipython3",
   "version": "3.9.5"
  },
  "varInspector": {
   "cols": {
    "lenName": 16,
    "lenType": 16,
    "lenVar": 40
   },
   "kernels_config": {
    "python": {
     "delete_cmd_postfix": "",
     "delete_cmd_prefix": "del ",
     "library": "var_list.py",
     "varRefreshCmd": "print(var_dic_list())"
    },
    "r": {
     "delete_cmd_postfix": ") ",
     "delete_cmd_prefix": "rm(",
     "library": "var_list.r",
     "varRefreshCmd": "cat(var_dic_list()) "
    }
   },
   "types_to_exclude": [
    "module",
    "function",
    "builtin_function_or_method",
    "instance",
    "_Feature"
   ],
   "window_display": false
  }
 },
 "nbformat": 4,
 "nbformat_minor": 5
}
