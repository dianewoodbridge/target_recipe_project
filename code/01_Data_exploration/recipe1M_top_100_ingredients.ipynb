{
 "cells": [
  {
   "cell_type": "code",
   "execution_count": 1,
   "id": "f2668901",
   "metadata": {
    "ExecuteTime": {
     "end_time": "2021-11-28T03:07:56.721404Z",
     "start_time": "2021-11-28T03:07:56.716371Z"
    }
   },
   "outputs": [],
   "source": [
    "import json\n",
    "import re\n",
    "import pandas as pd \n",
    "import numpy as np\n",
    "from nltk.stem.porter import PorterStemmer\n",
    "pd.set_option('display.max_columns', None)\n",
    "pd.set_option('display.max_rows', None)\n",
    "from pathlib import Path\n",
    "PATH = Path(\"\")"
   ]
  },
  {
   "cell_type": "code",
   "execution_count": 2,
   "id": "d592b467-782c-4017-9629-bbcce002417b",
   "metadata": {},
   "outputs": [],
   "source": [
    "data_path = PATH.home()/'data/Target/data/'\n",
    "model_path = PATH.home()/'data/Target/models/group10'\n",
    "recipe_path = data_path/\"layer1.json\"\n",
    "recipe_image_path = data_path/\"layer2.json\"\n",
    "op_file_path = data_path/\"ing_density.csv\""
   ]
  },
  {
   "cell_type": "code",
   "execution_count": 3,
   "id": "37b4640b",
   "metadata": {
    "ExecuteTime": {
     "end_time": "2021-11-28T02:56:52.391542Z",
     "start_time": "2021-11-28T02:56:15.171581Z"
    }
   },
   "outputs": [],
   "source": [
    "with open(recipe_path) as json_data:\n",
    "    recipe = json.load(json_data)"
   ]
  },
  {
   "cell_type": "code",
   "execution_count": 77,
   "id": "27584c0f",
   "metadata": {
    "ExecuteTime": {
     "end_time": "2021-11-28T03:03:37.338237Z",
     "start_time": "2021-11-28T03:03:37.324330Z"
    }
   },
   "outputs": [],
   "source": [
    "def recipe_load(n):\n",
    "    dict_ingredients = {'id_recipe':[],\n",
    "                        'ingredient': [],\n",
    "                        'unit': [],\n",
    "                        'quantity': []\n",
    "                        }\n",
    "    for i in range(0,n):\n",
    "        title = recipe[i]['title']\n",
    "        id = recipe[i]['id']\n",
    "#         print(id)\n",
    "#         print(f'Recipe: {title}')\n",
    "        unit_regex = r\" ounces | ounce | oz | teaspoon | grams | teaspoons | cups | cup | tablespoon | tablespoons | tbsp | tsp | can | lb | pound | count | ml | pinch | pounds \"\n",
    "\n",
    "        for lis in recipe[i]['ingredients']:\n",
    "            for key, val in lis.items():\n",
    "                \n",
    "#                 print(val)\n",
    "                rem = re.sub(\"[\\(\\[].*?[\\)\\]]\", \"\", val)\n",
    "                rem = re.sub(' c. ', ' cup ', rem)\n",
    "                rem = re.sub(\"[.]\", \"\", rem)\n",
    "                rem = re.sub(\"packages\", \"count\", rem)\n",
    "                rem = re.sub(\"cloves\", \"clove\", rem)\n",
    "                \n",
    "                #multiple ingredients separated by 'or' - return first one wth unit\n",
    "                if ' or ' in rem:\n",
    "                    multi_ing = re.split(' or ', rem)\n",
    "#                     print(multi_ing)\n",
    "                    for j in range(len(multi_ing)):\n",
    "                        u = re.findall(unit_regex, multi_ing[j],  flags=re.I)\n",
    "                        if len(u)>0:\n",
    "                            rem = multi_ing[j]\n",
    "                            break\n",
    "#                 print(rem)\n",
    "                # If ingredient read is not empty\n",
    "                if rem != '':\n",
    "                    u = re.findall(unit_regex, rem,  flags=re.I)\n",
    "                    #if no unit read\n",
    "                    if len(u) == 0:\n",
    "                        qty = re.split(' ', rem)\n",
    "                        qty_list = re.findall('[0-9/]+', qty[0])\n",
    "                        \n",
    "                        if len(qty_list) != 0:\n",
    "\n",
    "                            dict_ingredients['quantity'].append(qty_list[-1])\n",
    "                            dict_ingredients['unit'].append('count')\n",
    "                            j = ' '.join(i for i in qty[1:])\n",
    "                            dict_ingredients['ingredient'].append(j.split(',')[0].strip())\n",
    "\n",
    "                        else:\n",
    "                            dict_ingredients['quantity'].append(np.nan)\n",
    "                            dict_ingredients['unit'].append('')\n",
    "                            j = ' '.join(i for i in qty)\n",
    "                            dict_ingredients['ingredient'].append(j.split(',')[0].strip())\n",
    "                    # If unit read\n",
    "                    else:\n",
    "                        qty = re.split(unit_regex, rem,  flags=re.I)[0].strip()\n",
    "                        if 'to' in qty:\n",
    "                            qty = re.split('to', qty,  flags=re.I)[1].strip()\n",
    "                        elif 'about' in qty:\n",
    "                            qty = re.split('about', qty,  flags=re.I)[1].strip()\n",
    "                        qty_list = re.findall('[0-9/]+', qty)\n",
    "#                         print(qty_list)\n",
    "                        # If single quantity parsed\n",
    "                        if len(qty_list) == 1:\n",
    "                            dict_ingredients['unit'].append(u[0])\n",
    "                            dict_ingredients['quantity'].append(qty_list[0])\n",
    "                            j = re.split(unit_regex, rem,  flags=re.I)[1].split(' or ')[0]\n",
    "                            dict_ingredients['ingredient'].append(j.split(',')[0].strip())\n",
    "\n",
    "                        # If multiple quantity values parsed  \n",
    "                        elif len(qty_list) > 1:\n",
    "                            # If quantity parsed in fractions\n",
    "                            if re.findall(r'/', qty):\n",
    "                                qt = qty_list[0] + '-' + qty_list[1]\n",
    "                                dict_ingredients['quantity'].append(qt)\n",
    "                                dict_ingredients['unit'].append(u[0])\n",
    "                                j = re.split(unit_regex, rem,  flags=re.I)[1].split(' or ')[0]\n",
    "                                dict_ingredients['ingredient'].append(j.split(',')[0].strip())\n",
    "\n",
    "                            # If multiple quantities parsed are not in fractions \n",
    "                            elif len(qty_list[1])>1:\n",
    "                                if u[0].strip() in ['grams','gram']:\n",
    "                                    qt = max(qty_list)\n",
    "                                    dict_ingredients['quantity'].append(qt)\n",
    "                                    dict_ingredients['unit'].append(u[0])\n",
    "                                    j = re.split(unit_regex, rem,  flags=re.I)[1].split(' or ')[0]\n",
    "                                    dict_ingredients['ingredient'].append(j.split(',')[0].strip())\n",
    "                                else:\n",
    "                                    qt = qty_list[0] + '-'+ qty_list[1][0] + '/'+ qty_list[1][1]\n",
    "                                    dict_ingredients['quantity'].append(qt)\n",
    "                                    dict_ingredients['unit'].append(u[0])\n",
    "                                    j = re.split(unit_regex, rem,  flags=re.I)[1].split(' or ')[0]\n",
    "                                    dict_ingredients['ingredient'].append(j.split(',')[0].strip())\n",
    "                            elif int(qty_list[1])>1:\n",
    "                                qt = max(qty_list)\n",
    "                                dict_ingredients['quantity'].append(qt)\n",
    "                                dict_ingredients['unit'].append(u[0])\n",
    "                                j = re.split(unit_regex, rem,  flags=re.I)[1].split(' or ')[0]\n",
    "                                dict_ingredients['ingredient'].append(j.split(',')[0].strip())\n",
    "                            else: \n",
    "                                dict_ingredients['quantity'].append(qty_list[0])\n",
    "                                dict_ingredients['unit'].append('count')\n",
    "                                j = ' '.join(i for i in qty.split(' ')[1:])\n",
    "                                dict_ingredients['ingredient'].append(j.split(',')[0].strip())\n",
    "\n",
    "                        else:\n",
    "                            dict_ingredients['quantity'].append(np.nan)\n",
    "                            dict_ingredients['unit'].append('')\n",
    "                            j = ' '.join(i for i in qty)\n",
    "                            dict_ingredients['ingredient'].append(j.split(',')[0].strip())\n",
    "                    dict_ingredients['id_recipe'].append(i)\n",
    "    return dict_ingredients\n",
    "def convert_fraction(utf):\n",
    "    if utf is np.nan:\n",
    "        return utf\n",
    "    pattern_1 = r'/'\n",
    "    pattern_2 = r'-'\n",
    "    utf = re.sub(\"//\", \"/\", utf)\n",
    "    \n",
    "    if '/' in re.findall(pattern_1, utf) and '-' in re.findall(pattern_2, utf):\n",
    "        first =  re.split(pattern_2, utf) \n",
    "        if '/' in re.findall(pattern_1, first[0].strip()):\n",
    "            g = re.split(pattern_1, first[0].strip())\n",
    "#             print(utf,g)\n",
    "            if g[1]=='':\n",
    "                return np.nan\n",
    "            g_2 = int(g[0]) / int(g[1])\n",
    "        else: g_2 = int(first[0].strip())\n",
    "        d = re.split(pattern_1, first[1].strip())\n",
    "#         print(utf,d)\n",
    "        if len(d)==1 and g_2<int(d[0]):\n",
    "            return int(d[0])\n",
    "        elif len(d[1])>2 :\n",
    "            return np.nan\n",
    "        elif d[1]=='':\n",
    "            return np.nan\n",
    "        elif d[0]=='' :\n",
    "            d[0] = d[1][0:1]\n",
    "            d[1] = d[1][-1]\n",
    "        if d[1]=='0':\n",
    "            return np.nan\n",
    "#         print(utf,g_2,d)\n",
    "        number =g_2 + int(d[0]) / int(d[1])\n",
    "        return number    \n",
    "    \n",
    "    elif '/' in re.findall(pattern_1, utf):\n",
    "        d = re.split(pattern_1, utf)\n",
    "#         print(utf,d)\n",
    "        if d[1]=='0' or d[1] =='':\n",
    "            return np.nan\n",
    "        elif d[0]=='':\n",
    "            return int(d[1])\n",
    "        number = int(d[0]) / int(d[1])\n",
    "        return number\n",
    "    elif '-' in re.findall(pattern_2, utf):\n",
    "        d = re.split(pattern_2, utf)\n",
    "        if d[1]=='0' or d[1] =='':\n",
    "            return np.nan\n",
    "        number = int(d[0]) / int(d[1])\n",
    "        return number\n",
    "\n",
    "    return utf"
   ]
  },
  {
   "cell_type": "code",
   "execution_count": 80,
   "id": "678cec68",
   "metadata": {
    "ExecuteTime": {
     "end_time": "2021-11-28T03:05:12.882596Z",
     "start_time": "2021-11-28T03:04:28.425028Z"
    }
   },
   "outputs": [],
   "source": [
    "dict_ingredients= recipe_load(n=100000)\n",
    "df_combined_ing = pd.DataFrame.from_dict(dict_ingredients)\n",
    "\n",
    "df_combined_ing = df_combined_ing[df_combined_ing['quantity'] !='21/2-3']\n",
    "df_combined_ing['quantity'] = df_combined_ing['quantity'].apply(convert_fraction)\n",
    "df_combined_ing = df_combined_ing[df_combined_ing['quantity'] !=np.nan]"
   ]
  },
  {
   "cell_type": "code",
   "execution_count": 69,
   "id": "7ad6f402-519c-41cb-b3bb-b798e19d041f",
   "metadata": {},
   "outputs": [
    {
     "data": {
      "text/plain": [
       "(929728, 4)"
      ]
     },
     "execution_count": 69,
     "metadata": {},
     "output_type": "execute_result"
    }
   ],
   "source": [
    "df_combined_ing.shape"
   ]
  },
  {
   "cell_type": "code",
   "execution_count": 156,
   "id": "eb41184a-7642-4d04-abf4-5ab02b757fff",
   "metadata": {},
   "outputs": [],
   "source": [
    "df_combined_ing['ingredient_proc'] = df_combined_ing['ingredient'].str.lower()\n",
    "df_combined_ing['ingredient_proc'] = df_combined_ing['ingredient_proc'].str.strip()\n",
    "# ingredient_lower = pd.Series([re.sub(fr'^s ', '', ingredient) for ingredient in ingredient_lower])"
   ]
  },
  {
   "cell_type": "code",
   "execution_count": 44,
   "id": "a7f9b9a8-eb6f-4be7-8571-e031122e69f6",
   "metadata": {},
   "outputs": [
    {
     "data": {
      "text/html": [
       "<div>\n",
       "<style scoped>\n",
       "    .dataframe tbody tr th:only-of-type {\n",
       "        vertical-align: middle;\n",
       "    }\n",
       "\n",
       "    .dataframe tbody tr th {\n",
       "        vertical-align: top;\n",
       "    }\n",
       "\n",
       "    .dataframe thead th {\n",
       "        text-align: right;\n",
       "    }\n",
       "</style>\n",
       "<table border=\"1\" class=\"dataframe\">\n",
       "  <thead>\n",
       "    <tr style=\"text-align: right;\">\n",
       "      <th></th>\n",
       "      <th>id_recipe</th>\n",
       "      <th>ingredient</th>\n",
       "      <th>unit</th>\n",
       "      <th>quantity</th>\n",
       "    </tr>\n",
       "  </thead>\n",
       "  <tbody>\n",
       "    <tr>\n",
       "      <th>0</th>\n",
       "      <td>1</td>\n",
       "      <td>small jello orange</td>\n",
       "      <td>count</td>\n",
       "      <td>1</td>\n",
       "    </tr>\n",
       "    <tr>\n",
       "      <th>1</th>\n",
       "      <td>1</td>\n",
       "      <td>water boiling</td>\n",
       "      <td>cup</td>\n",
       "      <td>1</td>\n",
       "    </tr>\n",
       "    <tr>\n",
       "      <th>2</th>\n",
       "      <td>1</td>\n",
       "      <td>pint vanilla ice cream softened</td>\n",
       "      <td>count</td>\n",
       "      <td>1</td>\n",
       "    </tr>\n",
       "  </tbody>\n",
       "</table>\n",
       "</div>"
      ],
      "text/plain": [
       "   id_recipe                       ingredient   unit quantity\n",
       "0          1               small jello orange  count        1\n",
       "1          1                    water boiling   cup         1\n",
       "2          1  pint vanilla ice cream softened  count        1"
      ]
     },
     "execution_count": 44,
     "metadata": {},
     "output_type": "execute_result"
    }
   ],
   "source": [
    "df_combined_ing.head(3)"
   ]
  },
  {
   "cell_type": "code",
   "execution_count": 81,
   "id": "2f58eb85-ceb3-421a-a847-5417d495e32d",
   "metadata": {},
   "outputs": [
    {
     "data": {
      "text/html": [
       "<div>\n",
       "<style scoped>\n",
       "    .dataframe tbody tr th:only-of-type {\n",
       "        vertical-align: middle;\n",
       "    }\n",
       "\n",
       "    .dataframe tbody tr th {\n",
       "        vertical-align: top;\n",
       "    }\n",
       "\n",
       "    .dataframe thead th {\n",
       "        text-align: right;\n",
       "    }\n",
       "</style>\n",
       "<table border=\"1\" class=\"dataframe\">\n",
       "  <thead>\n",
       "    <tr style=\"text-align: right;\">\n",
       "      <th></th>\n",
       "      <th>id_recipe</th>\n",
       "      <th>ingredient</th>\n",
       "      <th>unit</th>\n",
       "      <th>quantity</th>\n",
       "    </tr>\n",
       "  </thead>\n",
       "  <tbody>\n",
       "    <tr>\n",
       "      <th>43897</th>\n",
       "      <td>4757</td>\n",
       "      <td>package risotto mix with mushrooms</td>\n",
       "      <td>count</td>\n",
       "      <td>1</td>\n",
       "    </tr>\n",
       "    <tr>\n",
       "      <th>43898</th>\n",
       "      <td>4757</td>\n",
       "      <td>shredded monterey jack cheese</td>\n",
       "      <td>cup</td>\n",
       "      <td>34</td>\n",
       "    </tr>\n",
       "    <tr>\n",
       "      <th>43899</th>\n",
       "      <td>4757</td>\n",
       "      <td>grated romano cheese</td>\n",
       "      <td>tablespoons</td>\n",
       "      <td>3</td>\n",
       "    </tr>\n",
       "    <tr>\n",
       "      <th>43900</th>\n",
       "      <td>4757</td>\n",
       "      <td>finely chopped chives</td>\n",
       "      <td>tablespoon</td>\n",
       "      <td>1</td>\n",
       "    </tr>\n",
       "    <tr>\n",
       "      <th>43901</th>\n",
       "      <td>4757</td>\n",
       "      <td>finely chopped red bell pepper</td>\n",
       "      <td>tablespoon</td>\n",
       "      <td>1</td>\n",
       "    </tr>\n",
       "    <tr>\n",
       "      <th>43902</th>\n",
       "      <td>4757</td>\n",
       "      <td>large garlic clove</td>\n",
       "      <td>count</td>\n",
       "      <td>1</td>\n",
       "    </tr>\n",
       "    <tr>\n",
       "      <th>43903</th>\n",
       "      <td>4757</td>\n",
       "      <td>total jumbo whole white mushrooms</td>\n",
       "      <td>pounds</td>\n",
       "      <td>1.75</td>\n",
       "    </tr>\n",
       "  </tbody>\n",
       "</table>\n",
       "</div>"
      ],
      "text/plain": [
       "       id_recipe                          ingredient           unit quantity\n",
       "43897       4757  package risotto mix with mushrooms          count        1\n",
       "43898       4757       shredded monterey jack cheese           cup        34\n",
       "43899       4757                grated romano cheese   tablespoons         3\n",
       "43900       4757               finely chopped chives    tablespoon         1\n",
       "43901       4757      finely chopped red bell pepper    tablespoon         1\n",
       "43902       4757                  large garlic clove          count        1\n",
       "43903       4757   total jumbo whole white mushrooms        pounds      1.75"
      ]
     },
     "execution_count": 81,
     "metadata": {},
     "output_type": "execute_result"
    }
   ],
   "source": [
    "df_combined_ing[df_combined_ing['id_recipe']==4757]"
   ]
  },
  {
   "cell_type": "code",
   "execution_count": 74,
   "id": "18cbde48-c127-4935-a832-a0c2439a4496",
   "metadata": {},
   "outputs": [
    {
     "data": {
      "text/plain": [
       "{'ingredients': [{'text': '1 (5 1/2 ounce) package risotto mix with mushrooms, cooked and kept warm'},\n",
       "  {'text': '34 cup shredded monterey jack cheese, divided'},\n",
       "  {'text': '3 tablespoons grated romano cheese or 3 tablespoons parmesan cheese, divided'},\n",
       "  {'text': '1 tablespoon finely chopped chives or 1 tablespoon green onion'},\n",
       "  {'text': '1 tablespoon finely chopped red bell pepper'},\n",
       "  {'text': '1 large garlic clove, finely chopped'},\n",
       "  {'text': '18 -20 about 1 3/4 pounds total jumbo whole white mushrooms, stems removed'}],\n",
       " 'url': 'http://www.food.com/recipe/risotto-stuffed-mushrooms-308938',\n",
       " 'partition': 'train',\n",
       " 'title': 'Risotto Stuffed Mushrooms',\n",
       " 'id': '012c35be87',\n",
       " 'instructions': [{'text': 'Preheat oven to 375.'},\n",
       "  {'text': 'Combine risotto, 1/2 cup Monterey Jack cheese, Romano or Parmesan cheese, chives, bell pepper and garlic in medium bowl.'},\n",
       "  {'text': 'Arrange mushrooms on baking sheet.'},\n",
       "  {'text': 'Fill mushrooms with risotto mixture, mounding slightly.'},\n",
       "  {'text': 'Sprinkle with remaining Monterey Jack cheese.'},\n",
       "  {'text': 'Bake for 20 to 25 minutes or until mushrooms are golden brown and cheese is melted.'},\n",
       "  {'text': 'Enjoy!'}]}"
      ]
     },
     "execution_count": 74,
     "metadata": {},
     "output_type": "execute_result"
    }
   ],
   "source": [
    "# 456\n",
    "# recipe[27759]\n",
    "recipe[4757]"
   ]
  },
  {
   "cell_type": "code",
   "execution_count": 20,
   "id": "b76d67a5-f5ba-40d4-b334-189c96a2b388",
   "metadata": {},
   "outputs": [
    {
     "name": "stdout",
     "output_type": "stream",
     "text": [
      "['1']\n",
      "['1', '9', '1', '1/2']\n",
      "['1/4']\n",
      "['3']\n"
     ]
    }
   ],
   "source": [
    "dict_ingredients= recipe_load(n=100000)"
   ]
  },
  {
   "cell_type": "code",
   "execution_count": 26,
   "id": "27c539b6-2740-4d5d-85ed-771173ec50f5",
   "metadata": {},
   "outputs": [
    {
     "data": {
      "text/plain": [
       "{'id_recipe': [1, 1, 1, 1, 1, 1, 1, 1, 1],\n",
       " 'ingredient': ['small jello orange',\n",
       "  'water boiling',\n",
       "  'pint vanilla ice cream softened',\n",
       "  'reduced fat',\n",
       "  'margarine melted',\n",
       "  'sugar granulated',\n",
       "  'x candy corn',\n",
       "  'x black licorice',\n",
       "  'x whipped topping'],\n",
       " 'unit': ['count',\n",
       "  ' cup ',\n",
       "  'count',\n",
       "  ' cup ',\n",
       "  ' cup ',\n",
       "  ' tablespoons ',\n",
       "  'count',\n",
       "  'count',\n",
       "  'count'],\n",
       " 'quantity': ['1', '1', '1', '1-1/2', '1/4', '3', '1', '1', '1']}"
      ]
     },
     "execution_count": 26,
     "metadata": {},
     "output_type": "execute_result"
    }
   ],
   "source": [
    "dict_ingredients"
   ]
  },
  {
   "cell_type": "code",
   "execution_count": 44,
   "id": "6f8ae2c3",
   "metadata": {
    "ExecuteTime": {
     "end_time": "2021-11-28T03:09:41.359316Z",
     "start_time": "2021-11-28T03:09:40.011615Z"
    }
   },
   "outputs": [],
   "source": [
    "ingredient_lower = df_combined_ing['ingredient'].str.lower()\n",
    "ingredient_lower = ingredient_lower.str.strip()\n",
    "ingredient_lower = pd.Series([re.sub(fr'^s ', '', ingredient) for ingredient in ingredient_lower])\n",
    "ingredient_lower = ingredient_lower[ingredient_lower.str.len() > 2]\n",
    "top_100_ingredients = ingredient_lower.value_counts()[0:100]\n",
    "top_100_ingredients.to_csv('data/top_100_ingredients.csv', index_label = 'ingredients', header=['recipe_counts'])\n",
    "pd.read_csv('data/top_100_ingredients.csv')"
   ]
  },
  {
   "cell_type": "code",
   "execution_count": null,
   "id": "88145da2-4bf7-4782-96e5-d93c5c1dae44",
   "metadata": {},
   "outputs": [],
   "source": []
  }
 ],
 "metadata": {
  "kernelspec": {
   "display_name": "Python 3",
   "language": "python",
   "name": "python3"
  },
  "language_info": {
   "codemirror_mode": {
    "name": "ipython",
    "version": 3
   },
   "file_extension": ".py",
   "mimetype": "text/x-python",
   "name": "python",
   "nbconvert_exporter": "python",
   "pygments_lexer": "ipython3",
   "version": "3.8.11"
  }
 },
 "nbformat": 4,
 "nbformat_minor": 5
}
