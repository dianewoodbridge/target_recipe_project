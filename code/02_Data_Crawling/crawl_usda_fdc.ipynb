{
 "cells": [
  {
   "cell_type": "code",
   "execution_count": 222,
   "id": "3d53d16b",
   "metadata": {},
   "outputs": [],
   "source": [
    "import requests\n",
    "import json\n",
    "import re\n",
    "import pandas as pd \n",
    "import numpy as np\n",
    "import time"
   ]
  },
  {
   "cell_type": "code",
   "execution_count": 434,
   "id": "0bdf3256",
   "metadata": {},
   "outputs": [
    {
     "data": {
      "text/html": [
       "<div>\n",
       "<style scoped>\n",
       "    .dataframe tbody tr th:only-of-type {\n",
       "        vertical-align: middle;\n",
       "    }\n",
       "\n",
       "    .dataframe tbody tr th {\n",
       "        vertical-align: top;\n",
       "    }\n",
       "\n",
       "    .dataframe thead th {\n",
       "        text-align: right;\n",
       "    }\n",
       "</style>\n",
       "<table border=\"1\" class=\"dataframe\">\n",
       "  <thead>\n",
       "    <tr style=\"text-align: right;\">\n",
       "      <th></th>\n",
       "      <th>ingredients</th>\n",
       "      <th>recipe_counts</th>\n",
       "    </tr>\n",
       "  </thead>\n",
       "  <tbody>\n",
       "  </tbody>\n",
       "</table>\n",
       "</div>"
      ],
      "text/plain": [
       "Empty DataFrame\n",
       "Columns: [ingredients, recipe_counts]\n",
       "Index: []"
      ]
     },
     "execution_count": 434,
     "metadata": {},
     "output_type": "execute_result"
    }
   ],
   "source": [
    "df = pd.read_csv('data/top_10000_ingredients.csv')\n",
    "\n",
    "# df = df.iloc[9428:]\n",
    "# df.loc[df['ingredients']=='slightly beaten eggs']\n",
    "# df = df.iloc[9356:9358]\n",
    "# df"
   ]
  },
  {
   "cell_type": "code",
   "execution_count": 358,
   "id": "ee91b4f5",
   "metadata": {},
   "outputs": [],
   "source": [
    "api_key = \"6QckmmkUv58RO4eu9eiXKUD1a0L60mSjTnHfa036\"\n",
    "def search_usda_food_with_fdcid(fdcid):\n",
    "    '''\n",
    "    given fdc id, return the detailed info\n",
    "    '''\n",
    "    url = \"https://api.nal.usda.gov/fdc/v1/food/{}?api_key={}\".format(fdcid, api_key)\n",
    "    response = requests.request(\"GET\", url)\n",
    "\n",
    "    if response.status_code != 200:\n",
    "        return ''\n",
    "    \n",
    "    return response.json()\n",
    "def search_fdcid(ingredient):\n",
    "    '''\n",
    "    Return the fdc id of the search for the first one with food portions\n",
    "    '''\n",
    "    url = \"https://api.nal.usda.gov/fdc/v1/foods/search?query={}&model=foodPortion&api_key=6QckmmkUv58RO4eu9eiXKUD1a0L60mSjTnHfa036\"\\\n",
    "          .format(ingredient)\n",
    "    response = requests.request(\"GET\", url)\n",
    "\n",
    "    if response.status_code != 200:\n",
    "        return None\n",
    "    \n",
    "    for food in response.json().get(\"foods\"):\n",
    "        fdc_id = food.get(\"fdcId\")\n",
    "        json_data = search_usda_food_with_fdcid(fdc_id)\n",
    "        if isinstance(json_data, str):\n",
    "            continue\n",
    "#         print(fdc_id)\n",
    "#         print(search_usda_food_with_fdcid(fdc_id).get(\"foodPortions\"))\n",
    "        if( json_data.get(\"foodPortions\") !=None ):\n",
    "            if( len(json_data.get(\"foodPortions\")) > 0 ):\n",
    "                return fdc_id\n",
    "    return None\n"
   ]
  },
  {
   "cell_type": "code",
   "execution_count": 435,
   "id": "50fc720f",
   "metadata": {},
   "outputs": [
    {
     "name": "stdout",
     "output_type": "stream",
     "text": [
      "time in minutes 87.24851893186569\n"
     ]
    }
   ],
   "source": [
    "import time\n",
    "\n",
    "ingredient_density={}\n",
    "start = time.time()\n",
    "ing_name=[]\n",
    "standard_vol=[]\n",
    "standard_unit=[]\n",
    "standard_weight=[]\n",
    "for index, row in df.iterrows():\n",
    "    name = row.ingredients\n",
    "    fdcid = search_fdcid(row.ingredients)\n",
    "    if fdcid == None:\n",
    "        json_data={\"foodPortions\":[{}]}\n",
    "    else:\n",
    "        json_data = search_usda_food_with_fdcid(fdcid)\n",
    "\n",
    "        if isinstance(json_data, str):\n",
    "            continue\n",
    "        elif 'portionDescription' in json_data.get(\"foodPortions\")[0].keys():\n",
    "            ing_amt = json_data.get(\"foodPortions\")[0]['portionDescription'].split(' ')[0]\n",
    "            if ing_amt.isdigit():\n",
    "                standard_vol.append(int(ing_amt))\n",
    "                standard_unit.append(json_data.get(\"foodPortions\")[0]['portionDescription'].split(' ')[1])\n",
    "                standard_weight.append(json_data.get(\"foodPortions\")[0]['gramWeight'])\n",
    "                ing_name.append(name)                  \n",
    "        elif ('amount' in json_data.get(\"foodPortions\")[0].keys()) and ('modifier' in json_data.get(\"foodPortions\")[0].keys()):\n",
    "            standard_vol.append(json_data.get(\"foodPortions\")[0][\"amount\"])\n",
    "            standard_unit.append(json_data.get(\"foodPortions\")[0][\"modifier\"])\n",
    "            standard_weight.append(json_data.get(\"foodPortions\")[0][\"gramWeight\"])\n",
    "            ing_name.append(name)                        \n",
    "        else:\n",
    "            standard_vol.append(np.nan)\n",
    "            standard_weight.append(np.nan)\n",
    "            standard_unit.append('')\n",
    "            ing_name.append(name)                         \n",
    "\n",
    "           \n",
    "# ing_name = [item for sublist in ing_name for item in sublist]\n",
    "ingredient_density['ingredient']= ing_name      \n",
    "ingredient_density['standard_vol']=standard_vol\n",
    "ingredient_density['standard_weight_gm'] = standard_weight\n",
    "ingredient_density['standard_unit'] =standard_unit\n",
    "ingredient_density_df = pd.DataFrame.from_dict(ingredient_density)\n",
    "\n",
    "print(\"time in minutes {}\".format((time.time() - start)/60))"
   ]
  },
  {
   "cell_type": "code",
   "execution_count": 437,
   "id": "8905eecb",
   "metadata": {},
   "outputs": [],
   "source": [
    "# ing_dens_comb = ingredient_density_df\n",
    "ing_dens_comb = pd.concat([ing_dens_comb,ingredient_density_df], ignore_index=True)"
   ]
  },
  {
   "cell_type": "code",
   "execution_count": 438,
   "id": "0c6ed5bb",
   "metadata": {},
   "outputs": [
    {
     "data": {
      "text/plain": [
       "(9483, 4)"
      ]
     },
     "execution_count": 438,
     "metadata": {},
     "output_type": "execute_result"
    }
   ],
   "source": [
    "ing_dens_comb.shape"
   ]
  },
  {
   "cell_type": "code",
   "execution_count": 439,
   "id": "272c4e80",
   "metadata": {},
   "outputs": [
    {
     "data": {
      "text/plain": [
       "(9483, 4)"
      ]
     },
     "execution_count": 439,
     "metadata": {},
     "output_type": "execute_result"
    }
   ],
   "source": [
    "ing_dens_comb_copy = ing_dens_comb\n",
    "ing_dens_comb_copy.shape"
   ]
  },
  {
   "cell_type": "code",
   "execution_count": 419,
   "id": "8c0ea1e8",
   "metadata": {},
   "outputs": [
    {
     "data": {
      "text/html": [
       "<div>\n",
       "<style scoped>\n",
       "    .dataframe tbody tr th:only-of-type {\n",
       "        vertical-align: middle;\n",
       "    }\n",
       "\n",
       "    .dataframe tbody tr th {\n",
       "        vertical-align: top;\n",
       "    }\n",
       "\n",
       "    .dataframe thead th {\n",
       "        text-align: right;\n",
       "    }\n",
       "</style>\n",
       "<table border=\"1\" class=\"dataframe\">\n",
       "  <thead>\n",
       "    <tr style=\"text-align: right;\">\n",
       "      <th></th>\n",
       "      <th>ingredient</th>\n",
       "      <th>standard_vol</th>\n",
       "      <th>standard_weight_gm</th>\n",
       "      <th>standard_unit</th>\n",
       "    </tr>\n",
       "  </thead>\n",
       "  <tbody>\n",
       "    <tr>\n",
       "      <th>8857</th>\n",
       "      <td>tablespoon rice wine vinegar</td>\n",
       "      <td>1.00</td>\n",
       "      <td>14.9</td>\n",
       "      <td>tbsp</td>\n",
       "    </tr>\n",
       "    <tr>\n",
       "      <th>8858</th>\n",
       "      <td>canned red kidney beans</td>\n",
       "      <td>1.00</td>\n",
       "      <td>266.0</td>\n",
       "      <td>can drained solids</td>\n",
       "    </tr>\n",
       "    <tr>\n",
       "      <th>8859</th>\n",
       "      <td>pinch dried parsley</td>\n",
       "      <td>0.25</td>\n",
       "      <td>1.4</td>\n",
       "      <td>cup</td>\n",
       "    </tr>\n",
       "    <tr>\n",
       "      <th>8860</th>\n",
       "      <td>low fat sour cream</td>\n",
       "      <td>1.00</td>\n",
       "      <td>240.0</td>\n",
       "      <td>cup</td>\n",
       "    </tr>\n",
       "    <tr>\n",
       "      <th>8861</th>\n",
       "      <td>raw cane sugar</td>\n",
       "      <td>1.00</td>\n",
       "      <td>31.0</td>\n",
       "      <td>fl</td>\n",
       "    </tr>\n",
       "  </tbody>\n",
       "</table>\n",
       "</div>"
      ],
      "text/plain": [
       "                        ingredient  standard_vol  standard_weight_gm  \\\n",
       "8857  tablespoon rice wine vinegar          1.00                14.9   \n",
       "8858       canned red kidney beans          1.00               266.0   \n",
       "8859           pinch dried parsley          0.25                 1.4   \n",
       "8860            low fat sour cream          1.00               240.0   \n",
       "8861                raw cane sugar          1.00                31.0   \n",
       "\n",
       "           standard_unit  \n",
       "8857                tbsp  \n",
       "8858  can drained solids  \n",
       "8859                 cup  \n",
       "8860                 cup  \n",
       "8861                  fl  "
      ]
     },
     "execution_count": 419,
     "metadata": {},
     "output_type": "execute_result"
    }
   ],
   "source": [
    "ing_dens_comb.tail()"
   ]
  },
  {
   "cell_type": "code",
   "execution_count": 440,
   "id": "c6008491",
   "metadata": {},
   "outputs": [],
   "source": [
    "op_file_path = \"./Data/ing_density.csv\"\n",
    "ing_dens_comb.to_csv(op_file_path, index=False)"
   ]
  },
  {
   "cell_type": "code",
   "execution_count": null,
   "id": "674296f9",
   "metadata": {},
   "outputs": [],
   "source": []
  }
 ],
 "metadata": {
  "kernelspec": {
   "display_name": "Python 3 (ipykernel)",
   "language": "python",
   "name": "python3"
  },
  "language_info": {
   "codemirror_mode": {
    "name": "ipython",
    "version": 3
   },
   "file_extension": ".py",
   "mimetype": "text/x-python",
   "name": "python",
   "nbconvert_exporter": "python",
   "pygments_lexer": "ipython3",
   "version": "3.8.11"
  }
 },
 "nbformat": 4,
 "nbformat_minor": 5
}
