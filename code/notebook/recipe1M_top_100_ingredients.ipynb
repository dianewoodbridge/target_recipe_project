{
 "cells": [
  {
   "cell_type": "code",
   "execution_count": 39,
   "id": "f2668901",
   "metadata": {
    "ExecuteTime": {
     "end_time": "2021-11-28T03:07:56.721404Z",
     "start_time": "2021-11-28T03:07:56.716371Z"
    }
   },
   "outputs": [],
   "source": [
    "import json\n",
    "import re\n",
    "import pandas as pd \n",
    "import numpy as np\n",
    "from nltk.stem.porter import PorterStemmer\n",
    "pd.set_option('display.max_columns', None)\n",
    "pd.set_option('display.max_rows', None)"
   ]
  },
  {
   "cell_type": "code",
   "execution_count": 2,
   "id": "37b4640b",
   "metadata": {
    "ExecuteTime": {
     "end_time": "2021-11-28T02:56:52.391542Z",
     "start_time": "2021-11-28T02:56:15.171581Z"
    }
   },
   "outputs": [],
   "source": [
    "filepath = \"/Users/mvellera/USF/Fall - II/Practicum (Target)/Data/recipe1M_layers/layer1.json\"\n",
    "with open(filepath) as json_data:\n",
    "    recipe = json.load(json_data)"
   ]
  },
  {
   "cell_type": "code",
   "execution_count": 24,
   "id": "27584c0f",
   "metadata": {
    "ExecuteTime": {
     "end_time": "2021-11-28T03:03:37.338237Z",
     "start_time": "2021-11-28T03:03:37.324330Z"
    }
   },
   "outputs": [],
   "source": [
    "def recipe_load(n):\n",
    "    dict_ingredients = { 'ingredient' : []\n",
    "#                     'unit': []\n",
    "#                     'quantity':[]   \n",
    "    }\n",
    "    ingredients_list=[]\n",
    "    for i in range(0,n):\n",
    "        title = recipe[i]['title']\n",
    "        id = recipe[i]['id']\n",
    "        \n",
    "        for lis in recipe[i]['ingredients']:\n",
    "            for key, val in lis.items():   \n",
    "                ingredients_list.append(val)\n",
    "                rem = re.sub(\"[\\(\\[].*?[\\)\\]]\", \"\", val)\n",
    "                rem = re.sub(\"[.]\", \"\", rem)\n",
    "                if rem !='':\n",
    "                    u =re.findall(r\"ounces|ounce|teaspoon|cups|cup|tablespoon|c |tbsp|tsp|can\", rem)\n",
    "                    if len(u) == 0:\n",
    "                        qty = re.split(' ', rem)\n",
    "                        qty_list = re.findall('[0-9/]+', qty[0])\n",
    "                        if len(qty_list) !=0:\n",
    "#                             dict_ingredients['quantity'].append(qty_list[-1])\n",
    "#                             dict_ingredients['unit'].append('count')\n",
    "                            dict_ingredients['ingredient'].append(' '.join(i for i in qty[1:]))\n",
    "                        else:  \n",
    "#                             dict_ingredients['quantity'].append(np.nan)\n",
    "#                             dict_ingredients['unit'].append('')\n",
    "                            dict_ingredients['ingredient'].append(' '.join(i for i in qty))                         \n",
    "                    else:\n",
    "#                         dict_ingredients['unit'].append(u[0])\n",
    "#                         qty = re.split(r\"ounces|ounce|teaspoon|cups|cup|tablespoon|c |tbsp|tsp|can\", rem)[0].strip()\n",
    "#                         qty_list = re.findall('[0-9/]+', qty)\n",
    "#                         dict_ingredients['quantity'].append(qty_list[-1])\n",
    "                        dict_ingredients['ingredient'].append(re.split(r\"ounces|ounce|teaspoon|cups|cup|tablespoon|c |tbsp|tsp|can\", rem)[1].strip())\n",
    "    return dict_ingredients"
   ]
  },
  {
   "cell_type": "code",
   "execution_count": 31,
   "id": "678cec68",
   "metadata": {
    "ExecuteTime": {
     "end_time": "2021-11-28T03:05:12.882596Z",
     "start_time": "2021-11-28T03:04:28.425028Z"
    }
   },
   "outputs": [],
   "source": [
    "dict_ingredients= recipe_load(n=1000000)\n",
    "#n - number of recipes to load\n",
    "df_combined_ing = pd.DataFrame.from_dict(dict_ingredients)"
   ]
  },
  {
   "cell_type": "code",
   "execution_count": 44,
   "id": "6f8ae2c3",
   "metadata": {
    "ExecuteTime": {
     "end_time": "2021-11-28T03:09:41.359316Z",
     "start_time": "2021-11-28T03:09:40.011615Z"
    }
   },
   "outputs": [],
   "source": [
    "ingredient_lower = df_combined_ing['ingredient'].str.lower()\n",
    "ingredient_lower = ingredient_lower.str.strip()\n",
    "ingredient_lower = pd.Series([re.sub(fr'^s ', '', ingredient) for ingredient in ingredient_lower])\n",
    "ingredient_lower = ingredient_lower[ingredient_lower.str.len() > 2]\n",
    "top_100_ingredients = ingredient_lower.value_counts()[0:100]\n",
    "top_100_ingredients.to_csv('data/top_100_ingredients.csv', index_label = 'ingredients', header=['recipe_counts'])\n",
    "pd.read_csv('data/top_100_ingredients.csv')"
   ]
  }
 ],
 "metadata": {
  "kernelspec": {
   "display_name": "Python 3 (ipykernel)",
   "language": "python",
   "name": "python3"
  },
  "language_info": {
   "codemirror_mode": {
    "name": "ipython",
    "version": 3
   },
   "file_extension": ".py",
   "mimetype": "text/x-python",
   "name": "python",
   "nbconvert_exporter": "python",
   "pygments_lexer": "ipython3",
   "version": "3.8.11"
  }
 },
 "nbformat": 4,
 "nbformat_minor": 5
}
