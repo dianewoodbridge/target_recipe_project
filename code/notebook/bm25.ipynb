{
 "cells": [
  {
   "cell_type": "code",
   "execution_count": 4,
   "metadata": {},
   "outputs": [],
   "source": [
    "# ! pip install rank_bm25"
   ]
  },
  {
   "cell_type": "code",
   "execution_count": 5,
   "metadata": {},
   "outputs": [],
   "source": [
    "import re\n",
    "import os\n",
    "import pandas as pd \n",
    "import numpy as np\n",
    "import warnings\n",
    "\n",
    "from preprocessor import *\n",
    "from pattern_search import * \n",
    "from ranker import *\n",
    "\n",
    "warnings.filterwarnings(\"ignore\")\n",
    "pd.set_option('display.max_columns', None)\n",
    "pd.set_option('display.max_rows', None)"
   ]
  },
  {
   "cell_type": "code",
   "execution_count": 6,
   "metadata": {},
   "outputs": [],
   "source": [
    "# Set input file directory\n",
    "ip_file_dir = \"../Data/Target Data/\"\n",
    "\n",
    "# Get grocery product hierarchy information\n",
    "group10 = pd.read_csv(os.path.join(ip_file_dir, \n",
    "                                   'group10_header.csv'),\n",
    "                      sep='\\t', \n",
    "                      low_memory=False)\n",
    "\n",
    "# Get scraped information for the above products\n",
    "products = pd.read_csv(os.path.join(ip_file_dir,\n",
    "                                    'scraped/products.csv'))\n",
    "\n",
    "# Merge scraped information into the hierarchy table\n",
    "group10 = pd.merge(group10, products, \n",
    "                   how = 'left', on = 'tcin')\n",
    "\n",
    "# Preprocess the table\n",
    "group10 = preprocess_df(group10)\n",
    "\n",
    "# Fill NAs\n",
    "group10 = fillNa(group10)"
   ]
  },
  {
   "cell_type": "code",
   "execution_count": 7,
   "metadata": {},
   "outputs": [],
   "source": [
    "group10['highlights'] = [\" \".join(list_vals) for list_vals in group10['highlights']]\n",
    "# group10['text'] = list(group10['division_name'].str.cat(group10[['department_name', 'class_name', \n",
    "#                                                                 'item_type_name',                                                                  \n",
    "#                                                                 'subclass_name', \n",
    "#                                                                 'style_name', 'title_processed', \n",
    "#                                                                 'description', 'highlights'\n",
    "#                                                         ]], \n",
    "#                                              sep= ' ').str.lower().values)\n",
    "\n",
    "group10['text'] = list(group10['division_name'].str.cat(group10[['department_name', 'class_name', \n",
    "                                                                'item_type_name',                                                                  \n",
    "                                                                'subclass_name', \n",
    "                                                                'style_name', 'title_processed'\n",
    "                                                        ]], \n",
    "                                             sep= ' ').str.lower().values)                                             "
   ]
  },
  {
   "cell_type": "code",
   "execution_count": 8,
   "metadata": {},
   "outputs": [
    {
     "name": "stderr",
     "output_type": "stream",
     "text": [
      "100%|██████████| 23247/23247 [00:08<00:00, 2775.44it/s]\n"
     ]
    },
    {
     "data": {
      "text/plain": [
       "['./models/bm25_no_description']"
      ]
     },
     "execution_count": 8,
     "metadata": {},
     "output_type": "execute_result"
    }
   ],
   "source": [
    "bm25 = BM25Ranker(product_ids=group10['tcin'], max_rank=10)\n",
    "\n",
    "# texts = bm25.fit_corpus(group10['text'], op_path='data/bm25_corpus')\n",
    "texts = bm25.fit_corpus(group10['text'], op_path='data/bm25_corpus_no_description')\n",
    "\n",
    "# texts = joblib.load(\"data/bm25_corpus\")\n",
    "texts = joblib.load(\"data/bm25_corpus_no_description\")\n",
    "\n",
    "bm25.fit(texts)\n",
    "\n",
    "joblib.dump(bm25, \"./models/bm25_no_description\")\n",
    "# joblib.dump(bm25, \"./models/bm25\")"
   ]
  },
  {
   "cell_type": "code",
   "execution_count": 55,
   "metadata": {},
   "outputs": [],
   "source": [
    "ranker_list = bm25.rank_products_recipe(ingredients)"
   ]
  },
  {
   "cell_type": "code",
   "execution_count": 56,
   "metadata": {},
   "outputs": [],
   "source": [
    "from evaluation import *"
   ]
  },
  {
   "cell_type": "code",
   "execution_count": 57,
   "metadata": {},
   "outputs": [
    {
     "name": "stdout",
     "output_type": "stream",
     "text": [
      "BM25 MAP: 0.81\n"
     ]
    }
   ],
   "source": [
    "bm25_map, bm25_ap = mean_average_precision(ranker_list, \n",
    "                                       relevant_docs_list, \n",
    "                                       return_ap = True)\n",
    "print(f'BM25 MAP: {bm25_map:.2f}')"
   ]
  },
  {
   "cell_type": "code",
   "execution_count": 287,
   "metadata": {},
   "outputs": [],
   "source": [
    "from functools import reduce\n",
    "def create_ap_df(ingredients, ap_list, column='tfidf_ap'):\n",
    "    df = pd.DataFrame.from_dict(dict(zip(ingredients, ap_list)).items())\n",
    "    df.columns = ['ingredient', column]\n",
    "    return df"
   ]
  },
  {
   "cell_type": "code",
   "execution_count": 288,
   "metadata": {},
   "outputs": [
    {
     "data": {
      "text/html": [
       "<div>\n",
       "<style scoped>\n",
       "    .dataframe tbody tr th:only-of-type {\n",
       "        vertical-align: middle;\n",
       "    }\n",
       "\n",
       "    .dataframe tbody tr th {\n",
       "        vertical-align: top;\n",
       "    }\n",
       "\n",
       "    .dataframe thead th {\n",
       "        text-align: right;\n",
       "    }\n",
       "</style>\n",
       "<table border=\"1\" class=\"dataframe\">\n",
       "  <thead>\n",
       "    <tr style=\"text-align: right;\">\n",
       "      <th></th>\n",
       "      <th>ingredient</th>\n",
       "      <th>bm25_ap</th>\n",
       "    </tr>\n",
       "  </thead>\n",
       "  <tbody>\n",
       "    <tr>\n",
       "      <th>0</th>\n",
       "      <td>salt</td>\n",
       "      <td>1.0</td>\n",
       "    </tr>\n",
       "    <tr>\n",
       "      <th>1</th>\n",
       "      <td>kosher salt</td>\n",
       "      <td>0.7</td>\n",
       "    </tr>\n",
       "    <tr>\n",
       "      <th>2</th>\n",
       "      <td>sugar</td>\n",
       "      <td>1.0</td>\n",
       "    </tr>\n",
       "    <tr>\n",
       "      <th>3</th>\n",
       "      <td>water</td>\n",
       "      <td>0.8</td>\n",
       "    </tr>\n",
       "    <tr>\n",
       "      <th>4</th>\n",
       "      <td>olive oil</td>\n",
       "      <td>0.8</td>\n",
       "    </tr>\n",
       "    <tr>\n",
       "      <th>5</th>\n",
       "      <td>butter</td>\n",
       "      <td>1.0</td>\n",
       "    </tr>\n",
       "    <tr>\n",
       "      <th>6</th>\n",
       "      <td>milk</td>\n",
       "      <td>0.9</td>\n",
       "    </tr>\n",
       "    <tr>\n",
       "      <th>7</th>\n",
       "      <td>flour</td>\n",
       "      <td>1.0</td>\n",
       "    </tr>\n",
       "    <tr>\n",
       "      <th>8</th>\n",
       "      <td>all purpose flour</td>\n",
       "      <td>0.8</td>\n",
       "    </tr>\n",
       "    <tr>\n",
       "      <th>9</th>\n",
       "      <td>all-purpose flour</td>\n",
       "      <td>0.8</td>\n",
       "    </tr>\n",
       "    <tr>\n",
       "      <th>10</th>\n",
       "      <td>baking powder</td>\n",
       "      <td>1.0</td>\n",
       "    </tr>\n",
       "    <tr>\n",
       "      <th>11</th>\n",
       "      <td>egg</td>\n",
       "      <td>0.9</td>\n",
       "    </tr>\n",
       "    <tr>\n",
       "      <th>12</th>\n",
       "      <td>eggs</td>\n",
       "      <td>0.9</td>\n",
       "    </tr>\n",
       "    <tr>\n",
       "      <th>13</th>\n",
       "      <td>large eggs</td>\n",
       "      <td>1.0</td>\n",
       "    </tr>\n",
       "    <tr>\n",
       "      <th>14</th>\n",
       "      <td>vanilla extract</td>\n",
       "      <td>1.0</td>\n",
       "    </tr>\n",
       "    <tr>\n",
       "      <th>15</th>\n",
       "      <td>vanilla</td>\n",
       "      <td>0.9</td>\n",
       "    </tr>\n",
       "    <tr>\n",
       "      <th>16</th>\n",
       "      <td>baking soda</td>\n",
       "      <td>1.0</td>\n",
       "    </tr>\n",
       "    <tr>\n",
       "      <th>17</th>\n",
       "      <td>pepper</td>\n",
       "      <td>0.6</td>\n",
       "    </tr>\n",
       "    <tr>\n",
       "      <th>18</th>\n",
       "      <td>black pepper</td>\n",
       "      <td>0.5</td>\n",
       "    </tr>\n",
       "    <tr>\n",
       "      <th>19</th>\n",
       "      <td>vegetable oil</td>\n",
       "      <td>0.6</td>\n",
       "    </tr>\n",
       "    <tr>\n",
       "      <th>20</th>\n",
       "      <td>garlic</td>\n",
       "      <td>0.7</td>\n",
       "    </tr>\n",
       "    <tr>\n",
       "      <th>21</th>\n",
       "      <td>brown sugar</td>\n",
       "      <td>1.0</td>\n",
       "    </tr>\n",
       "    <tr>\n",
       "      <th>22</th>\n",
       "      <td>lemon juice</td>\n",
       "      <td>0.6</td>\n",
       "    </tr>\n",
       "    <tr>\n",
       "      <th>23</th>\n",
       "      <td>fresh lemon juice</td>\n",
       "      <td>0.6</td>\n",
       "    </tr>\n",
       "    <tr>\n",
       "      <th>24</th>\n",
       "      <td>lime juice</td>\n",
       "      <td>0.9</td>\n",
       "    </tr>\n",
       "    <tr>\n",
       "      <th>25</th>\n",
       "      <td>fresh lime juice</td>\n",
       "      <td>0.7</td>\n",
       "    </tr>\n",
       "    <tr>\n",
       "      <th>26</th>\n",
       "      <td>cinnamon</td>\n",
       "      <td>0.9</td>\n",
       "    </tr>\n",
       "    <tr>\n",
       "      <th>27</th>\n",
       "      <td>ground cinnamon</td>\n",
       "      <td>1.0</td>\n",
       "    </tr>\n",
       "    <tr>\n",
       "      <th>28</th>\n",
       "      <td>salt and pepper</td>\n",
       "      <td>0.5</td>\n",
       "    </tr>\n",
       "    <tr>\n",
       "      <th>29</th>\n",
       "      <td>honey</td>\n",
       "      <td>0.7</td>\n",
       "    </tr>\n",
       "    <tr>\n",
       "      <th>30</th>\n",
       "      <td>sour cream</td>\n",
       "      <td>1.0</td>\n",
       "    </tr>\n",
       "    <tr>\n",
       "      <th>31</th>\n",
       "      <td>soy sauce</td>\n",
       "      <td>0.7</td>\n",
       "    </tr>\n",
       "    <tr>\n",
       "      <th>32</th>\n",
       "      <td>granulated sugar</td>\n",
       "      <td>1.0</td>\n",
       "    </tr>\n",
       "    <tr>\n",
       "      <th>33</th>\n",
       "      <td>cloves, minced</td>\n",
       "      <td>0.3</td>\n",
       "    </tr>\n",
       "    <tr>\n",
       "      <th>34</th>\n",
       "      <td>cloves</td>\n",
       "      <td>0.7</td>\n",
       "    </tr>\n",
       "    <tr>\n",
       "      <th>35</th>\n",
       "      <td>mayonnaise</td>\n",
       "      <td>0.9</td>\n",
       "    </tr>\n",
       "  </tbody>\n",
       "</table>\n",
       "</div>"
      ],
      "text/plain": [
       "           ingredient  bm25_ap\n",
       "0                salt      1.0\n",
       "1         kosher salt      0.7\n",
       "2               sugar      1.0\n",
       "3               water      0.8\n",
       "4           olive oil      0.8\n",
       "5              butter      1.0\n",
       "6                milk      0.9\n",
       "7               flour      1.0\n",
       "8   all purpose flour      0.8\n",
       "9   all-purpose flour      0.8\n",
       "10      baking powder      1.0\n",
       "11                egg      0.9\n",
       "12               eggs      0.9\n",
       "13         large eggs      1.0\n",
       "14    vanilla extract      1.0\n",
       "15            vanilla      0.9\n",
       "16        baking soda      1.0\n",
       "17             pepper      0.6\n",
       "18       black pepper      0.5\n",
       "19      vegetable oil      0.6\n",
       "20             garlic      0.7\n",
       "21        brown sugar      1.0\n",
       "22        lemon juice      0.6\n",
       "23  fresh lemon juice      0.6\n",
       "24         lime juice      0.9\n",
       "25   fresh lime juice      0.7\n",
       "26           cinnamon      0.9\n",
       "27    ground cinnamon      1.0\n",
       "28    salt and pepper      0.5\n",
       "29              honey      0.7\n",
       "30         sour cream      1.0\n",
       "31          soy sauce      0.7\n",
       "32   granulated sugar      1.0\n",
       "33     cloves, minced      0.3\n",
       "34             cloves      0.7\n",
       "35         mayonnaise      0.9"
      ]
     },
     "execution_count": 288,
     "metadata": {},
     "output_type": "execute_result"
    }
   ],
   "source": [
    "# Compare APs at ingredient level\n",
    "dfs = [create_ap_df(ingredients, bm25_ap, 'bm25_ap')]\n",
    "df_final = reduce(lambda left, right: pd.merge(left, right, on='ingredient'), dfs)\n",
    "\n",
    "pd.options.display.float_format = '{:,.1f}'.format\n",
    "df_final"
   ]
  },
  {
   "cell_type": "code",
   "execution_count": 301,
   "metadata": {},
   "outputs": [],
   "source": [
    "from display_products import DisplayProducts\n",
    "from mapper import Mapper\n",
    "pm = Mapper(group10)\n",
    "dp = DisplayProducts(ranker=None, mapper=pm)"
   ]
  },
  {
   "cell_type": "code",
   "execution_count": 302,
   "metadata": {},
   "outputs": [
    {
     "name": "stdout",
     "output_type": "stream",
     "text": [
      "[14916881 52062271 23974799 52046482 15360327 13034215 17236507 51002392\n",
      " 15416056 78656229]\n"
     ]
    },
    {
     "data": {
      "image/png": "[encoded data removed]",
      "text/plain": [
       "<Figure size 1440x720 with 10 Axes>"
      ]
     },
     "metadata": {
      "needs_background": "light"
     },
     "output_type": "display_data"
    }
   ],
   "source": [
    "dp.display_products_ingredient_tcins(tcins)"
   ]
  },
  {
   "cell_type": "code",
   "execution_count": 298,
   "metadata": {},
   "outputs": [],
   "source": [
    "def counts_per_doc(docs):\n",
    "    counts = {}\n",
    "    for i in range(len(docs)):\n",
    "        words = set([str(x) for x in docs[i]]) \n",
    "        for word in words:\n",
    "            counts[word] = counts.get(word, 0) + 1\n",
    "    return counts"
   ]
  },
  {
   "cell_type": "code",
   "execution_count": 804,
   "metadata": {},
   "outputs": [],
   "source": [
    "counts = counts_per_doc(texts)"
   ]
  },
  {
   "cell_type": "code",
   "execution_count": 805,
   "metadata": {},
   "outputs": [],
   "source": [
    "def compute_tfidf(counts, N):\n",
    "    tfidf = {\"UNK\": np.log(N) }\n",
    "    for w in counts:\n",
    "        tfidf[w] = np.log(N/counts[w])\n",
    "    return tfidf"
   ]
  },
  {
   "cell_type": "code",
   "execution_count": 806,
   "metadata": {},
   "outputs": [
    {
     "data": {
      "text/plain": [
       "23247"
      ]
     },
     "execution_count": 806,
     "metadata": {},
     "output_type": "execute_result"
    }
   ],
   "source": [
    "N = len(texts)\n",
    "N"
   ]
  },
  {
   "cell_type": "code",
   "execution_count": 807,
   "metadata": {},
   "outputs": [],
   "source": [
    "tfidf = compute_tfidf(counts, N)"
   ]
  },
  {
   "cell_type": "code",
   "execution_count": 808,
   "metadata": {},
   "outputs": [],
   "source": [
    "def sentence_encoding_v2(s, tfidf=tfidf):\n",
    "    v = np.array([x.vector*(tfidf.get(str(x), tfidf[\"UNK\"])) for x in s])\n",
    "    return v.mean(axis=0)"
   ]
  },
  {
   "cell_type": "code",
   "execution_count": 809,
   "metadata": {},
   "outputs": [],
   "source": [
    "import spacy"
   ]
  },
  {
   "cell_type": "code",
   "execution_count": 810,
   "metadata": {},
   "outputs": [],
   "source": [
    "nlp = spacy.load('en_core_web_sm')"
   ]
  },
  {
   "cell_type": "code",
   "execution_count": 811,
   "metadata": {},
   "outputs": [],
   "source": [
    "def tokenize_sentence(s):\n",
    "    s = nlp(str(s.strip()))\n",
    "    return np.array([token for token in s])"
   ]
  },
  {
   "cell_type": "code",
   "execution_count": 812,
   "metadata": {},
   "outputs": [
    {
     "name": "stderr",
     "output_type": "stream",
     "text": [
      "100%|██████████| 23247/23247 [10:31<00:00, 36.82it/s]   \n"
     ]
    }
   ],
   "source": [
    "x = [tokenize_sentence(\" \".join(text)) for text in tqdm(texts)]"
   ]
  },
  {
   "cell_type": "code",
   "execution_count": 823,
   "metadata": {},
   "outputs": [],
   "source": [
    "def sentence_encoding_v2(s, tfidf=tfidf):\n",
    "    v = np.array([x.vector*(tfidf.get(str(x), tfidf[\"UNK\"])) for x in s])\n",
    "    return v.mean(axis=0)\n",
    "\n",
    "x_train = np.array([sentence_encoding_v2(x[i]) for i in range(len(x))])"
   ]
  },
  {
   "cell_type": "code",
   "execution_count": 814,
   "metadata": {},
   "outputs": [],
   "source": [
    "def sentence_encoding(s):\n",
    "    v = np.array([x.vector for x in s])\n",
    "    return v.mean(axis=0)"
   ]
  },
  {
   "cell_type": "code",
   "execution_count": 815,
   "metadata": {},
   "outputs": [],
   "source": [
    "x_train = np.array([sentence_encoding(x[i]) for i in range(len(x))])"
   ]
  },
  {
   "cell_type": "code",
   "execution_count": 829,
   "metadata": {},
   "outputs": [],
   "source": [
    "ingredient = 'sugar'\n",
    "noun = get_noun(ingredient)\n",
    "hyponyms = get_hyponyms(ingredient)\n",
    "hypernym = get_hypernym(ingredient)\n",
    "synonyms = get_synonyms(ingredient)\n",
    "multiple_nouns = get_noun_food(ingredient)\n",
    "if len(multiple_nouns) and multiple_nouns != ingredient:\n",
    "    query =  ingredient +  ' ' + multiple_nouns\n",
    "query =  \" \".join(hyponyms) + ' ' + \" \".join(synonyms) + ' ' + ingredient + ' ' + hypernym + ' ' + multiple_nouns\n",
    "query\n",
    "tokenized_query = tokenizer(query)"
   ]
  },
  {
   "cell_type": "code",
   "execution_count": 830,
   "metadata": {},
   "outputs": [
    {
     "data": {
      "text/plain": [
       "['beet',\n",
       " 'sugar',\n",
       " 'cane',\n",
       " 'sugar',\n",
       " 'granulated',\n",
       " 'sugar',\n",
       " 'sugar',\n",
       " 'loaf',\n",
       " 'corn',\n",
       " 'sugar',\n",
       " 'brown',\n",
       " 'sugar',\n",
       " 'caramelized',\n",
       " 'sugar',\n",
       " 'lump',\n",
       " 'sugar',\n",
       " 'sugarloaf',\n",
       " 'loaf',\n",
       " 'sugar',\n",
       " 'caramel',\n",
       " 'clams',\n",
       " 'bread',\n",
       " 'dough',\n",
       " 'kale',\n",
       " 'cabbage',\n",
       " 'scratch',\n",
       " 'refined',\n",
       " 'sugar',\n",
       " 'sugar',\n",
       " 'lettuce',\n",
       " 'lolly',\n",
       " 'sugar',\n",
       " 'sweetening',\n",
       " 'sugar']"
      ]
     },
     "execution_count": 830,
     "metadata": {},
     "output_type": "execute_result"
    }
   ],
   "source": [
    "tokenized_query"
   ]
  },
  {
   "cell_type": "code",
   "execution_count": 831,
   "metadata": {},
   "outputs": [],
   "source": [
    "ing = tokenize_sentence(\" \".join(tokenized_query))\n",
    "ing_vector = sentence_encoding_v2(ing)\n",
    "# ing_vector = sentence_encoding(ing)"
   ]
  },
  {
   "cell_type": "code",
   "execution_count": 832,
   "metadata": {},
   "outputs": [],
   "source": [
    "ing_vector = ing_vector.reshape(1, -1)"
   ]
  },
  {
   "cell_type": "code",
   "execution_count": 833,
   "metadata": {},
   "outputs": [],
   "source": [
    "from sentence_transformers import util"
   ]
  },
  {
   "cell_type": "code",
   "execution_count": 834,
   "metadata": {},
   "outputs": [],
   "source": [
    "scores = util.pytorch_cos_sim(ing_vector, x_train)[0]"
   ]
  },
  {
   "cell_type": "code",
   "execution_count": 835,
   "metadata": {},
   "outputs": [
    {
     "data": {
      "text/plain": [
       "array([['Crystal Dark Brown Sugar - 2lbs', 0.9308555126190186],\n",
       "       ['Koia Magic Mango Smoothie - 12 fl oz', 0.9146780967712402],\n",
       "       ['Malfy Originale Gin - 750ml Bottle', 0.9141361117362976],\n",
       "       ['Roth Cabernet Sauvignon Red Wine - 750ml Bottle',\n",
       "        0.913996696472168],\n",
       "       ['Sour Patch Kids Peg Bag - 4oz', 0.9132769107818604],\n",
       "       ['Kit-Kat Ice Cream Cone - 8ct', 0.9123331308364868],\n",
       "       ['Shipyard Export Ale Beer - 6pk/12 fl oz Bottles',\n",
       "        0.9122854471206665],\n",
       "       ['Louis Jadot Beaujolais Red Wine - 750ml Bottle',\n",
       "        0.9108126759529114],\n",
       "       ['Koia Vanilla Bean Plant Powered Nutrition Drink - 12 fl oz',\n",
       "        0.9104215502738953],\n",
       "       ['Alexander Valley Cabernet Sauvignon Red Wine - 750ml Bottle',\n",
       "        0.9099678993225098],\n",
       "       ['Koia Straw-nana Dream Smoothie - 12 fl oz', 0.9090055227279663],\n",
       "       [\"Seagram's Ginger Ale - 2 L Bottle\", 0.90815269947052],\n",
       "       ['The Federalist Bourbon Barrel Aged Cabernet Sauvignon Red Wine - 750ml Bottle',\n",
       "        0.9057447910308838],\n",
       "       ['Zellee Organic Blueberry Grape Fruit Jel - 42oz/12ct',\n",
       "        0.9050233364105225],\n",
       "       [\"Werther's Original Sugar Free Chewy Caramels Stand Up Bag – 7.7oz\",\n",
       "        0.9049572944641113],\n",
       "       ['Bourbon Barrel Aged Cabernet Sauvignon Red Wine - 750ml Bottle - The Collection',\n",
       "        0.9048808813095093],\n",
       "       [\"Seagram's Ginger Ale - 12pk/12 fl oz Cans\", 0.9044853448867798],\n",
       "       ['Le Grand Noir Pinot Noir Red Wine - 750ml Bottle',\n",
       "        0.9044345617294312],\n",
       "       ['Line 39 Pinot Noir Red Wine - 375ml Bottle', 0.9044345617294312],\n",
       "       ['Cupcake LightHearted Pinot Noir Red Wine - 750ml Bottle',\n",
       "        0.9044345617294312],\n",
       "       ['Custom Made Meals Beef Fajitas with Bell Peppers and Onion - 0.9-1.15 lbs - price per lb',\n",
       "        0.904411792755127],\n",
       "       [\"Seagram's Ginger Ale - 6pk/7.5 fl oz Mini-Cans\",\n",
       "        0.9044088125228882],\n",
       "       ['Sour Punch Assorted Bites - 3.7oz', 0.9043717980384827],\n",
       "       ['Winder Farms Skim Milk - 1gal', 0.9040447473526001],\n",
       "       ['Kleinpeter Skim Milk - 1gal', 0.9040447473526001],\n",
       "       ['Winder Farms Skim Milk - 0.5gal', 0.9040447473526001],\n",
       "       ['Kleinpeter Skim Milk - 1qt', 0.9040447473526001],\n",
       "       ['Kleinpeter Skim Milk - 0.5gal', 0.9040447473526001],\n",
       "       ['Goose Island 312 Urban Wheat Ale Beer - 6pk/12 fl oz Bottles',\n",
       "        0.9039899110794067],\n",
       "       ['Heinz Tomato Ketchup Reduced Sugar - 13oz', 0.9039642810821533],\n",
       "       ['Goose Island 312 Urban Wheat Ale Beer - 15pk/12 fl oz Cans',\n",
       "        0.9036980867385864],\n",
       "       ['Karbach Crawford Bock Beer - 12pk/12 fl oz Can',\n",
       "        0.9036863446235657],\n",
       "       [\"Kendall-Jackson Vintner's Reserve Cabernet Sauvignon Red Wine - 750ml Bottle\",\n",
       "        0.9036725759506226],\n",
       "       ['Crystal Granulated Sugar - 4LB', 0.9033758640289307],\n",
       "       ['Underwood Pinot Noir Red Wine - 375ml Can', 0.9030362963676453],\n",
       "       ['Heinz No Sugar Added Tomato Ketchup - 29.5oz',\n",
       "        0.9028787612915039],\n",
       "       ['Franciscan Cabernet Sauvignon Red Wine - 750ml Bottle',\n",
       "        0.9028497934341431],\n",
       "       ['Menage a Trois Bourbon Barrel Cabernet Sauvignon Red Wine - 750ml Bottle',\n",
       "        0.9027184247970581],\n",
       "       ['Sutter Home White Zinfandel Wine - 750ml Bottle',\n",
       "        0.9027043581008911],\n",
       "       ['Sutter Home White Zinfandel Wine - 1.5L Bottle',\n",
       "        0.9027043581008911],\n",
       "       ['Root: 1 Cabernet Sauvignon Red Wine - 750ml Bottle',\n",
       "        0.9026106595993042],\n",
       "       ['Lehigh Valley Skim Milk - 1qt', 0.9024872779846191],\n",
       "       ['Lipton Aqua Frescas Hibiscus Lime Tea Mix - 10qt',\n",
       "        0.902363657951355],\n",
       "       ['Edna Valley Pinot Noir Red Wine - 750ml Bottle',\n",
       "        0.9021774530410767],\n",
       "       [\"Rao's Frozen Made For Home Meat Lasagna - 8.9oz\",\n",
       "        0.9021717309951782],\n",
       "       ['Koia Cacao Bean Plant Powered Vegan Nutrition Drink - 12 fl oz',\n",
       "        0.9021532535552979],\n",
       "       ['Seagrams Ginger Ale - 10pk/7.5 fl oz Mini-Cans',\n",
       "        0.9019604921340942],\n",
       "       ['New Belgium Honey Orange Trippel Beer - 6pk/12 fl oz Bottles',\n",
       "        0.9019537568092346],\n",
       "       ['Mug Root Beer Caffeine Free Soda - 2L Bottle',\n",
       "        0.9010635018348694],\n",
       "       ['Sutter Home White Zinfandel Wine - 4pk/187ml Bottles',\n",
       "        0.9009702205657959],\n",
       "       ['Vernors Zero Sugar Ginger Soda - 2 L Bottle',\n",
       "        0.9009203910827637],\n",
       "       ['Turkey Hill Vanilla Bean and Double Chocolate Chip Ice Cream Sandwiches - 16oz/4ct',\n",
       "        0.9008197784423828],\n",
       "       ['Francis Coppola Diamond Black Label Claret Cabernet Sauvignon Red Wine - 750ml Bottle',\n",
       "        0.9007241725921631],\n",
       "       ['Karbach Crawford Bock Beer - 6pk/12 fl oz Cans',\n",
       "        0.900671124458313],\n",
       "       ['Kit-Kat Ice Cream Cone - 4ct', 0.9002115726470947],\n",
       "       ['RW Knudsen Carrot Ginger Turmeric Juice - 32 fl oz Bottle',\n",
       "        0.9001909494400024],\n",
       "       ['FRE Alcohol-Free Premium Red Blend - 750ml Bottle',\n",
       "        0.9000592231750488],\n",
       "       [\"Rao's Made For Home Family Size Frozen Meat Lasagna - 27oz\",\n",
       "        0.8993949294090271],\n",
       "       ['Vernors Zero Sugar Ginger Soda - 12pk/12 fl oz Cans',\n",
       "        0.8992681503295898],\n",
       "       ['Koia Chocolate Banana Plant Powered Nutrition Shake - 12 fl oz',\n",
       "        0.8992000818252563],\n",
       "       ['JELL-O Instant Banana Cream Pudding & Pie Filling - 5.1oz',\n",
       "        0.8991511464118958],\n",
       "       ['Primal Kitchen No Dairy Vodka Sauce - 23.5oz',\n",
       "        0.8988236784934998],\n",
       "       ['Crystal Sugar Light Brown Sugar - 2lbs', 0.8986295461654663],\n",
       "       ['Hiland Skim Milk - 1gal', 0.8985520005226135],\n",
       "       [\"Seagram's Ginger Ale - 20 fl oz Bottle\", 0.8984653949737549],\n",
       "       ['Robert Mondavi Private Selection Bourbon Barrel Aged Cabernet Sauvignon Red Wine - 750ml Bottle',\n",
       "        0.8983949422836304],\n",
       "       ['Crystal Light Liquid Strawberry Lemonade Drink Mix - 1.62 fl oz Bottle',\n",
       "        0.8981772065162659],\n",
       "       ['Northlight 14pc Picnic Party Gourmet Summer Sausage and Cheese Gift Basket - Large',\n",
       "        0.8980543613433838],\n",
       "       ['Primal Kitchen Dairy-Free Barbeque Ranch Dressing with Avocado Oil 8fl oz',\n",
       "        0.8980294466018677],\n",
       "       ['Koia Glowing Greens Smoothie - 12 fl oz', 0.8979527950286865],\n",
       "       ['Cavalera Sugar Skull Molding and Decorating Kit - 16.7oz - Dia de los Muertos™',\n",
       "        0.8979373574256897],\n",
       "       ['Goose Island IPA Beer - 15pk/12 fl oz Cans', 0.8978443145751953],\n",
       "       ['Edna Valley Vineyard Sauvignon Blanc White Wine - 750ml Bottle',\n",
       "        0.8975785970687866],\n",
       "       [\"Bobo's Peanut Butter Chocolate Chip Bar - 8.8oz/4ct\",\n",
       "        0.8972727060317993],\n",
       "       ['Robert Mondavi Private Selection Rye Barrel-Aged Red Blend Wine - 750ml Bottle',\n",
       "        0.8972448110580444],\n",
       "       ['Kendall-Jackson Grand Reserve Cabernet Sauvignon Red Wine - 750ml Bottle',\n",
       "        0.8972048759460449],\n",
       "       ['New Belgium Voodoo Ranger Juicy Haze IPA Beer - 6pk/12 fl oz Cans',\n",
       "        0.8969388008117676],\n",
       "       ['Bundaberg Root Beer Soda  - 4pk/375ml Bottles',\n",
       "        0.8968652486801147],\n",
       "       ['Sutter Home Sauvignon Blanc White Wine - 187ml Bottles/4pk',\n",
       "        0.8967676162719727],\n",
       "       ['Sonoma-Cutrer Pinot Noir Red Wine - 750ml Bottle',\n",
       "        0.8967173099517822],\n",
       "       ['Veuve Clicquot Yellow Label Brut Champagne - 750ml Bottle',\n",
       "        0.8966965675354004],\n",
       "       ['Goose Island IPA Beer - 12pk/12 fl oz Bottles',\n",
       "        0.8965291976928711],\n",
       "       ['Goose Island IPA Beer - 6pk/12 fl oz Bottles',\n",
       "        0.8965291976928711],\n",
       "       ['Reiter Fat Free Skim Milk - 1qt', 0.8964264392852783],\n",
       "       ['Reiter Fat Free Skim Milk - 0.5gal', 0.8964264392852783],\n",
       "       ['Reiter Fat Free Skim Milk - 14 fl oz', 0.8964264392852783],\n",
       "       ['Reiter Fat Free Skim Milk - 1gal', 0.8964264392852783],\n",
       "       ['G Hughes Smokehouse Sugar Free BBQ Sauce Honey Flavored - 18oz',\n",
       "        0.8964219093322754],\n",
       "       ['Mirassou Pinot Noir Red Wine - 750ml Bottle',\n",
       "        0.8964191675186157],\n",
       "       ['Bulleit Barrel Strength Bourbon 750ML', 0.8963764309883118],\n",
       "       ['Gevalia House Blend Medium Dark Roast Ground Coffee - Decaf - 12oz',\n",
       "        0.8963005542755127],\n",
       "       ['Oatmeal Squares Brown Sugar Large Box - 21oz - Quaker',\n",
       "        0.896187424659729],\n",
       "       ['Perdue Harvestland Organic Chicken Breast Tenders - 0.8-1.35 lbs - price per lb',\n",
       "        0.8960710167884827],\n",
       "       ['New Belgium Fat Tire Amber Ale Beer - 12pk/12 fl oz Cans',\n",
       "        0.8958442211151123],\n",
       "       ['Shady Brook Farms Antibiotic-Free 99% Ground Turkey Breast - 16oz',\n",
       "        0.8958253860473633],\n",
       "       ['New Belgium Fat Tire Amber Ale Beer - 6pk/12 fl oz Bottles',\n",
       "        0.8957878351211548],\n",
       "       ['New Belgium Fat Tire Amber Ale Beer - 12pk/12 fl oz Bottles',\n",
       "        0.8957878351211548],\n",
       "       ['Northlight 8pc Gourmet Cut Above Sausage and Cracker Sampler Gift Pack',\n",
       "        0.8956454992294312],\n",
       "       ['Coors Banquet Beer - 30pk/12 fl oz Cans', 0.8955346345901489],\n",
       "       ['Cheurlin Brut Spéciale Champagne - 750ml Bottle',\n",
       "        0.8953728675842285]], dtype=object)"
      ]
     },
     "execution_count": 835,
     "metadata": {},
     "output_type": "execute_result"
    }
   ],
   "source": [
    "group10['scores'] = scores\n",
    "group10.sort_values('scores', ascending=False)[['title', 'scores']].head(100).values"
   ]
  },
  {
   "cell_type": "code",
   "execution_count": null,
   "metadata": {},
   "outputs": [],
   "source": []
  }
 ],
 "metadata": {
  "interpreter": {
   "hash": "0ae4cdc5e4104427b156a8a6e2adbe5664dd6bc8541409b3d7a7fc1cd3278568"
  },
  "kernelspec": {
   "display_name": "Python 3.8.8 ('base')",
   "language": "python",
   "name": "python3"
  },
  "language_info": {
   "codemirror_mode": {
    "name": "ipython",
    "version": 3
   },
   "file_extension": ".py",
   "mimetype": "text/x-python",
   "name": "python",
   "nbconvert_exporter": "python",
   "pygments_lexer": "ipython3",
   "version": "3.8.8"
  },
  "orig_nbformat": 4
 },
 "nbformat": 4,
 "nbformat_minor": 2
}
