{
 "cells": [
  {
   "cell_type": "code",
   "execution_count": 63,
   "id": "ce62020a",
   "metadata": {},
   "outputs": [],
   "source": [
    "import json\n",
    "import re\n",
    "import pandas as pd \n",
    "import numpy as np\n",
    "from nltk.stem.porter import PorterStemmer\n",
    "import string\n",
    "from nltk import word_tokenize, pos_tag\n",
    "import spacy\n",
    "from collections import Counter\n",
    "import os\n",
    "import pickle"
   ]
  },
  {
   "cell_type": "code",
   "execution_count": 64,
   "id": "f1bd390f",
   "metadata": {},
   "outputs": [],
   "source": [
    "from sentence_transformers import SentenceTransformer, CrossEncoder\n",
    "from ranker import TransformerRanker, CrossEncoderRanker\n",
    "from preprocessor import *\n",
    "from mapper import Mapper\n",
    "from display_products import DisplayProducts\n",
    "import joblib"
   ]
  },
  {
   "cell_type": "code",
   "execution_count": 65,
   "id": "0a2d8188",
   "metadata": {},
   "outputs": [],
   "source": [
    "filepath = \"/Users/chahaksethi/Desktop/Target/data/1m_recipe/recipe1M_layers/layer1.json\"\n",
    "with open(filepath) as json_data:\n",
    "    recipe = json.load(json_data)"
   ]
  },
  {
   "cell_type": "code",
   "execution_count": 66,
   "id": "af345e76",
   "metadata": {},
   "outputs": [],
   "source": [
    "# Set input file directory\n",
    "\n",
    "# ip_file_dir = \"../Data/Target Data/\"\n",
    "ip_file_dir = \"/Users/chahaksethi/Desktop/Target/target/target_recipe_project/data/\"\n",
    "# Get grocery product hierarchy information\n",
    "group10 = pd.read_csv(os.path.join(ip_file_dir, \n",
    "                                   'group4_header.csv'),\n",
    "                      sep=',', \n",
    "                      low_memory=False)\n",
    "\n",
    "# Get scraped information for the above products\n",
    "products = pd.read_csv(os.path.join(ip_file_dir,\n",
    "                                    'scraped/products_group4.csv'))\n",
    "\n",
    "# Merge scraped information into the hierarchy table\n",
    "group10 = pd.merge(group10, products, \n",
    "                   how = 'left', on = 'tcin')\n",
    "\n",
    "# Preprocess the table\n",
    "group10 = preprocess_df(group10)"
   ]
  },
  {
   "cell_type": "code",
   "execution_count": 67,
   "id": "96593727",
   "metadata": {},
   "outputs": [],
   "source": [
    "bi_encoder_name = \"multi-qa-MiniLM-L6-cos-v1\"\n",
    "cross_encoder_name = \"cross-encoder/ms-marco-MiniLM-L-4-v2\"\n",
    "k=3"
   ]
  },
  {
   "cell_type": "code",
   "execution_count": 68,
   "id": "4ff3309f",
   "metadata": {},
   "outputs": [],
   "source": [
    "def get_embeddings(path):\n",
    "#Load sentences & embeddings from disc\n",
    "    with open(path, \"rb\") as fIn:\n",
    "        stored_data = pickle.load(fIn)\n",
    "        stored_embeddings = stored_data['embeddings']\n",
    "    return stored_embeddings\n",
    "    \n",
    "def get_tcin_sentence_map(path):\n",
    "#Load sentences & embeddings from disc\n",
    "    with open(path, \"rb\") as fIn:\n",
    "        stored_data = pickle.load(fIn)\n",
    "        df = pd.DataFrame()\n",
    "        df['tcin'] = stored_data['ids']\n",
    "        df['sentence'] = stored_data['sentences']\n",
    "    return df\n",
    "\n",
    "bi_encoder = SentenceTransformer(bi_encoder_name)\n",
    "\n",
    "# Get list of preprocessed product titles\n",
    "product_titles = group10['title'].str.lower().values\n",
    "\n",
    "l1_ranker = TransformerRanker(model=bi_encoder, product_ids=group10['tcin'], max_rank=3)\n",
    "with open('/Users/chahaksethi/Desktop/Target/target/target_recipe_project/data/embeddings/hier_embeddings3.pkl', \"rb\") as fIn:\n",
    "    stored_data = pickle.load(fIn)\n",
    "    stored_ids = stored_data['ids']\n",
    "    stored_sentences = stored_data['sentences']\n",
    "    stored_embeddings = stored_data['embeddings']\n",
    "df = pd.DataFrame()\n",
    "df['id'] = stored_data['ids']\n",
    "df['sentence'] = stored_data['sentences']\n",
    "l1_ranker.load_embeddings(stored_embeddings)\n",
    "\n",
    "cross_encoder_model = CrossEncoder('cross-encoder/ms-marco-MiniLM-L-12-v2', max_length=512)\n",
    "l2_ranker = CrossEncoderRanker(bi_model=l1_ranker, \n",
    "                                cross_model=cross_encoder_model, \n",
    "                                tcin_sentence_map=get_tcin_sentence_map('/Users/chahaksethi/Desktop/Target/target/target_recipe_project/data/embeddings/hier_embeddings3.pkl'),\n",
    "                                cross_rank=k,\n",
    "                                bi_rank=30)\n",
    "\n",
    "pm = Mapper(group10)\n",
    "dp = DisplayProducts(ranker=l2_ranker, mapper=pm)"
   ]
  },
  {
   "cell_type": "code",
   "execution_count": 69,
   "id": "be7c95ab",
   "metadata": {},
   "outputs": [],
   "source": [
    "tool_indicator_regex = '(pan|skillet|dish|pot|sheet|grate|whisk|griddle|bowl|oven|saucepan|foil|mortar|pestle|pitcher|bag|cup|stick|blender|paper|knife|glass|brush|colander)'\n",
    "method_indicator_regex = '(boil|bake|baking|stir|roast|fry|rinse|drain|sift|beat|fold|chop|slice|saute|grate|grill|cut)'\n",
    "\n"
   ]
  },
  {
   "cell_type": "code",
   "execution_count": 70,
   "id": "265155a6",
   "metadata": {},
   "outputs": [],
   "source": [
    "def recipe_load(s,n):\n",
    "    recipe_instr=[]\n",
    "    for i in range(s,n):\n",
    "        title = recipe[i]['title']\n",
    "        id = recipe[i]['id']\n",
    "        \n",
    "        for lis in recipe[i]['instructions']:\n",
    "            for key, val in lis.items():   \n",
    "                rem = re.sub(\"[\\(\\[].*?[\\)\\]]\", \"\", val)\n",
    "                if rem !='':\n",
    "                    recipe_instr.append(rem)\n",
    "    return ' '.join(recipe_instr)\n"
   ]
  },
  {
   "cell_type": "code",
   "execution_count": 71,
   "id": "680158cc",
   "metadata": {},
   "outputs": [],
   "source": [
    "def find_tools(instruction_words):\n",
    "    \"\"\"\n",
    "    looks for any and all cooking tools apparent in the instruction text by using the tool_indicator_regex\n",
    "    variable\n",
    "    \"\"\"\n",
    "    cooking_tools = []\n",
    "    for word in instruction_words:\n",
    "        if re.search(tool_indicator_regex, word, flags=re.I):\n",
    "#             print(word)\n",
    "            cooking_tools.append(word)\n",
    "        wordset = set(cooking_tools)\n",
    "    return [item for item in wordset if item.istitle() or item.title() not in wordset]\n",
    "\n",
    "def find_methods(instruction_words):\n",
    "        \"\"\"\n",
    "        looks for any and all cooking methods apparent in the instruction text by using the method_indicator_regex\n",
    "        variable\n",
    "        \"\"\"\n",
    "        cooking_methods = []\n",
    "        for word in instruction_words:\n",
    "            if re.search(method_indicator_regex, word, flags=re.I):\n",
    "                cooking_methods.append(word)\n",
    "            if re.search('preheat', word, re.I):\n",
    "                cooking_methods.append('bake')\n",
    "\n",
    "        wordset = set(cooking_methods)\n",
    "        return [item for item in wordset if item.istitle() or item.title() not in wordset]\n"
   ]
  },
  {
   "cell_type": "code",
   "execution_count": 72,
   "id": "80d37633",
   "metadata": {},
   "outputs": [],
   "source": [
    "instruction_words = word_tokenize(recipe_load(11000,11001))\n",
    "cooking_tools = find_tools(instruction_words)\n",
    "cooking_methods = find_methods(instruction_words)"
   ]
  },
  {
   "cell_type": "code",
   "execution_count": 73,
   "id": "87766e2a",
   "metadata": {},
   "outputs": [
    {
     "data": {
      "text/plain": [
       "['dish', 'oven', 'bowl', 'colander', 'pot', 'oven-proof']"
      ]
     },
     "execution_count": 73,
     "metadata": {},
     "output_type": "execute_result"
    }
   ],
   "source": [
    "cooking_tools"
   ]
  },
  {
   "cell_type": "code",
   "execution_count": 74,
   "id": "e14a809d",
   "metadata": {},
   "outputs": [
    {
     "data": {
      "text/plain": [
       "['Chop', 'drained', 'boiling', 'Drain', 'Bake']"
      ]
     },
     "execution_count": 74,
     "metadata": {},
     "output_type": "execute_result"
    }
   ],
   "source": [
    "cooking_methods"
   ]
  },
  {
   "cell_type": "code",
   "execution_count": 75,
   "id": "83cadc4f",
   "metadata": {},
   "outputs": [],
   "source": [
    "cross_encoder_model = CrossEncoder('cross-encoder/ms-marco-MiniLM-L-12-v2', max_length=512)\n",
    "l2_ranker = CrossEncoderRanker(bi_model=l1_ranker, \n",
    "                                cross_model=cross_encoder_model, \n",
    "                                tcin_sentence_map=get_tcin_sentence_map('../../data/embeddings/hier_embeddings_products4.pkl'),\n",
    "                                cross_rank=k,\n",
    "                                bi_rank=30)\n",
    "\n",
    "# pm = Mapper(group10)\n",
    "# dp = DisplayProducts(ranker=l2_ranker, mapper=pm)\n",
    "\n",
    "cooking__tools = preprocess(cooking_tools)\n",
    "\n",
    "# Ranked list of product tcin matches for each ingredient - Returns a list of lists \n",
    "ranked_match = l2_ranker.rank_products_recipe(cooking__tools, 3)"
   ]
  },
  {
   "cell_type": "code",
   "execution_count": 76,
   "id": "83d5b013",
   "metadata": {},
   "outputs": [
    {
     "data": {
      "text/plain": [
       "[[53623409, 84292380, 84292397],\n",
       " [81533140, 79192005, 76168327],\n",
       " [78055091, 84717721, 76174756],\n",
       " [21398001, 52532459, 84138636],\n",
       " [81957706, 76187605, 83776489],\n",
       " [81533140, 79192005, 79314522]]"
      ]
     },
     "execution_count": 76,
     "metadata": {},
     "output_type": "execute_result"
    }
   ],
   "source": [
    "ranked_match"
   ]
  },
  {
   "cell_type": "code",
   "execution_count": 52,
   "id": "bdd6febf",
   "metadata": {},
   "outputs": [
    {
     "data": {
      "text/plain": [
       "['dish', 'oven', 'bowl', 'colander', 'pot', 'oven proof']"
      ]
     },
     "execution_count": 52,
     "metadata": {},
     "output_type": "execute_result"
    }
   ],
   "source": [
    "cooking__tools"
   ]
  },
  {
   "cell_type": "code",
   "execution_count": 62,
   "id": "401113bc",
   "metadata": {},
   "outputs": [
    {
     "data": {
      "text/plain": [
       "array(['BergHOFF GEM 11\" Cast Iron Covered Dutch Oven 7.2 Qt'],\n",
       "      dtype=object)"
      ]
     },
     "execution_count": 62,
     "metadata": {},
     "output_type": "execute_result"
    }
   ],
   "source": [
    "group10[group10['tcin']==79192005]['title'].values"
   ]
  },
  {
   "cell_type": "code",
   "execution_count": 54,
   "id": "c601b147",
   "metadata": {},
   "outputs": [
    {
     "data": {
      "text/html": [
       "<div>\n",
       "<style scoped>\n",
       "    .dataframe tbody tr th:only-of-type {\n",
       "        vertical-align: middle;\n",
       "    }\n",
       "\n",
       "    .dataframe tbody tr th {\n",
       "        vertical-align: top;\n",
       "    }\n",
       "\n",
       "    .dataframe thead th {\n",
       "        text-align: right;\n",
       "    }\n",
       "</style>\n",
       "<table border=\"1\" class=\"dataframe\">\n",
       "  <thead>\n",
       "    <tr style=\"text-align: right;\">\n",
       "      <th></th>\n",
       "      <th>Unnamed: 0</th>\n",
       "      <th>tcin</th>\n",
       "      <th>item_state</th>\n",
       "      <th>title</th>\n",
       "      <th>update_ts</th>\n",
       "      <th>brand_classification</th>\n",
       "      <th>brand_group</th>\n",
       "      <th>brand_id</th>\n",
       "      <th>brand</th>\n",
       "      <th>class_id</th>\n",
       "      <th>...</th>\n",
       "      <th>rating</th>\n",
       "      <th>n_reviews</th>\n",
       "      <th>highlights</th>\n",
       "      <th>specifications</th>\n",
       "      <th>description</th>\n",
       "      <th>serving_info</th>\n",
       "      <th>nutrition_info</th>\n",
       "      <th>ingredients</th>\n",
       "      <th>allergens</th>\n",
       "      <th>title_modified</th>\n",
       "    </tr>\n",
       "  </thead>\n",
       "  <tbody>\n",
       "    <tr>\n",
       "      <th>13066</th>\n",
       "      <td>432894</td>\n",
       "      <td>52532459</td>\n",
       "      <td>READY_FOR_LAUNCH</td>\n",
       "      <td>Keurig K-Select Single-Serve K-Cup Coffee Pod ...</td>\n",
       "      <td>2021-09-27 22:26:45</td>\n",
       "      <td>National-National</td>\n",
       "      <td>National</td>\n",
       "      <td>3831.0</td>\n",
       "      <td>Keurig</td>\n",
       "      <td>8</td>\n",
       "      <td>...</td>\n",
       "      <td>4.3</td>\n",
       "      <td>2155.0</td>\n",
       "      <td>[WHAT'S IN THE BOX: One water filter handle, a...</td>\n",
       "      <td>[Item Number (DPCI): 072-08-1496, Care &amp; Clean...</td>\n",
       "      <td>The Keurig K-Select single serve coffee maker ...</td>\n",
       "      <td>NaN</td>\n",
       "      <td>NaN</td>\n",
       "      <td>NaN</td>\n",
       "      <td>NaN</td>\n",
       "      <td>keurig k select single serve k cup coffee pod ...</td>\n",
       "    </tr>\n",
       "  </tbody>\n",
       "</table>\n",
       "<p>1 rows × 82 columns</p>\n",
       "</div>"
      ],
      "text/plain": [
       "       Unnamed: 0      tcin        item_state  \\\n",
       "13066      432894  52532459  READY_FOR_LAUNCH   \n",
       "\n",
       "                                                   title            update_ts  \\\n",
       "13066  Keurig K-Select Single-Serve K-Cup Coffee Pod ...  2021-09-27 22:26:45   \n",
       "\n",
       "      brand_classification brand_group  brand_id   brand  class_id  ...  \\\n",
       "13066    National-National    National    3831.0  Keurig         8  ...   \n",
       "\n",
       "      rating  n_reviews                                         highlights  \\\n",
       "13066    4.3     2155.0  [WHAT'S IN THE BOX: One water filter handle, a...   \n",
       "\n",
       "                                          specifications  \\\n",
       "13066  [Item Number (DPCI): 072-08-1496, Care & Clean...   \n",
       "\n",
       "                                             description serving_info  \\\n",
       "13066  The Keurig K-Select single serve coffee maker ...          NaN   \n",
       "\n",
       "      nutrition_info  ingredients allergens  \\\n",
       "13066            NaN          NaN       NaN   \n",
       "\n",
       "                                          title_modified  \n",
       "13066  keurig k select single serve k cup coffee pod ...  \n",
       "\n",
       "[1 rows x 82 columns]"
      ]
     },
     "execution_count": 54,
     "metadata": {},
     "output_type": "execute_result"
    }
   ],
   "source": [
    "group10[group10['tcin']==52532459]"
   ]
  },
  {
   "cell_type": "code",
   "execution_count": null,
   "id": "2990b2f1",
   "metadata": {},
   "outputs": [],
   "source": []
  },
  {
   "cell_type": "code",
   "execution_count": null,
   "id": "22535c9d",
   "metadata": {},
   "outputs": [],
   "source": []
  },
  {
   "cell_type": "code",
   "execution_count": null,
   "id": "3d859a47",
   "metadata": {},
   "outputs": [],
   "source": []
  },
  {
   "cell_type": "code",
   "execution_count": null,
   "id": "5544375d",
   "metadata": {},
   "outputs": [],
   "source": []
  },
  {
   "cell_type": "code",
   "execution_count": null,
   "id": "09605502",
   "metadata": {},
   "outputs": [],
   "source": []
  },
  {
   "cell_type": "code",
   "execution_count": null,
   "id": "469372ad",
   "metadata": {},
   "outputs": [],
   "source": []
  },
  {
   "cell_type": "code",
   "execution_count": null,
   "id": "e617853e",
   "metadata": {},
   "outputs": [],
   "source": []
  },
  {
   "cell_type": "code",
   "execution_count": null,
   "id": "7a05760d",
   "metadata": {},
   "outputs": [],
   "source": []
  },
  {
   "cell_type": "code",
   "execution_count": null,
   "id": "aaf53704",
   "metadata": {},
   "outputs": [],
   "source": [
    "ner_model = spacy.blank('en')  # create blank Language class\n",
    "print(\"Created blank 'en' model\")"
   ]
  },
  {
   "cell_type": "code",
   "execution_count": null,
   "id": "6006742d",
   "metadata": {},
   "outputs": [],
   "source": [
    "TRAIN_DATA = [\n",
    "    (x, {\n",
    "        'entities': [(8, 28, 'TOOL'), (74, 89, 'METHOD')]\n",
    "    })"
   ]
  }
 ],
 "metadata": {
  "kernelspec": {
   "display_name": "Python 3 (ipykernel)",
   "language": "python",
   "name": "python3"
  },
  "language_info": {
   "codemirror_mode": {
    "name": "ipython",
    "version": 3
   },
   "file_extension": ".py",
   "mimetype": "text/x-python",
   "name": "python",
   "nbconvert_exporter": "python",
   "pygments_lexer": "ipython3",
   "version": "3.8.11"
  }
 },
 "nbformat": 4,
 "nbformat_minor": 5
}
