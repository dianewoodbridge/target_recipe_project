{
 "cells": [
  {
   "cell_type": "code",
   "execution_count": 1,
   "id": "0d2b2a82",
   "metadata": {},
   "outputs": [],
   "source": [
    "#%pip install requests"
   ]
  },
  {
   "cell_type": "code",
   "execution_count": 2,
   "id": "3b3b4f40",
   "metadata": {},
   "outputs": [],
   "source": [
    "import requests\n",
    "import json"
   ]
  },
  {
   "cell_type": "code",
   "execution_count": 3,
   "id": "32a36f59",
   "metadata": {},
   "outputs": [],
   "source": [
    "headers = {\n",
    "    'x-rapidapi-key': \"70fcf77facmshaf5555f7be26d0cp11fe0ejsn74b399108a64\",\n",
    "    'x-rapidapi-host': \"tasty.p.rapidapi.com\"\n",
    "    }\n",
    "\n",
    "offset = 0\n",
    "size = 20\n",
    "tags = \"korean\""
   ]
  },
  {
   "cell_type": "code",
   "execution_count": 4,
   "id": "ac200177",
   "metadata": {},
   "outputs": [],
   "source": [
    "url = \"https://tasty.p.rapidapi.com/recipes/list\"\n",
    "querystring = {\"from\": f\"{str(offset)}\",\"size\":f\"{str(size)}\",\"tags\":f\"{tags}\"}\n",
    "response = requests.request(\"GET\", url, headers=headers, params=querystring)"
   ]
  },
  {
   "cell_type": "code",
   "execution_count": 5,
   "id": "7a42a1c7",
   "metadata": {},
   "outputs": [],
   "source": [
    "response_json = response.json().items()"
   ]
  },
  {
   "cell_type": "code",
   "execution_count": 6,
   "id": "6ebff91b",
   "metadata": {},
   "outputs": [
    {
     "name": "stdout",
     "output_type": "stream",
     "text": [
      "7520\n",
      "7386\n",
      "2390\n",
      "7317\n",
      "7318\n",
      "7319\n",
      "7320\n",
      "7321\n",
      "7322\n",
      "7323\n",
      "2282\n",
      "2182\n",
      "7129\n",
      "7130\n",
      "7131\n",
      "7095\n",
      "2135\n",
      "1624\n",
      "6467\n",
      "1495\n"
     ]
    }
   ],
   "source": [
    "id = []\n",
    "for recipe in list(response_json)[1][1]:\n",
    "    print(recipe.get('id'))\n",
    "    id.append(recipe.get('id'))"
   ]
  },
  {
   "cell_type": "code",
   "execution_count": 7,
   "id": "5aca2d46",
   "metadata": {},
   "outputs": [],
   "source": [
    "# retrieve the first recipe for now.\n",
    "id_querystring = {\"id\":id[0]}\n",
    "url = \"https://tasty.p.rapidapi.com/recipes/detail\"\n",
    "headers = {\n",
    "    'x-rapidapi-key': \"70fcf77facmshaf5555f7be26d0cp11fe0ejsn74b399108a64\",\n",
    "    'x-rapidapi-host': \"tasty.p.rapidapi.com\"\n",
    "    }\n",
    "response = requests.request(\"GET\", url, headers=headers, params=id_querystring)"
   ]
  },
  {
   "cell_type": "code",
   "execution_count": 8,
   "id": "1ff4f55d",
   "metadata": {},
   "outputs": [],
   "source": [
    "recipe = response.json()"
   ]
  },
  {
   "cell_type": "code",
   "execution_count": 9,
   "id": "5569a439",
   "metadata": {
    "scrolled": false
   },
   "outputs": [
    {
     "data": {
      "text/plain": [
       "'Korean-Inspired Pulled Pork Sandwiches'"
      ]
     },
     "execution_count": 9,
     "metadata": {},
     "output_type": "execute_result"
    }
   ],
   "source": [
    "recipe.get('name')"
   ]
  },
  {
   "cell_type": "code",
   "execution_count": 33,
   "id": "bd07a893",
   "metadata": {
    "scrolled": false
   },
   "outputs": [],
   "source": [
    "ingredient_list = {'list': []}\n",
    "for ingredient in recipe.get('sections')[0].get('components'):\n",
    "    name = ingredient.get('ingredient').get('name')\n",
    "    quantity = ingredient.get('measurements')[0].get('quantity')\n",
    "    if(ingredient.get('measurements')[0].get('unit').get('name') != ''):\n",
    "        unit = ingredient.get('measurements')[0].get('unit').get('name')\n",
    "    ingredient_json = json.loads(\n",
    "                        json.dumps({'ingredient': name, \n",
    "                                    'quantity': quantity, \n",
    "                                    'unit':unit}, \n",
    "                                   ensure_ascii=False))\n",
    "    ingredient_list[\"list\"].append(ingredient_json)"
   ]
  },
  {
   "cell_type": "code",
   "execution_count": 34,
   "id": "08e528fb",
   "metadata": {},
   "outputs": [
    {
     "data": {
      "text/plain": [
       "{'list': [{'ingredient': 'canola oil', 'quantity': '2', 'unit': 'teaspoon'},\n",
       "  {'ingredient': 'garlic', 'quantity': '1', 'unit': 'teaspoon'},\n",
       "  {'ingredient': 'gochujang', 'quantity': '¼', 'unit': 'cup'},\n",
       "  {'ingredient': 'soy sauce', 'quantity': '60', 'unit': 'milliliter'},\n",
       "  {'ingredient': 'honey', 'quantity': '2', 'unit': 'tablespoon'},\n",
       "  {'ingredient': 'rice vinegar', 'quantity': '3', 'unit': 'tablespoon'},\n",
       "  {'ingredient': 'sesame oil', 'quantity': '1', 'unit': 'tablespoon'},\n",
       "  {'ingredient': 'Kroger® Hardwood Smoked Pulled Pork',\n",
       "   'quantity': '1',\n",
       "   'unit': 'package'},\n",
       "  {'ingredient': 'purple cabbage', 'quantity': '300', 'unit': 'gram'},\n",
       "  {'ingredient': 'carrot', 'quantity': '110', 'unit': 'gram'},\n",
       "  {'ingredient': 'kosher salt', 'quantity': '1', 'unit': 'pinch'},\n",
       "  {'ingredient': 'brioche  bun', 'quantity': '4', 'unit': 'pinch'},\n",
       "  {'ingredient': 'fresh cilantro', 'quantity': '8', 'unit': 'sprig'},\n",
       "  {'ingredient': 'jalapeño', 'quantity': '1', 'unit': 'sprig'}]}"
      ]
     },
     "execution_count": 34,
     "metadata": {},
     "output_type": "execute_result"
    }
   ],
   "source": [
    "ingredient_list "
   ]
  },
  {
   "cell_type": "code",
   "execution_count": null,
   "id": "d6be7d18",
   "metadata": {},
   "outputs": [],
   "source": []
  }
 ],
 "metadata": {
  "kernelspec": {
   "display_name": "Python 3",
   "language": "python",
   "name": "python3"
  },
  "language_info": {
   "codemirror_mode": {
    "name": "ipython",
    "version": 3
   },
   "file_extension": ".py",
   "mimetype": "text/x-python",
   "name": "python",
   "nbconvert_exporter": "python",
   "pygments_lexer": "ipython3",
   "version": "3.9.5"
  },
  "varInspector": {
   "cols": {
    "lenName": 16,
    "lenType": 16,
    "lenVar": 40
   },
   "kernels_config": {
    "python": {
     "delete_cmd_postfix": "",
     "delete_cmd_prefix": "del ",
     "library": "var_list.py",
     "varRefreshCmd": "print(var_dic_list())"
    },
    "r": {
     "delete_cmd_postfix": ") ",
     "delete_cmd_prefix": "rm(",
     "library": "var_list.r",
     "varRefreshCmd": "cat(var_dic_list()) "
    }
   },
   "types_to_exclude": [
    "module",
    "function",
    "builtin_function_or_method",
    "instance",
    "_Feature"
   ],
   "window_display": false
  }
 },
 "nbformat": 4,
 "nbformat_minor": 5
}
