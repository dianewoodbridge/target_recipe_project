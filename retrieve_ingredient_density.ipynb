{
 "cells": [
  {
   "cell_type": "markdown",
   "id": "8cb81ef2",
   "metadata": {},
   "source": [
    "# Data from USDA FDC : \n",
    "\n",
    "https://fdc.nal.usda.gov/index.html"
   ]
  },
  {
   "cell_type": "markdown",
   "id": "2100d38c",
   "metadata": {},
   "source": [
    "USDA : \n",
    "    API KEY - 6QckmmkUv58RO4eu9eiXKUD1a0L60mSjTnHfa036\n",
    "    \n",
    "    Ex. \n",
    "    https://api.nal.usda.gov/fdc/v1/foods/search?query=apple&pageSize=2&api_key=6QckmmkUv58RO4eu9eiXKUD1a0L60mSjTnHfa036"
   ]
  },
  {
   "cell_type": "code",
   "execution_count": 1,
   "id": "25ff9729",
   "metadata": {},
   "outputs": [],
   "source": [
    "import requests"
   ]
  },
  {
   "cell_type": "code",
   "execution_count": 22,
   "id": "84d4ac56",
   "metadata": {},
   "outputs": [],
   "source": [
    "api_key = \"6QckmmkUv58RO4eu9eiXKUD1a0L60mSjTnHfa036\"\n",
    "# ingredient = \"poultry seasoning\"\n",
    "ingredient=\"parmigiano reggiano cheese\""
   ]
  },
  {
   "cell_type": "code",
   "execution_count": 23,
   "id": "967926a8",
   "metadata": {},
   "outputs": [],
   "source": [
    "def search_usda_food_with_fdcid(fdcid):\n",
    "    '''\n",
    "    given fdc id, return the detailed info\n",
    "    '''\n",
    "    url = \"https://api.nal.usda.gov/fdc/v1/food/{}?api_key={}\".format(fdcid, api_key)\n",
    "    response = requests.request(\"GET\", url)\n",
    "\n",
    "    if response.status_code != 200:\n",
    "        raise Exception(response.status_code, response.text)\n",
    "    \n",
    "    return response.json()"
   ]
  },
  {
   "cell_type": "code",
   "execution_count": 24,
   "id": "f9169266",
   "metadata": {},
   "outputs": [],
   "source": [
    "def search_fdcid(ingredient):\n",
    "    '''\n",
    "    Return the fdc id of the search for the first one with food portions\n",
    "    '''\n",
    "    ingredient = ingredient.replace(\" \",\"%20\")\n",
    "    url = \"https://api.nal.usda.gov/fdc/v1/foods/search?query={}&model=foodPortion&api_key=6QckmmkUv58RO4eu9eiXKUD1a0L60mSjTnHfa036\"\\\n",
    "          .format(ingredient)\n",
    "    response = requests.request(\"GET\", url)\n",
    "\n",
    "    if response.status_code != 200:\n",
    "        raise Exception(response.status_code, response.text)\n",
    "    \n",
    "    for food in response.json().get(\"foods\"):\n",
    "        fdc_id = food.get(\"fdcId\")\n",
    "        if( len(search_usda_food_with_fdcid(fdc_id).get(\"foodPortions\"))> 0 ):\n",
    "            return fdc_id"
   ]
  },
  {
   "cell_type": "code",
   "execution_count": 25,
   "id": "d3e40656",
   "metadata": {},
   "outputs": [
    {
     "ename": "Exception",
     "evalue": "(400, '{\"timestamp\":\"2021-11-16T01:45:45.812+0000\",\"status\":400,\"error\":\"Bad Request\",\"message\":\"Failed to convert value of type \\'java.lang.String\\' to required type \\'java.lang.Long\\'; nested exception is java.lang.NumberFormatException: For input string: \\\\\"None\\\\\"\",\"path\":\"/portal-data/api/v1/food/None\"}')",
     "output_type": "error",
     "traceback": [
      "\u001b[0;31m---------------------------------------------------------------------------\u001b[0m",
      "\u001b[0;31mException\u001b[0m                                 Traceback (most recent call last)",
      "\u001b[0;32m/var/folders/fd/fg4j4jtn11q95kb2m8q10q1c0000gn/T/ipykernel_38058/132881525.py\u001b[0m in \u001b[0;36m<module>\u001b[0;34m\u001b[0m\n\u001b[1;32m      1\u001b[0m \u001b[0mfdcid\u001b[0m \u001b[0;34m=\u001b[0m \u001b[0msearch_fdcid\u001b[0m\u001b[0;34m(\u001b[0m\u001b[0mingredient\u001b[0m\u001b[0;34m)\u001b[0m\u001b[0;34m\u001b[0m\u001b[0;34m\u001b[0m\u001b[0m\n\u001b[0;32m----> 2\u001b[0;31m \u001b[0mjson_data\u001b[0m \u001b[0;34m=\u001b[0m \u001b[0msearch_usda_food_with_fdcid\u001b[0m\u001b[0;34m(\u001b[0m\u001b[0mfdcid\u001b[0m\u001b[0;34m)\u001b[0m\u001b[0;34m\u001b[0m\u001b[0;34m\u001b[0m\u001b[0m\n\u001b[0m",
      "\u001b[0;32m/var/folders/fd/fg4j4jtn11q95kb2m8q10q1c0000gn/T/ipykernel_38058/440196579.py\u001b[0m in \u001b[0;36msearch_usda_food_with_fdcid\u001b[0;34m(fdcid)\u001b[0m\n\u001b[1;32m      7\u001b[0m \u001b[0;34m\u001b[0m\u001b[0m\n\u001b[1;32m      8\u001b[0m     \u001b[0;32mif\u001b[0m \u001b[0mresponse\u001b[0m\u001b[0;34m.\u001b[0m\u001b[0mstatus_code\u001b[0m \u001b[0;34m!=\u001b[0m \u001b[0;36m200\u001b[0m\u001b[0;34m:\u001b[0m\u001b[0;34m\u001b[0m\u001b[0;34m\u001b[0m\u001b[0m\n\u001b[0;32m----> 9\u001b[0;31m         \u001b[0;32mraise\u001b[0m \u001b[0mException\u001b[0m\u001b[0;34m(\u001b[0m\u001b[0mresponse\u001b[0m\u001b[0;34m.\u001b[0m\u001b[0mstatus_code\u001b[0m\u001b[0;34m,\u001b[0m \u001b[0mresponse\u001b[0m\u001b[0;34m.\u001b[0m\u001b[0mtext\u001b[0m\u001b[0;34m)\u001b[0m\u001b[0;34m\u001b[0m\u001b[0;34m\u001b[0m\u001b[0m\n\u001b[0m\u001b[1;32m     10\u001b[0m \u001b[0;34m\u001b[0m\u001b[0m\n\u001b[1;32m     11\u001b[0m     \u001b[0;32mreturn\u001b[0m \u001b[0mresponse\u001b[0m\u001b[0;34m.\u001b[0m\u001b[0mjson\u001b[0m\u001b[0;34m(\u001b[0m\u001b[0;34m)\u001b[0m\u001b[0;34m\u001b[0m\u001b[0;34m\u001b[0m\u001b[0m\n",
      "\u001b[0;31mException\u001b[0m: (400, '{\"timestamp\":\"2021-11-16T01:45:45.812+0000\",\"status\":400,\"error\":\"Bad Request\",\"message\":\"Failed to convert value of type \\'java.lang.String\\' to required type \\'java.lang.Long\\'; nested exception is java.lang.NumberFormatException: For input string: \\\\\"None\\\\\"\",\"path\":\"/portal-data/api/v1/food/None\"}')"
     ]
    }
   ],
   "source": [
    "fdcid = search_fdcid(ingredient)\n",
    "json_data = search_usda_food_with_fdcid(fdcid)"
   ]
  },
  {
   "cell_type": "code",
   "execution_count": null,
   "id": "2d1ac110",
   "metadata": {},
   "outputs": [],
   "source": [
    "fdcid"
   ]
  },
  {
   "cell_type": "code",
   "execution_count": null,
   "id": "f196fde6",
   "metadata": {},
   "outputs": [],
   "source": [
    "json_data"
   ]
  },
  {
   "cell_type": "code",
   "execution_count": null,
   "id": "a68fbcb1",
   "metadata": {},
   "outputs": [],
   "source": [
    "json_data.get(\"foodPortions\")"
   ]
  },
  {
   "cell_type": "code",
   "execution_count": 43,
   "id": "fe692a4c",
   "metadata": {},
   "outputs": [],
   "source": [
    "#salt"
   ]
  },
  {
   "cell_type": "code",
   "execution_count": 35,
   "id": "b229dc7f",
   "metadata": {},
   "outputs": [
    {
     "data": {
      "text/plain": [
       "['1', 'cup']"
      ]
     },
     "execution_count": 35,
     "metadata": {},
     "output_type": "execute_result"
    }
   ],
   "source": [
    "vol = json_data.get(\"foodPortions\")[0]['portionDescription'].split(' ')\n",
    "vol"
   ]
  },
  {
   "cell_type": "code",
   "execution_count": 11,
   "id": "946362c9",
   "metadata": {},
   "outputs": [
    {
     "data": {
      "text/plain": [
       "100.0"
      ]
     },
     "execution_count": 11,
     "metadata": {},
     "output_type": "execute_result"
    }
   ],
   "source": [
    "retrieve_food_portions(json_data)[0]['gramWeight']"
   ]
  },
  {
   "cell_type": "code",
   "execution_count": 22,
   "id": "e5f38a2c",
   "metadata": {},
   "outputs": [],
   "source": [
    "# sugar"
   ]
  },
  {
   "cell_type": "code",
   "execution_count": 24,
   "id": "58e9622b",
   "metadata": {},
   "outputs": [
    {
     "data": {
      "text/plain": [
       "['1', 'teaspoon']"
      ]
     },
     "execution_count": 24,
     "metadata": {},
     "output_type": "execute_result"
    }
   ],
   "source": [
    "vol = retrieve_food_portions(json_data)[0]['portionDescription'].split(' ')\n",
    "vol"
   ]
  },
  {
   "cell_type": "code",
   "execution_count": 21,
   "id": "7b983385",
   "metadata": {},
   "outputs": [
    {
     "data": {
      "text/plain": [
       "2.0"
      ]
     },
     "execution_count": 21,
     "metadata": {},
     "output_type": "execute_result"
    }
   ],
   "source": [
    "retrieve_food_portions(json_data)[0]['gramWeight']"
   ]
  },
  {
   "cell_type": "code",
   "execution_count": null,
   "id": "d848235a",
   "metadata": {},
   "outputs": [],
   "source": [
    "#Creamy Peanut Butter"
   ]
  },
  {
   "cell_type": "code",
   "execution_count": 45,
   "id": "fc25f943",
   "metadata": {},
   "outputs": [
    {
     "data": {
      "text/plain": [
       "1.0"
      ]
     },
     "execution_count": 45,
     "metadata": {},
     "output_type": "execute_result"
    }
   ],
   "source": [
    "vol = json_data.get(\"foodPortions\")[0]['amount']\n",
    "vol"
   ]
  },
  {
   "cell_type": "code",
   "execution_count": null,
   "id": "58204404",
   "metadata": {},
   "outputs": [],
   "source": []
  }
 ],
 "metadata": {
  "kernelspec": {
   "display_name": "Python 3 (ipykernel)",
   "language": "python",
   "name": "python3"
  },
  "language_info": {
   "codemirror_mode": {
    "name": "ipython",
    "version": 3
   },
   "file_extension": ".py",
   "mimetype": "text/x-python",
   "name": "python",
   "nbconvert_exporter": "python",
   "pygments_lexer": "ipython3",
   "version": "3.8.11"
  },
  "varInspector": {
   "cols": {
    "lenName": 16,
    "lenType": 16,
    "lenVar": 40
   },
   "kernels_config": {
    "python": {
     "delete_cmd_postfix": "",
     "delete_cmd_prefix": "del ",
     "library": "var_list.py",
     "varRefreshCmd": "print(var_dic_list())"
    },
    "r": {
     "delete_cmd_postfix": ") ",
     "delete_cmd_prefix": "rm(",
     "library": "var_list.r",
     "varRefreshCmd": "cat(var_dic_list()) "
    }
   },
   "types_to_exclude": [
    "module",
    "function",
    "builtin_function_or_method",
    "instance",
    "_Feature"
   ],
   "window_display": false
  }
 },
 "nbformat": 4,
 "nbformat_minor": 5
}
