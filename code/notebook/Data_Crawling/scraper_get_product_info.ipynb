{
 "cells": [
  {
   "cell_type": "code",
   "execution_count": 404,
   "id": "cf7cbc8d",
   "metadata": {
    "ExecuteTime": {
     "end_time": "2021-11-06T20:10:47.957413Z",
     "start_time": "2021-11-06T20:10:47.953708Z"
    }
   },
   "outputs": [],
   "source": [
    "import pandas as pd\n",
    "import numpy as np\n",
    "import os\n",
    "from tqdm.notebook import tqdm\n",
    "import glob\n",
    "\n",
    "from bs4 import BeautifulSoup"
   ]
  },
  {
   "cell_type": "code",
   "execution_count": 405,
   "id": "27358720",
   "metadata": {
    "ExecuteTime": {
     "end_time": "2021-11-06T20:10:48.503836Z",
     "start_time": "2021-11-06T20:10:48.173093Z"
    }
   },
   "outputs": [],
   "source": [
    "group10 = pd.read_csv('../Data/Target Data/group10_header.csv',\n",
    "                      sep='\\t', low_memory=False)\n",
    "ip_file_dir = \"../Data/Target Data/scraped\"\n",
    "file_list = glob.glob(\"../Data/Target Data/scraped/*details*\")\n",
    "tcin_completed = [file.split('/')[-1].split('_')[0] for file in file_list]\n",
    "total_tcin = list(set(pd.Series(tcin_completed).astype('int')))"
   ]
  },
  {
   "cell_type": "code",
   "execution_count": 406,
   "id": "48740ae6",
   "metadata": {
    "ExecuteTime": {
     "end_time": "2021-11-06T20:10:48.507337Z",
     "start_time": "2021-11-06T20:10:48.505008Z"
    }
   },
   "outputs": [
    {
     "data": {
      "text/plain": [
       "21611"
      ]
     },
     "execution_count": 406,
     "metadata": {},
     "output_type": "execute_result"
    }
   ],
   "source": [
    "len(total_tcin)"
   ]
  },
  {
   "cell_type": "code",
   "execution_count": 418,
   "id": "be94906d",
   "metadata": {
    "ExecuteTime": {
     "end_time": "2021-11-06T20:12:37.903951Z",
     "start_time": "2021-11-06T20:12:37.898480Z"
    }
   },
   "outputs": [],
   "source": [
    "def get_highlights(soup):\n",
    "    highlights = []\n",
    "    try:\n",
    "        highlight_tag = soup.find('h3', text='Highlights')\n",
    "        highlights_sib = highlight_tag.find_next()\n",
    "        highlights_spans = highlights_sib.find_all('span')\n",
    "        for s in highlights_spans:\n",
    "            highlights.append(s.text)\n",
    "    except:\n",
    "        highlights = np.nan\n",
    "    return highlights"
   ]
  },
  {
   "cell_type": "code",
   "execution_count": 419,
   "id": "6d7ea6e9",
   "metadata": {
    "ExecuteTime": {
     "end_time": "2021-11-06T20:12:38.338228Z",
     "start_time": "2021-11-06T20:12:38.329661Z"
    }
   },
   "outputs": [],
   "source": [
    "def get_specifications(soup):\n",
    "    specifications = []\n",
    "    try:\n",
    "        specifications_tag = soup.find('h3', text='Specifications')\n",
    "        for d in specifications_tag.parent.find_all('div'):\n",
    "            specifications.append(d.text)\n",
    "        specifications = [s for s in list(set(specifications))\n",
    "                          if not s.startswith('Content on this site is for reference purposes only')\n",
    "                          if not s.startswith('Grocery Disclaimer')]\n",
    "    except:\n",
    "        specifications = np.nan\n",
    "    return specifications"
   ]
  },
  {
   "cell_type": "code",
   "execution_count": 420,
   "id": "0681f4bb",
   "metadata": {
    "ExecuteTime": {
     "end_time": "2021-11-06T20:12:39.680708Z",
     "start_time": "2021-11-06T20:12:39.674787Z"
    }
   },
   "outputs": [],
   "source": [
    "def get_description(soup):\n",
    "    description_text = ''\n",
    "    try:\n",
    "        description_tag = soup.find('h3', text='Description')\n",
    "        description_sib = description_tag.find_next()\n",
    "        description_text = description_sib.text\n",
    "    except:\n",
    "        pass\n",
    "    return description_text"
   ]
  },
  {
   "cell_type": "code",
   "execution_count": 421,
   "id": "ef1f4704",
   "metadata": {
    "ExecuteTime": {
     "end_time": "2021-11-06T20:12:41.062429Z",
     "start_time": "2021-11-06T20:12:41.056961Z"
    }
   },
   "outputs": [],
   "source": [
    "def get_serving_info(soup):\n",
    "    serving_info = []\n",
    "    try:\n",
    "        nutrition = soup.find('div', {'data-test':\n",
    "                                      'productDetailsTabs-nutritionFactsTab'}).div.div.div\n",
    "        for p in nutrition.find_all('p'):\n",
    "            serving_info.append(p.text)\n",
    "    except:\n",
    "        serving_info = np.nan\n",
    "    return serving_info"
   ]
  },
  {
   "cell_type": "code",
   "execution_count": 429,
   "id": "5fd3abcd",
   "metadata": {
    "ExecuteTime": {
     "end_time": "2021-11-06T20:16:24.298741Z",
     "start_time": "2021-11-06T20:16:24.289314Z"
    }
   },
   "outputs": [],
   "source": [
    "def get_nutrition_info(soup):\n",
    "    nutrition_info = []\n",
    "    try:\n",
    "        nutrition = soup.find('div', {'data-test':\n",
    "                                      'productDetailsTabs-nutritionFactsTab'}).div.div.div\n",
    "        nutrition_tags = nutrition.find_all('div',\n",
    "                                            class_=lambda x: x and x.startswith(\"h-margin-t-tight\"))\n",
    "        for nutrition_tag in nutrition_tags:\n",
    "            text_split = nutrition_tag.span.text.split()\n",
    "            nutrition_info.append(\n",
    "                ([\" \".join(text_split[0:-1]), (text_split[-1])]))\n",
    "    except:\n",
    "        nutrition_info = np.nan\n",
    "    return nutrition_info"
   ]
  },
  {
   "cell_type": "code",
   "execution_count": 423,
   "id": "6f36031d",
   "metadata": {
    "ExecuteTime": {
     "end_time": "2021-11-06T20:12:44.528438Z",
     "start_time": "2021-11-06T20:12:44.523827Z"
    }
   },
   "outputs": [],
   "source": [
    "def get_ingredients(soup):\n",
    "    ingredients_text = ''\n",
    "    try:\n",
    "        ingredients_tag = soup.find('h4',\n",
    "                                    text=lambda x: x.startswith('Ingredients'))\n",
    "        ingredients_sib = ingredients_tag.find_next()\n",
    "        ingredients_text = ingredients_sib.text\n",
    "    except:\n",
    "        pass\n",
    "    return ingredients_text"
   ]
  },
  {
   "cell_type": "code",
   "execution_count": 424,
   "id": "141d6dba",
   "metadata": {
    "ExecuteTime": {
     "end_time": "2021-11-06T20:12:44.975956Z",
     "start_time": "2021-11-06T20:12:44.971233Z"
    }
   },
   "outputs": [],
   "source": [
    "def get_allergens(soup):\n",
    "    allergens_text = ''\n",
    "    try:\n",
    "        allergens = soup.find('h4',\n",
    "                              text=lambda x: x.startswith('Allergens & Warnings'))\n",
    "        allergens_text = allergens.parent.text\n",
    "    except:\n",
    "        pass\n",
    "    return allergens_text"
   ]
  },
  {
   "cell_type": "code",
   "execution_count": 425,
   "id": "cb9cfc83",
   "metadata": {
    "ExecuteTime": {
     "end_time": "2021-11-06T20:12:46.884812Z",
     "start_time": "2021-11-06T20:12:46.876578Z"
    }
   },
   "outputs": [],
   "source": [
    "def get_price(soup):\n",
    "    product_price = np.nan\n",
    "    try:\n",
    "        product_price_tag = soup.find('div', {'data-test': 'product-price'})\n",
    "        product_price = float(product_price_tag.get_text()[1:])\n",
    "    except:\n",
    "        pass\n",
    "    return product_price\n",
    "\n",
    "\n",
    "def get_rating(soup):\n",
    "    rating = np.nan\n",
    "    try:\n",
    "        rating_tag = soup.find('span', {'data-test': 'ratings'})\n",
    "        rating = float(rating_tag.get_text().split()[0])\n",
    "    except:\n",
    "        pass\n",
    "    return rating\n",
    "\n",
    "\n",
    "def get_n_reviews(soup):\n",
    "    n_reviews = np.nan\n",
    "    try:\n",
    "        n_reviews_tag = soup.find('span', {'data-test': 'ratings'})\n",
    "        n_reviews = int(n_reviews_tag.get_text().split()[-2])\n",
    "    except:\n",
    "        pass\n",
    "    return n_reviews"
   ]
  },
  {
   "cell_type": "code",
   "execution_count": 437,
   "id": "10acfcb8",
   "metadata": {
    "ExecuteTime": {
     "end_time": "2021-11-06T21:11:03.725821Z",
     "start_time": "2021-11-06T20:20:41.481710Z"
    }
   },
   "outputs": [
    {
     "data": {
      "application/vnd.jupyter.widget-view+json": {
       "model_id": "843a4b6d2e404dd1a7204f3c3cda0237",
       "version_major": 2,
       "version_minor": 0
      },
      "text/plain": [
       "  0%|          | 0/21611 [00:00<?, ?it/s]"
      ]
     },
     "metadata": {},
     "output_type": "display_data"
    }
   ],
   "source": [
    "op_file_path = os.path.join(file_dir, 'products.csv')\n",
    "products = []\n",
    "for i, tcin in enumerate(tqdm(total_tcin)):\n",
    "    try:\n",
    "        path = os.path.join(ip_file_dir, str(tcin) + '_details.html')\n",
    "        with open(path) as f:\n",
    "            html = f.read()\n",
    "        details_soup = BeautifulSoup(html)\n",
    "\n",
    "        product = {}\n",
    "        product['tcin'] = tcin\n",
    "        product['price'] = get_price(details_soup)\n",
    "        product['rating'] = get_rating(details_soup)\n",
    "        product['n_reviews'] = get_n_reviews(details_soup)\n",
    "        product['highlights'] = get_highlights(details_soup)\n",
    "        product['specifications'] = get_specifications(details_soup)\n",
    "        product['description'] = get_description(details_soup)\n",
    "\n",
    "        path = os.path.join(ip_file_dir, str(tcin) + '_label_info.html')\n",
    "        if os.path.isfile(path):\n",
    "            with open(path) as f:\n",
    "                html = f.read()\n",
    "        label_info_soup = BeautifulSoup(html)\n",
    "        product['serving_info'] = get_serving_info(label_info_soup)\n",
    "        product['nutrition_info'] = get_nutrition_info(label_info_soup)\n",
    "        product['ingredients'] = get_ingredients(label_info_soup)\n",
    "        product['allergens'] = get_allergens(label_info_soup)\n",
    "\n",
    "        products.append(product)\n",
    "\n",
    "        if i % 50 == 0:\n",
    "            products_df = pd.DataFrame(products)\n",
    "            products_df.to_csv(op_file_path, index=False)\n",
    "    except:\n",
    "        print(tcin)\n",
    "        pass\n",
    "\n",
    "products_df = pd.DataFrame(products)\n",
    "products_df.to_csv(op_file_path, index=False)"
   ]
  },
  {
   "cell_type": "code",
   "execution_count": 438,
   "id": "ff4db190",
   "metadata": {
    "ExecuteTime": {
     "end_time": "2021-11-06T21:11:06.880594Z",
     "start_time": "2021-11-06T21:11:06.464621Z"
    }
   },
   "outputs": [],
   "source": [
    "products = pd.read_csv(op_file_path)"
   ]
  },
  {
   "cell_type": "code",
   "execution_count": 439,
   "id": "5e370464",
   "metadata": {
    "ExecuteTime": {
     "end_time": "2021-11-06T21:11:07.524076Z",
     "start_time": "2021-11-06T21:11:07.496538Z"
    }
   },
   "outputs": [
    {
     "data": {
      "text/html": [
       "<div>\n",
       "<style scoped>\n",
       "    .dataframe tbody tr th:only-of-type {\n",
       "        vertical-align: middle;\n",
       "    }\n",
       "\n",
       "    .dataframe tbody tr th {\n",
       "        vertical-align: top;\n",
       "    }\n",
       "\n",
       "    .dataframe thead th {\n",
       "        text-align: right;\n",
       "    }\n",
       "</style>\n",
       "<table border=\"1\" class=\"dataframe\">\n",
       "  <thead>\n",
       "    <tr style=\"text-align: right;\">\n",
       "      <th></th>\n",
       "      <th>tcin</th>\n",
       "      <th>price</th>\n",
       "      <th>rating</th>\n",
       "      <th>n_reviews</th>\n",
       "      <th>highlights</th>\n",
       "      <th>specifications</th>\n",
       "      <th>description</th>\n",
       "      <th>serving_info</th>\n",
       "      <th>nutrition_info</th>\n",
       "      <th>ingredients</th>\n",
       "      <th>allergens</th>\n",
       "    </tr>\n",
       "  </thead>\n",
       "  <tbody>\n",
       "    <tr>\n",
       "      <th>0</th>\n",
       "      <td>52297732</td>\n",
       "      <td>49.99</td>\n",
       "      <td>NaN</td>\n",
       "      <td>0.0</td>\n",
       "      <td>['Features hints of apricot, pear and sweet ro...</td>\n",
       "      <td>['', 'Alcohol base: Barley, Corn, Rye', 'Flavo...</td>\n",
       "      <td>An homage to the legendary Stitzel-Weller dist...</td>\n",
       "      <td>NaN</td>\n",
       "      <td>NaN</td>\n",
       "      <td>NaN</td>\n",
       "      <td>NaN</td>\n",
       "    </tr>\n",
       "    <tr>\n",
       "      <th>1</th>\n",
       "      <td>51773444</td>\n",
       "      <td>19.99</td>\n",
       "      <td>4.2</td>\n",
       "      <td>39.0</td>\n",
       "      <td>NaN</td>\n",
       "      <td>['Origin: Made in the USA or Imported', 'WARNI...</td>\n",
       "      <td>NaN</td>\n",
       "      <td>NaN</td>\n",
       "      <td>NaN</td>\n",
       "      <td>NaN</td>\n",
       "      <td>Allergens &amp; Warnings:CONTAINS SULFITES</td>\n",
       "    </tr>\n",
       "    <tr>\n",
       "      <th>2</th>\n",
       "      <td>77332489</td>\n",
       "      <td>7.99</td>\n",
       "      <td>4.7</td>\n",
       "      <td>142.0</td>\n",
       "      <td>['One package of Tyson® Blackened Flavored Unb...</td>\n",
       "      <td>['Origin: Made in the USA or Imported', 'Count...</td>\n",
       "      <td>Simplify meal time with Tyson® Blackened Flavo...</td>\n",
       "      <td>['Serving Size: 3 oz', 'Serving Per Container:...</td>\n",
       "      <td>[['Total Fat', '3g'], ['Saturated Fat', '0.5g'...</td>\n",
       "      <td>boneless, skinless chicken breast strips with ...</td>\n",
       "      <td>NaN</td>\n",
       "    </tr>\n",
       "    <tr>\n",
       "      <th>3</th>\n",
       "      <td>77332491</td>\n",
       "      <td>8.69</td>\n",
       "      <td>3.0</td>\n",
       "      <td>143.0</td>\n",
       "      <td>['One 20 oz. package of Air Fried Perfectly Cr...</td>\n",
       "      <td>['Country of Origin: United States', 'TCIN: 77...</td>\n",
       "      <td>Enjoy the crispy, delicious flavor of fried ch...</td>\n",
       "      <td>['Serving Size: 3 oz', 'Serving Per Container:...</td>\n",
       "      <td>[['Total Fat', '4g'], ['Saturated Fat', '1g'],...</td>\n",
       "      <td>boneless, skinless chicken breast with rib mea...</td>\n",
       "      <td>Allergens &amp; Warnings:CONTAINS: WHEAT</td>\n",
       "    </tr>\n",
       "    <tr>\n",
       "      <th>4</th>\n",
       "      <td>52297742</td>\n",
       "      <td>22.99</td>\n",
       "      <td>NaN</td>\n",
       "      <td>0.0</td>\n",
       "      <td>['Gin-infused liqueur with herbal botanicals, ...</td>\n",
       "      <td>['', 'TCIN: 52297742', 'State of Readiness: Re...</td>\n",
       "      <td>The rich amber hue of Pimm's No. 1 Liqueur com...</td>\n",
       "      <td>NaN</td>\n",
       "      <td>NaN</td>\n",
       "      <td>NaN</td>\n",
       "      <td>NaN</td>\n",
       "    </tr>\n",
       "    <tr>\n",
       "      <th>...</th>\n",
       "      <td>...</td>\n",
       "      <td>...</td>\n",
       "      <td>...</td>\n",
       "      <td>...</td>\n",
       "      <td>...</td>\n",
       "      <td>...</td>\n",
       "      <td>...</td>\n",
       "      <td>...</td>\n",
       "      <td>...</td>\n",
       "      <td>...</td>\n",
       "      <td>...</td>\n",
       "    </tr>\n",
       "    <tr>\n",
       "      <th>21606</th>\n",
       "      <td>82182099</td>\n",
       "      <td>3.69</td>\n",
       "      <td>5.0</td>\n",
       "      <td>1.0</td>\n",
       "      <td>['One (1) 3.5 oz GHIRARDELLI Milk Chocolate Ba...</td>\n",
       "      <td>['Origin: Made in the USA or Imported', 'UPC: ...</td>\n",
       "      <td>Experience luscious indulgence with each bite ...</td>\n",
       "      <td>['Serving Size: 25 g', 'Serving Per Container:...</td>\n",
       "      <td>[['Total Fat', '7g'], ['Saturated Fat', '4g'],...</td>\n",
       "      <td>sugar, whole milk powder, corn syrup, cocoa bu...</td>\n",
       "      <td>Allergens &amp; Warnings:May contain tree nuts.</td>\n",
       "    </tr>\n",
       "    <tr>\n",
       "      <th>21607</th>\n",
       "      <td>51118037</td>\n",
       "      <td>1.99</td>\n",
       "      <td>2.9</td>\n",
       "      <td>10.0</td>\n",
       "      <td>['18 Donuts per bag (about 4.5 servings)', 'Se...</td>\n",
       "      <td>['Origin: Made in the USA or Imported', 'Packa...</td>\n",
       "      <td>Need an easy breakfast for your kids? Grab a b...</td>\n",
       "      <td>['Serving Size: 60 g', 'Serving Per Container:...</td>\n",
       "      <td>[['Calories From Fat', '150Cal'], ['Total Fat'...</td>\n",
       "      <td>sugar, enriched wheat flour (wheat flour, barl...</td>\n",
       "      <td>Allergens &amp; Warnings:ALLERGY INFORMATION: CONT...</td>\n",
       "    </tr>\n",
       "    <tr>\n",
       "      <th>21608</th>\n",
       "      <td>81526744</td>\n",
       "      <td>49.99</td>\n",
       "      <td>5.0</td>\n",
       "      <td>2.0</td>\n",
       "      <td>[\"Celebrate her birthday, Mother's Day, or any...</td>\n",
       "      <td>[\"The above item details were provided by the ...</td>\n",
       "      <td>This chocolate lovers gift set is an exception...</td>\n",
       "      <td>NaN</td>\n",
       "      <td>NaN</td>\n",
       "      <td>NaN</td>\n",
       "      <td>NaN</td>\n",
       "    </tr>\n",
       "    <tr>\n",
       "      <th>21609</th>\n",
       "      <td>53477337</td>\n",
       "      <td>9.99</td>\n",
       "      <td>NaN</td>\n",
       "      <td>0.0</td>\n",
       "      <td>NaN</td>\n",
       "      <td>['WARNING: Drinking distilled spirits, beer, c...</td>\n",
       "      <td>NaN</td>\n",
       "      <td>NaN</td>\n",
       "      <td>NaN</td>\n",
       "      <td>NaN</td>\n",
       "      <td>NaN</td>\n",
       "    </tr>\n",
       "    <tr>\n",
       "      <th>21610</th>\n",
       "      <td>48627674</td>\n",
       "      <td>18.99</td>\n",
       "      <td>NaN</td>\n",
       "      <td>0.0</td>\n",
       "      <td>NaN</td>\n",
       "      <td>['Alcohol Percentage: 40.0', '', 'Alcohol base...</td>\n",
       "      <td>NaN</td>\n",
       "      <td>NaN</td>\n",
       "      <td>NaN</td>\n",
       "      <td>NaN</td>\n",
       "      <td>NaN</td>\n",
       "    </tr>\n",
       "  </tbody>\n",
       "</table>\n",
       "<p>21611 rows × 11 columns</p>\n",
       "</div>"
      ],
      "text/plain": [
       "           tcin  price  rating  n_reviews  \\\n",
       "0      52297732  49.99     NaN        0.0   \n",
       "1      51773444  19.99     4.2       39.0   \n",
       "2      77332489   7.99     4.7      142.0   \n",
       "3      77332491   8.69     3.0      143.0   \n",
       "4      52297742  22.99     NaN        0.0   \n",
       "...         ...    ...     ...        ...   \n",
       "21606  82182099   3.69     5.0        1.0   \n",
       "21607  51118037   1.99     2.9       10.0   \n",
       "21608  81526744  49.99     5.0        2.0   \n",
       "21609  53477337   9.99     NaN        0.0   \n",
       "21610  48627674  18.99     NaN        0.0   \n",
       "\n",
       "                                              highlights  \\\n",
       "0      ['Features hints of apricot, pear and sweet ro...   \n",
       "1                                                    NaN   \n",
       "2      ['One package of Tyson® Blackened Flavored Unb...   \n",
       "3      ['One 20 oz. package of Air Fried Perfectly Cr...   \n",
       "4      ['Gin-infused liqueur with herbal botanicals, ...   \n",
       "...                                                  ...   \n",
       "21606  ['One (1) 3.5 oz GHIRARDELLI Milk Chocolate Ba...   \n",
       "21607  ['18 Donuts per bag (about 4.5 servings)', 'Se...   \n",
       "21608  [\"Celebrate her birthday, Mother's Day, or any...   \n",
       "21609                                                NaN   \n",
       "21610                                                NaN   \n",
       "\n",
       "                                          specifications  \\\n",
       "0      ['', 'Alcohol base: Barley, Corn, Rye', 'Flavo...   \n",
       "1      ['Origin: Made in the USA or Imported', 'WARNI...   \n",
       "2      ['Origin: Made in the USA or Imported', 'Count...   \n",
       "3      ['Country of Origin: United States', 'TCIN: 77...   \n",
       "4      ['', 'TCIN: 52297742', 'State of Readiness: Re...   \n",
       "...                                                  ...   \n",
       "21606  ['Origin: Made in the USA or Imported', 'UPC: ...   \n",
       "21607  ['Origin: Made in the USA or Imported', 'Packa...   \n",
       "21608  [\"The above item details were provided by the ...   \n",
       "21609  ['WARNING: Drinking distilled spirits, beer, c...   \n",
       "21610  ['Alcohol Percentage: 40.0', '', 'Alcohol base...   \n",
       "\n",
       "                                             description  \\\n",
       "0      An homage to the legendary Stitzel-Weller dist...   \n",
       "1                                                    NaN   \n",
       "2      Simplify meal time with Tyson® Blackened Flavo...   \n",
       "3      Enjoy the crispy, delicious flavor of fried ch...   \n",
       "4      The rich amber hue of Pimm's No. 1 Liqueur com...   \n",
       "...                                                  ...   \n",
       "21606  Experience luscious indulgence with each bite ...   \n",
       "21607  Need an easy breakfast for your kids? Grab a b...   \n",
       "21608  This chocolate lovers gift set is an exception...   \n",
       "21609                                                NaN   \n",
       "21610                                                NaN   \n",
       "\n",
       "                                            serving_info  \\\n",
       "0                                                    NaN   \n",
       "1                                                    NaN   \n",
       "2      ['Serving Size: 3 oz', 'Serving Per Container:...   \n",
       "3      ['Serving Size: 3 oz', 'Serving Per Container:...   \n",
       "4                                                    NaN   \n",
       "...                                                  ...   \n",
       "21606  ['Serving Size: 25 g', 'Serving Per Container:...   \n",
       "21607  ['Serving Size: 60 g', 'Serving Per Container:...   \n",
       "21608                                                NaN   \n",
       "21609                                                NaN   \n",
       "21610                                                NaN   \n",
       "\n",
       "                                          nutrition_info  \\\n",
       "0                                                    NaN   \n",
       "1                                                    NaN   \n",
       "2      [['Total Fat', '3g'], ['Saturated Fat', '0.5g'...   \n",
       "3      [['Total Fat', '4g'], ['Saturated Fat', '1g'],...   \n",
       "4                                                    NaN   \n",
       "...                                                  ...   \n",
       "21606  [['Total Fat', '7g'], ['Saturated Fat', '4g'],...   \n",
       "21607  [['Calories From Fat', '150Cal'], ['Total Fat'...   \n",
       "21608                                                NaN   \n",
       "21609                                                NaN   \n",
       "21610                                                NaN   \n",
       "\n",
       "                                             ingredients  \\\n",
       "0                                                    NaN   \n",
       "1                                                    NaN   \n",
       "2      boneless, skinless chicken breast strips with ...   \n",
       "3      boneless, skinless chicken breast with rib mea...   \n",
       "4                                                    NaN   \n",
       "...                                                  ...   \n",
       "21606  sugar, whole milk powder, corn syrup, cocoa bu...   \n",
       "21607  sugar, enriched wheat flour (wheat flour, barl...   \n",
       "21608                                                NaN   \n",
       "21609                                                NaN   \n",
       "21610                                                NaN   \n",
       "\n",
       "                                               allergens  \n",
       "0                                                    NaN  \n",
       "1                 Allergens & Warnings:CONTAINS SULFITES  \n",
       "2                                                    NaN  \n",
       "3                   Allergens & Warnings:CONTAINS: WHEAT  \n",
       "4                                                    NaN  \n",
       "...                                                  ...  \n",
       "21606        Allergens & Warnings:May contain tree nuts.  \n",
       "21607  Allergens & Warnings:ALLERGY INFORMATION: CONT...  \n",
       "21608                                                NaN  \n",
       "21609                                                NaN  \n",
       "21610                                                NaN  \n",
       "\n",
       "[21611 rows x 11 columns]"
      ]
     },
     "execution_count": 439,
     "metadata": {},
     "output_type": "execute_result"
    }
   ],
   "source": [
    "products"
   ]
  }
 ],
 "metadata": {
  "kernelspec": {
   "display_name": "Python 3",
   "language": "python",
   "name": "python3"
  },
  "language_info": {
   "codemirror_mode": {
    "name": "ipython",
    "version": 3
   },
   "file_extension": ".py",
   "mimetype": "text/x-python",
   "name": "python",
   "nbconvert_exporter": "python",
   "pygments_lexer": "ipython3",
   "version": "3.8.8"
  }
 },
 "nbformat": 4,
 "nbformat_minor": 5
}
