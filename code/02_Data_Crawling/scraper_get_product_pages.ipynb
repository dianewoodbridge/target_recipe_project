{
 "cells": [
  {
   "cell_type": "code",
   "execution_count": 41,
   "id": "4cd91cc6",
   "metadata": {
    "ExecuteTime": {
     "end_time": "2021-11-03T02:07:56.888459Z",
     "start_time": "2021-11-03T02:07:56.884822Z"
    }
   },
   "outputs": [],
   "source": [
    "import time\n",
    "import random\n",
    "import pandas as pd\n",
    "from selenium import webdriver\n",
    "from selenium.webdriver.common.by import By\n",
    "from selenium.webdriver.support.ui import WebDriverWait\n",
    "import glob"
   ]
  },
  {
   "cell_type": "code",
   "execution_count": 42,
   "id": "e8be77b5",
   "metadata": {
    "ExecuteTime": {
     "end_time": "2021-11-03T02:07:57.653974Z",
     "start_time": "2021-11-03T02:07:57.396424Z"
    }
   },
   "outputs": [],
   "source": [
    "group10 = pd.read_csv('../Data/Target Data/group10_header.csv',\n",
    "                      sep='\\t', low_memory=False)"
   ]
  },
  {
   "cell_type": "code",
   "execution_count": 43,
   "id": "c3fb0290",
   "metadata": {
    "ExecuteTime": {
     "end_time": "2021-11-03T02:07:58.064558Z",
     "start_time": "2021-11-03T02:07:58.008857Z"
    }
   },
   "outputs": [],
   "source": [
    "total_tcin = group10['tcin'].unique()\n",
    "file_list = glob.glob(\"../Data/Target Data/scraped/*\")\n",
    "tcin_completed = [file.split('/')[-1].split('_')[0] for file in file_list]\n",
    "tcin_completed.remove('failed')\n",
    "tcin_completed_set = set(pd.Series(tcin_completed).astype('int'))\n",
    "total_tcin_set = set(total_tcin)\n",
    "tcin_left = sorted(total_tcin_set.difference(tcin_completed_set))"
   ]
  },
  {
   "cell_type": "code",
   "execution_count": 44,
   "id": "e02531e8",
   "metadata": {
    "ExecuteTime": {
     "end_time": "2021-11-03T02:07:58.531897Z",
     "start_time": "2021-11-03T02:07:58.528823Z"
    }
   },
   "outputs": [
    {
     "data": {
      "text/plain": [
       "23248"
      ]
     },
     "execution_count": 44,
     "metadata": {},
     "output_type": "execute_result"
    }
   ],
   "source": [
    "len(total_tcin_set)"
   ]
  },
  {
   "cell_type": "code",
   "execution_count": 45,
   "id": "a3d90f1d",
   "metadata": {
    "ExecuteTime": {
     "end_time": "2021-11-03T02:07:59.163807Z",
     "start_time": "2021-11-03T02:07:59.159865Z"
    }
   },
   "outputs": [
    {
     "data": {
      "text/plain": [
       "4062"
      ]
     },
     "execution_count": 45,
     "metadata": {},
     "output_type": "execute_result"
    }
   ],
   "source": [
    "len(tcin_completed_set)"
   ]
  },
  {
   "cell_type": "code",
   "execution_count": 46,
   "id": "af03ad27",
   "metadata": {
    "ExecuteTime": {
     "end_time": "2021-11-03T02:08:00.203322Z",
     "start_time": "2021-11-03T02:08:00.201011Z"
    }
   },
   "outputs": [
    {
     "data": {
      "text/plain": [
       "19186"
      ]
     },
     "execution_count": 46,
     "metadata": {},
     "output_type": "execute_result"
    }
   ],
   "source": [
    "len(tcin_left)"
   ]
  },
  {
   "cell_type": "code",
   "execution_count": null,
   "id": "19d0178d",
   "metadata": {
    "ExecuteTime": {
     "start_time": "2021-11-03T02:08:01.485Z"
    }
   },
   "outputs": [],
   "source": [
    "driver = webdriver.Chrome('/opt/homebrew/bin/chromedriver') \n",
    "driver.get('https://www.target.com/p/thomas-39-plain-bagel-thins-13oz-8ct/-/A-12921319#lnk=sametab')\n",
    "failed_tcin = []\n",
    "\n",
    "for tcin in tcin_left:\n",
    "    try:\n",
    "        driver.get(f'''https://www.target.com/p/-/A-{tcin}''')\n",
    "        button = driver.find_element(By.XPATH, '//button[text()=\"Show more\"]')\n",
    "        driver.execute_script(\"arguments[0].click();\", button)\n",
    "        with open(f\"../Data/Target Data/scraped/{tcin}_details.html\", \"w\") as f:\n",
    "            f.write(driver.page_source)\n",
    "        link = driver.find_element_by_link_text('Label info')\n",
    "        driver.execute_script(\"arguments[0].click();\", link)\n",
    "        with open(f\"../Data/Target Data/scraped/{tcin}_label_info.html\", \"w\") as f:\n",
    "            f.write(driver.page_source)\n",
    "    except:\n",
    "        failed_tcin.append(tcin)\n",
    "        \n",
    "with open(\"../Data/Target Data/scraped/failed_tcin.txt\", 'w') as f:\n",
    "    f.write(str(failed_tcin))"
   ]
  }
 ],
 "metadata": {
  "kernelspec": {
   "display_name": "Python 3 (ipykernel)",
   "language": "python",
   "name": "python3"
  },
  "language_info": {
   "codemirror_mode": {
    "name": "ipython",
    "version": 3
   },
   "file_extension": ".py",
   "mimetype": "text/x-python",
   "name": "python",
   "nbconvert_exporter": "python",
   "pygments_lexer": "ipython3",
   "version": "3.8.11"
  }
 },
 "nbformat": 4,
 "nbformat_minor": 5
}
