{
 "cells": [
  {
   "cell_type": "code",
   "execution_count": 1,
   "id": "4ae962b5",
   "metadata": {},
   "outputs": [],
   "source": [
    "#%pip install requests"
   ]
  },
  {
   "cell_type": "code",
   "execution_count": 2,
   "id": "804ec8f5",
   "metadata": {},
   "outputs": [],
   "source": [
    "#%conda install autopep8"
   ]
  },
  {
   "cell_type": "markdown",
   "id": "a8491f6c",
   "metadata": {},
   "source": [
    "### API Reference : https://rapidapi.com/apidojo/api/tasty/"
   ]
  },
  {
   "cell_type": "code",
   "execution_count": 3,
   "id": "5cd43886",
   "metadata": {},
   "outputs": [],
   "source": [
    "import requests\n",
    "import json"
   ]
  },
  {
   "cell_type": "code",
   "execution_count": 4,
   "id": "971a1af3",
   "metadata": {},
   "outputs": [],
   "source": [
    "headers = {\n",
    "    'x-rapidapi-key': \"70fcf77facmshaf5555f7be26d0cp11fe0ejsn74b399108a64\",\n",
    "    'x-rapidapi-host': \"tasty.p.rapidapi.com\"\n",
    "    }\n",
    "\n",
    "offset = 0\n",
    "size = 5\n",
    "q = \"salt\" # Name of food or, ingredients to search by"
   ]
  },
  {
   "cell_type": "code",
   "execution_count": 5,
   "id": "41b681d2",
   "metadata": {},
   "outputs": [],
   "source": [
    "ingredient_list = {'shopping_list': []}"
   ]
  },
  {
   "cell_type": "markdown",
   "id": "4ea45d0e",
   "metadata": {},
   "source": [
    "### Search using \"tags\""
   ]
  },
  {
   "cell_type": "code",
   "execution_count": 6,
   "id": "2b2a3d3a",
   "metadata": {},
   "outputs": [],
   "source": [
    "url = \"https://tasty.p.rapidapi.com/recipes/list\"\n",
    "querystring = {\"from\": f\"{str(offset)}\",\"size\":f\"{str(size)}\",\"q\":f\"{q}\"}\n",
    "response = requests.request(\"GET\", url, headers=headers, params=querystring)"
   ]
  },
  {
   "cell_type": "code",
   "execution_count": 7,
   "id": "b0f9637c",
   "metadata": {},
   "outputs": [],
   "source": [
    "response_json = response.json().items()"
   ]
  },
  {
   "cell_type": "code",
   "execution_count": 8,
   "id": "dfaec85e",
   "metadata": {},
   "outputs": [
    {
     "name": "stdout",
     "output_type": "stream",
     "text": [
      "7631\n",
      "7628\n",
      "7626\n",
      "7625\n",
      "7624\n"
     ]
    }
   ],
   "source": [
    "id = []\n",
    "for recipe in list(response_json)[1][1]:\n",
    "    print(recipe.get('id'))\n",
    "    id.append(recipe.get('id'))"
   ]
  },
  {
   "cell_type": "markdown",
   "id": "6bf0b2b6",
   "metadata": {},
   "source": [
    "### Convert unicode (utf-8) fraction to float"
   ]
  },
  {
   "cell_type": "code",
   "execution_count": 9,
   "id": "704ab1b5",
   "metadata": {},
   "outputs": [],
   "source": [
    "import re\n",
    "\n",
    "def convert_utf_fraction(utf): \n",
    "    fractions = {\n",
    "        0x2189: 0.0,  # ; ; 0 # No       VULGAR FRACTION ZERO THIRDS\n",
    "        0x2152: 0.1,  # ; ; 1/10 # No       VULGAR FRACTION ONE TENTH\n",
    "        0x2151: 0.11111111,  # ; ; 1/9 # No       VULGAR FRACTION ONE NINTH\n",
    "        0x215B: 0.125,  # ; ; 1/8 # No       VULGAR FRACTION ONE EIGHTH\n",
    "        0x2150: 0.14285714,  # ; ; 1/7 # No       VULGAR FRACTION ONE SEVENTH\n",
    "        0x2159: 0.16666667,  # ; ; 1/6 # No       VULGAR FRACTION ONE SIXTH\n",
    "        0x2155: 0.2,  # ; ; 1/5 # No       VULGAR FRACTION ONE FIFTH\n",
    "        0x00BC: 0.25,  # ; ; 1/4 # No       VULGAR FRACTION ONE QUARTER\n",
    "        0x2153: 0.33333333,  # ; ; 1/3 # No       VULGAR FRACTION ONE THIRD\n",
    "        0x215C: 0.375,  # ; ; 3/8 # No       VULGAR FRACTION THREE EIGHTHS\n",
    "        0x2156: 0.4,  # ; ; 2/5 # No       VULGAR FRACTION TWO FIFTHS\n",
    "        0x00BD: 0.5,  # ; ; 1/2 # No       VULGAR FRACTION ONE HALF\n",
    "        0x2157: 0.6,  # ; ; 3/5 # No       VULGAR FRACTION THREE FIFTHS\n",
    "        0x215D: 0.625,  # ; ; 5/8 # No       VULGAR FRACTION FIVE EIGHTHS\n",
    "        0x2154: 0.66666667,  # ; ; 2/3 # No       VULGAR FRACTION TWO THIRDS\n",
    "        0x00BE: 0.75,  # ; ; 3/4 # No       VULGAR FRACTION THREE QUARTERS\n",
    "        0x2158: 0.8,  # ; ; 4/5 # No       VULGAR FRACTION FOUR FIFTHS\n",
    "        0x215A: 0.83333333,  # ; ; 5/6 # No       VULGAR FRACTION FIVE SIXTHS\n",
    "        0x215E: 0.875,  # ; ; 7/8 # No       VULGAR FRACTION SEVEN EIGHTHS\n",
    "    }\n",
    "    \n",
    "    pattern = r'(?u)([+-])?(\\d*)(\\s*)(%s)' % '|'.join(map(chr, fractions))\n",
    "\n",
    "    for sign, d, space, f in re.findall(pattern, utf):\n",
    "        sign = -1 if sign == '-' else 1\n",
    "        d = int(d) if d else 0\n",
    "        number = sign * (d + fractions[ord(f)])\n",
    "        return number\n",
    "\n",
    "    return utf"
   ]
  },
  {
   "cell_type": "code",
   "execution_count": 10,
   "id": "08c19f6c",
   "metadata": {},
   "outputs": [
    {
     "data": {
      "text/plain": [
       "0.33333333"
      ]
     },
     "execution_count": 10,
     "metadata": {},
     "output_type": "execute_result"
    }
   ],
   "source": [
    "convert_utf_fraction('⅓')"
   ]
  },
  {
   "cell_type": "markdown",
   "id": "73a5295e",
   "metadata": {},
   "source": [
    "### Choose the first returned recipe and return its ingredient/quantity"
   ]
  },
  {
   "cell_type": "code",
   "execution_count": 11,
   "id": "d8cca46d",
   "metadata": {},
   "outputs": [],
   "source": [
    "# retrieve the first recipe for now.\n",
    "id_querystring = {\"id\":id[0]}\n",
    "url = \"https://tasty.p.rapidapi.com/recipes/detail\"\n",
    "\n",
    "response = requests.request(\"GET\", url, headers=headers, params=id_querystring)"
   ]
  },
  {
   "cell_type": "code",
   "execution_count": 12,
   "id": "052b1a5c",
   "metadata": {},
   "outputs": [],
   "source": [
    "recipe = response.json()"
   ]
  },
  {
   "cell_type": "code",
   "execution_count": 13,
   "id": "b98592ef",
   "metadata": {
    "scrolled": false
   },
   "outputs": [
    {
     "data": {
      "text/plain": [
       "'Fruit Tart'"
      ]
     },
     "execution_count": 13,
     "metadata": {},
     "output_type": "execute_result"
    }
   ],
   "source": [
    "recipe.get('name')"
   ]
  },
  {
   "cell_type": "code",
   "execution_count": 14,
   "id": "fdd99414",
   "metadata": {
    "scrolled": false
   },
   "outputs": [],
   "source": [
    "for ingredient in recipe.get('sections')[0].get('components'):\n",
    "    name = ingredient.get('ingredient').get('name').strip()\n",
    "    quantity = ingredient.get('measurements')[0].get('quantity').strip()\n",
    "    \n",
    "    if(ingredient.get('measurements')[0].get('unit').get('name') != ''):\n",
    "        unit = ingredient.get('measurements')[0].get('unit').get('name').strip()\n",
    "    else:\n",
    "        unit = ''\n",
    "    \n",
    "    ingredient_json = json.loads(\n",
    "                        json.dumps({'ingredient': name, \n",
    "                                    'quantity': (quantity), \n",
    "                                    'unit':unit}, \n",
    "                                   ensure_ascii=False))\n",
    "    \n",
    "    ingredient_list[\"shopping_list\"].append(ingredient_json)"
   ]
  },
  {
   "cell_type": "code",
   "execution_count": 15,
   "id": "75859cd6",
   "metadata": {},
   "outputs": [
    {
     "data": {
      "text/plain": [
       "{'shopping_list': [{'ingredient': 'unsalted butter',\n",
       "   'quantity': '1',\n",
       "   'unit': 'stick'},\n",
       "  {'ingredient': 'sugar', 'quantity': '⅓', 'unit': 'cup'},\n",
       "  {'ingredient': 'salt', 'quantity': '¼', 'unit': 'teaspoon'},\n",
       "  {'ingredient': 'sugar', 'quantity': '½', 'unit': 'cup'},\n",
       "  {'ingredient': 'all purpose flour', 'quantity': '1 ¼', 'unit': 'cup'},\n",
       "  {'ingredient': 'egg yolk', 'quantity': '1', 'unit': ''},\n",
       "  {'ingredient': 'nonstick cooking spray', 'quantity': '0', 'unit': ''},\n",
       "  {'ingredient': 'cornstarch', 'quantity': '3', 'unit': 'tablespoon'},\n",
       "  {'ingredient': 'large egg', 'quantity': '1', 'unit': ''},\n",
       "  {'ingredient': 'large egg yolk', 'quantity': '2', 'unit': ''},\n",
       "  {'ingredient': 'unsalted butter', 'quantity': '3', 'unit': 'tablespoon'},\n",
       "  {'ingredient': 'vanilla extract', 'quantity': '2', 'unit': 'teaspoon'},\n",
       "  {'ingredient': 'fresh mixed berries', 'quantity': '4', 'unit': 'cup'},\n",
       "  {'ingredient': 'apricot jam', 'quantity': '¼', 'unit': 'teaspoon'}]}"
      ]
     },
     "execution_count": 15,
     "metadata": {},
     "output_type": "execute_result"
    }
   ],
   "source": [
    "ingredient_list "
   ]
  },
  {
   "cell_type": "markdown",
   "id": "48226d73",
   "metadata": {},
   "source": [
    "#### Second Recipe"
   ]
  },
  {
   "cell_type": "code",
   "execution_count": 16,
   "id": "e8663d02",
   "metadata": {},
   "outputs": [
    {
     "data": {
      "text/plain": [
       "'Homemade Chicken Noodle Soup'"
      ]
     },
     "execution_count": 16,
     "metadata": {},
     "output_type": "execute_result"
    }
   ],
   "source": [
    "# retrieve the first recipe for now.\n",
    "id_querystring = {\"id\":id[2]}\n",
    "url = \"https://tasty.p.rapidapi.com/recipes/detail\"\n",
    "\n",
    "response = requests.request(\"GET\", url, headers=headers, params=id_querystring)\n",
    "recipe = response.json()\n",
    "recipe.get('name')"
   ]
  },
  {
   "cell_type": "code",
   "execution_count": 17,
   "id": "6f3cb9e7",
   "metadata": {},
   "outputs": [],
   "source": [
    "for ingredient in recipe.get('sections')[0].get('components'):\n",
    "    name = ingredient.get('ingredient').get('name').strip()\n",
    "    quantity = ingredient.get('measurements')[0].get('quantity').strip()\n",
    "    if(ingredient.get('measurements')[0].get('unit').get('name') != ''):\n",
    "        unit = ingredient.get('measurements')[0].get('unit').get('name').strip()\n",
    "    else:\n",
    "        unit = ''\n",
    "    \n",
    "    ingredient_json = json.loads(\n",
    "                        json.dumps({'ingredient': name, \n",
    "                                    'quantity': quantity, \n",
    "                                    'unit':unit}, \n",
    "                                   ensure_ascii=False))\n",
    "    \n",
    "    ingredient_list[\"shopping_list\"].append(ingredient_json)"
   ]
  },
  {
   "cell_type": "code",
   "execution_count": 18,
   "id": "76214d9e",
   "metadata": {},
   "outputs": [
    {
     "data": {
      "text/plain": [
       "{'shopping_list': [{'ingredient': 'unsalted butter',\n",
       "   'quantity': '1',\n",
       "   'unit': 'stick'},\n",
       "  {'ingredient': 'sugar', 'quantity': '⅓', 'unit': 'cup'},\n",
       "  {'ingredient': 'salt', 'quantity': '¼', 'unit': 'teaspoon'},\n",
       "  {'ingredient': 'sugar', 'quantity': '½', 'unit': 'cup'},\n",
       "  {'ingredient': 'all purpose flour', 'quantity': '1 ¼', 'unit': 'cup'},\n",
       "  {'ingredient': 'egg yolk', 'quantity': '1', 'unit': ''},\n",
       "  {'ingredient': 'nonstick cooking spray', 'quantity': '0', 'unit': ''},\n",
       "  {'ingredient': 'cornstarch', 'quantity': '3', 'unit': 'tablespoon'},\n",
       "  {'ingredient': 'large egg', 'quantity': '1', 'unit': ''},\n",
       "  {'ingredient': 'large egg yolk', 'quantity': '2', 'unit': ''},\n",
       "  {'ingredient': 'unsalted butter', 'quantity': '3', 'unit': 'tablespoon'},\n",
       "  {'ingredient': 'vanilla extract', 'quantity': '2', 'unit': 'teaspoon'},\n",
       "  {'ingredient': 'fresh mixed berries', 'quantity': '4', 'unit': 'cup'},\n",
       "  {'ingredient': 'apricot jam', 'quantity': '¼', 'unit': 'teaspoon'},\n",
       "  {'ingredient': 'rotisserie chicken', 'quantity': '1', 'unit': ''},\n",
       "  {'ingredient': 'poultry seasoning', 'quantity': '1', 'unit': 'teaspoon'},\n",
       "  {'ingredient': 'fresh thyme', 'quantity': '½', 'unit': 'teaspoon'},\n",
       "  {'ingredient': 'garlic', 'quantity': '1', 'unit': 'clove'},\n",
       "  {'ingredient': 'salt and pepper', 'quantity': '0', 'unit': ''},\n",
       "  {'ingredient': 'chicken broth', 'quantity': '10', 'unit': 'cup'},\n",
       "  {'ingredient': 'vegetable oil', 'quantity': '3', 'unit': 'tablespoon'},\n",
       "  {'ingredient': 'white onion', 'quantity': '1', 'unit': 'cup'},\n",
       "  {'ingredient': 'celery', 'quantity': '1', 'unit': 'cup'},\n",
       "  {'ingredient': 'egg noodle', 'quantity': '2 ½', 'unit': 'cup'},\n",
       "  {'ingredient': 'large carrot', 'quantity': '4', 'unit': ''},\n",
       "  {'ingredient': 'frozen peas', 'quantity': '1', 'unit': 'bag'}]}"
      ]
     },
     "execution_count": 18,
     "metadata": {},
     "output_type": "execute_result"
    }
   ],
   "source": [
    "ingredient_list "
   ]
  },
  {
   "cell_type": "markdown",
   "id": "6e6c4bbc",
   "metadata": {},
   "source": [
    "# Things to do :\n",
    "\n",
    "1) ingredient name generalization - medium carrot, baby carrot, carrot, large carrot \n",
    "\n",
    "==> Target search is pretty good at matching with different names (Ex. medium yellow onion => Yellow Onion) Perhaps using already optimized search would be better than reinventing the wheel.\n",
    "Proposal : NER using Target Search and then combine.\n",
    "Problems : Egg, Large Egg Yolk, Egg yolk -> 3 different recommendation from Target\n",
    "\n",
    " \n",
    "2) convert unit - cup, can, gram, etc.\n",
    "\n",
    "3) combine the entire shopping list from selected recipe. ==> Done\n",
    "\n",
    "4) check the stock with local target \n",
    "\n",
    "5) Extra : utensils/kitchen appliances, napkin, kitchen towels."
   ]
  },
  {
   "cell_type": "markdown",
   "id": "075e2be8",
   "metadata": {},
   "source": [
    "## "
   ]
  },
  {
   "cell_type": "markdown",
   "id": "6a7818b5",
   "metadata": {},
   "source": [
    "### Combine the entire Shopping List (3)"
   ]
  },
  {
   "cell_type": "code",
   "execution_count": 19,
   "id": "bcb6e3dc",
   "metadata": {},
   "outputs": [],
   "source": [
    "import pandas as pd "
   ]
  },
  {
   "cell_type": "code",
   "execution_count": 20,
   "id": "31e02076",
   "metadata": {},
   "outputs": [],
   "source": [
    "ingredient_df = df = pd.json_normalize(ingredient_list['shopping_list'])"
   ]
  },
  {
   "cell_type": "code",
   "execution_count": 21,
   "id": "a75f5a5e",
   "metadata": {},
   "outputs": [
    {
     "data": {
      "text/html": [
       "<div>\n",
       "<style scoped>\n",
       "    .dataframe tbody tr th:only-of-type {\n",
       "        vertical-align: middle;\n",
       "    }\n",
       "\n",
       "    .dataframe tbody tr th {\n",
       "        vertical-align: top;\n",
       "    }\n",
       "\n",
       "    .dataframe thead th {\n",
       "        text-align: right;\n",
       "    }\n",
       "</style>\n",
       "<table border=\"1\" class=\"dataframe\">\n",
       "  <thead>\n",
       "    <tr style=\"text-align: right;\">\n",
       "      <th></th>\n",
       "      <th>ingredient</th>\n",
       "      <th>quantity</th>\n",
       "      <th>unit</th>\n",
       "    </tr>\n",
       "  </thead>\n",
       "  <tbody>\n",
       "    <tr>\n",
       "      <th>0</th>\n",
       "      <td>unsalted butter</td>\n",
       "      <td>1</td>\n",
       "      <td>stick</td>\n",
       "    </tr>\n",
       "    <tr>\n",
       "      <th>1</th>\n",
       "      <td>sugar</td>\n",
       "      <td>⅓</td>\n",
       "      <td>cup</td>\n",
       "    </tr>\n",
       "    <tr>\n",
       "      <th>2</th>\n",
       "      <td>salt</td>\n",
       "      <td>¼</td>\n",
       "      <td>teaspoon</td>\n",
       "    </tr>\n",
       "    <tr>\n",
       "      <th>3</th>\n",
       "      <td>sugar</td>\n",
       "      <td>½</td>\n",
       "      <td>cup</td>\n",
       "    </tr>\n",
       "    <tr>\n",
       "      <th>4</th>\n",
       "      <td>all purpose flour</td>\n",
       "      <td>1 ¼</td>\n",
       "      <td>cup</td>\n",
       "    </tr>\n",
       "    <tr>\n",
       "      <th>5</th>\n",
       "      <td>egg yolk</td>\n",
       "      <td>1</td>\n",
       "      <td></td>\n",
       "    </tr>\n",
       "    <tr>\n",
       "      <th>6</th>\n",
       "      <td>nonstick cooking spray</td>\n",
       "      <td>0</td>\n",
       "      <td></td>\n",
       "    </tr>\n",
       "    <tr>\n",
       "      <th>7</th>\n",
       "      <td>cornstarch</td>\n",
       "      <td>3</td>\n",
       "      <td>tablespoon</td>\n",
       "    </tr>\n",
       "    <tr>\n",
       "      <th>8</th>\n",
       "      <td>large egg</td>\n",
       "      <td>1</td>\n",
       "      <td></td>\n",
       "    </tr>\n",
       "    <tr>\n",
       "      <th>9</th>\n",
       "      <td>large egg yolk</td>\n",
       "      <td>2</td>\n",
       "      <td></td>\n",
       "    </tr>\n",
       "    <tr>\n",
       "      <th>10</th>\n",
       "      <td>unsalted butter</td>\n",
       "      <td>3</td>\n",
       "      <td>tablespoon</td>\n",
       "    </tr>\n",
       "    <tr>\n",
       "      <th>11</th>\n",
       "      <td>vanilla extract</td>\n",
       "      <td>2</td>\n",
       "      <td>teaspoon</td>\n",
       "    </tr>\n",
       "    <tr>\n",
       "      <th>12</th>\n",
       "      <td>fresh mixed berries</td>\n",
       "      <td>4</td>\n",
       "      <td>cup</td>\n",
       "    </tr>\n",
       "    <tr>\n",
       "      <th>13</th>\n",
       "      <td>apricot jam</td>\n",
       "      <td>¼</td>\n",
       "      <td>teaspoon</td>\n",
       "    </tr>\n",
       "    <tr>\n",
       "      <th>14</th>\n",
       "      <td>rotisserie chicken</td>\n",
       "      <td>1</td>\n",
       "      <td></td>\n",
       "    </tr>\n",
       "    <tr>\n",
       "      <th>15</th>\n",
       "      <td>poultry seasoning</td>\n",
       "      <td>1</td>\n",
       "      <td>teaspoon</td>\n",
       "    </tr>\n",
       "    <tr>\n",
       "      <th>16</th>\n",
       "      <td>fresh thyme</td>\n",
       "      <td>½</td>\n",
       "      <td>teaspoon</td>\n",
       "    </tr>\n",
       "    <tr>\n",
       "      <th>17</th>\n",
       "      <td>garlic</td>\n",
       "      <td>1</td>\n",
       "      <td>clove</td>\n",
       "    </tr>\n",
       "    <tr>\n",
       "      <th>18</th>\n",
       "      <td>salt and pepper</td>\n",
       "      <td>0</td>\n",
       "      <td></td>\n",
       "    </tr>\n",
       "    <tr>\n",
       "      <th>19</th>\n",
       "      <td>chicken broth</td>\n",
       "      <td>10</td>\n",
       "      <td>cup</td>\n",
       "    </tr>\n",
       "    <tr>\n",
       "      <th>20</th>\n",
       "      <td>vegetable oil</td>\n",
       "      <td>3</td>\n",
       "      <td>tablespoon</td>\n",
       "    </tr>\n",
       "    <tr>\n",
       "      <th>21</th>\n",
       "      <td>white onion</td>\n",
       "      <td>1</td>\n",
       "      <td>cup</td>\n",
       "    </tr>\n",
       "    <tr>\n",
       "      <th>22</th>\n",
       "      <td>celery</td>\n",
       "      <td>1</td>\n",
       "      <td>cup</td>\n",
       "    </tr>\n",
       "    <tr>\n",
       "      <th>23</th>\n",
       "      <td>egg noodle</td>\n",
       "      <td>2 ½</td>\n",
       "      <td>cup</td>\n",
       "    </tr>\n",
       "    <tr>\n",
       "      <th>24</th>\n",
       "      <td>large carrot</td>\n",
       "      <td>4</td>\n",
       "      <td></td>\n",
       "    </tr>\n",
       "    <tr>\n",
       "      <th>25</th>\n",
       "      <td>frozen peas</td>\n",
       "      <td>1</td>\n",
       "      <td>bag</td>\n",
       "    </tr>\n",
       "  </tbody>\n",
       "</table>\n",
       "</div>"
      ],
      "text/plain": [
       "                ingredient quantity        unit\n",
       "0          unsalted butter        1       stick\n",
       "1                    sugar        ⅓         cup\n",
       "2                     salt        ¼    teaspoon\n",
       "3                    sugar        ½         cup\n",
       "4        all purpose flour      1 ¼         cup\n",
       "5                 egg yolk        1            \n",
       "6   nonstick cooking spray        0            \n",
       "7               cornstarch        3  tablespoon\n",
       "8                large egg        1            \n",
       "9           large egg yolk        2            \n",
       "10         unsalted butter        3  tablespoon\n",
       "11         vanilla extract        2    teaspoon\n",
       "12     fresh mixed berries        4         cup\n",
       "13             apricot jam        ¼    teaspoon\n",
       "14      rotisserie chicken        1            \n",
       "15       poultry seasoning        1    teaspoon\n",
       "16             fresh thyme        ½    teaspoon\n",
       "17                  garlic        1       clove\n",
       "18         salt and pepper        0            \n",
       "19           chicken broth       10         cup\n",
       "20           vegetable oil        3  tablespoon\n",
       "21             white onion        1         cup\n",
       "22                  celery        1         cup\n",
       "23              egg noodle      2 ½         cup\n",
       "24            large carrot        4            \n",
       "25             frozen peas        1         bag"
      ]
     },
     "execution_count": 21,
     "metadata": {},
     "output_type": "execute_result"
    }
   ],
   "source": [
    "ingredient_df"
   ]
  },
  {
   "cell_type": "code",
   "execution_count": 22,
   "id": "93e2f0b5",
   "metadata": {},
   "outputs": [
    {
     "data": {
      "text/plain": [
       "ingredient    object\n",
       "quantity      object\n",
       "unit          object\n",
       "dtype: object"
      ]
     },
     "execution_count": 22,
     "metadata": {},
     "output_type": "execute_result"
    }
   ],
   "source": [
    "ingredient_df.dtypes"
   ]
  },
  {
   "cell_type": "code",
   "execution_count": 23,
   "id": "07d75506",
   "metadata": {},
   "outputs": [],
   "source": [
    "ingredient_df['quantity'] = ingredient_df['quantity'].apply(convert_utf_fraction)"
   ]
  },
  {
   "cell_type": "code",
   "execution_count": 195,
   "id": "ca72b668",
   "metadata": {},
   "outputs": [],
   "source": [
    "combined_ingredient_df = ingredient_df.groupby(by=['ingredient', 'unit'], \n",
    "                                               as_index = False)\\\n",
    "                                      .agg({'quantity': 'sum'})"
   ]
  },
  {
   "cell_type": "code",
   "execution_count": 196,
   "id": "c8815115",
   "metadata": {},
   "outputs": [
    {
     "data": {
      "text/html": [
       "<div>\n",
       "<style scoped>\n",
       "    .dataframe tbody tr th:only-of-type {\n",
       "        vertical-align: middle;\n",
       "    }\n",
       "\n",
       "    .dataframe tbody tr th {\n",
       "        vertical-align: top;\n",
       "    }\n",
       "\n",
       "    .dataframe thead th {\n",
       "        text-align: right;\n",
       "    }\n",
       "</style>\n",
       "<table border=\"1\" class=\"dataframe\">\n",
       "  <thead>\n",
       "    <tr style=\"text-align: right;\">\n",
       "      <th></th>\n",
       "      <th>ingredient</th>\n",
       "      <th>unit</th>\n",
       "      <th>quantity</th>\n",
       "    </tr>\n",
       "  </thead>\n",
       "  <tbody>\n",
       "    <tr>\n",
       "      <th>0</th>\n",
       "      <td>all purpose flour</td>\n",
       "      <td>cup</td>\n",
       "      <td>1.25</td>\n",
       "    </tr>\n",
       "    <tr>\n",
       "      <th>1</th>\n",
       "      <td>apricot jam</td>\n",
       "      <td>teaspoon</td>\n",
       "      <td>0.25</td>\n",
       "    </tr>\n",
       "    <tr>\n",
       "      <th>2</th>\n",
       "      <td>celery</td>\n",
       "      <td>cup</td>\n",
       "      <td>1</td>\n",
       "    </tr>\n",
       "    <tr>\n",
       "      <th>3</th>\n",
       "      <td>chicken broth</td>\n",
       "      <td>cup</td>\n",
       "      <td>10</td>\n",
       "    </tr>\n",
       "    <tr>\n",
       "      <th>4</th>\n",
       "      <td>cornstarch</td>\n",
       "      <td>tablespoon</td>\n",
       "      <td>3</td>\n",
       "    </tr>\n",
       "    <tr>\n",
       "      <th>5</th>\n",
       "      <td>egg noodle</td>\n",
       "      <td>cup</td>\n",
       "      <td>2.5</td>\n",
       "    </tr>\n",
       "    <tr>\n",
       "      <th>6</th>\n",
       "      <td>egg yolk</td>\n",
       "      <td></td>\n",
       "      <td>1</td>\n",
       "    </tr>\n",
       "    <tr>\n",
       "      <th>7</th>\n",
       "      <td>fresh mixed berries</td>\n",
       "      <td>cup</td>\n",
       "      <td>4</td>\n",
       "    </tr>\n",
       "    <tr>\n",
       "      <th>8</th>\n",
       "      <td>fresh thyme</td>\n",
       "      <td>teaspoon</td>\n",
       "      <td>0.5</td>\n",
       "    </tr>\n",
       "    <tr>\n",
       "      <th>9</th>\n",
       "      <td>frozen peas</td>\n",
       "      <td>bag</td>\n",
       "      <td>1</td>\n",
       "    </tr>\n",
       "    <tr>\n",
       "      <th>10</th>\n",
       "      <td>garlic</td>\n",
       "      <td>clove</td>\n",
       "      <td>1</td>\n",
       "    </tr>\n",
       "    <tr>\n",
       "      <th>11</th>\n",
       "      <td>large carrot</td>\n",
       "      <td></td>\n",
       "      <td>4</td>\n",
       "    </tr>\n",
       "    <tr>\n",
       "      <th>12</th>\n",
       "      <td>large egg</td>\n",
       "      <td></td>\n",
       "      <td>1</td>\n",
       "    </tr>\n",
       "    <tr>\n",
       "      <th>13</th>\n",
       "      <td>large egg yolk</td>\n",
       "      <td></td>\n",
       "      <td>2</td>\n",
       "    </tr>\n",
       "    <tr>\n",
       "      <th>14</th>\n",
       "      <td>nonstick cooking spray</td>\n",
       "      <td></td>\n",
       "      <td>0</td>\n",
       "    </tr>\n",
       "    <tr>\n",
       "      <th>15</th>\n",
       "      <td>poultry seasoning</td>\n",
       "      <td>teaspoon</td>\n",
       "      <td>1</td>\n",
       "    </tr>\n",
       "    <tr>\n",
       "      <th>16</th>\n",
       "      <td>rotisserie chicken</td>\n",
       "      <td></td>\n",
       "      <td>1</td>\n",
       "    </tr>\n",
       "    <tr>\n",
       "      <th>17</th>\n",
       "      <td>salt</td>\n",
       "      <td>teaspoon</td>\n",
       "      <td>0.25</td>\n",
       "    </tr>\n",
       "    <tr>\n",
       "      <th>18</th>\n",
       "      <td>salt and pepper</td>\n",
       "      <td></td>\n",
       "      <td>0</td>\n",
       "    </tr>\n",
       "    <tr>\n",
       "      <th>19</th>\n",
       "      <td>sugar</td>\n",
       "      <td>cup</td>\n",
       "      <td>0.833333</td>\n",
       "    </tr>\n",
       "    <tr>\n",
       "      <th>20</th>\n",
       "      <td>unsalted butter</td>\n",
       "      <td>stick</td>\n",
       "      <td>1</td>\n",
       "    </tr>\n",
       "    <tr>\n",
       "      <th>21</th>\n",
       "      <td>unsalted butter</td>\n",
       "      <td>tablespoon</td>\n",
       "      <td>3</td>\n",
       "    </tr>\n",
       "    <tr>\n",
       "      <th>22</th>\n",
       "      <td>vanilla extract</td>\n",
       "      <td>teaspoon</td>\n",
       "      <td>2</td>\n",
       "    </tr>\n",
       "    <tr>\n",
       "      <th>23</th>\n",
       "      <td>vegetable oil</td>\n",
       "      <td>tablespoon</td>\n",
       "      <td>3</td>\n",
       "    </tr>\n",
       "    <tr>\n",
       "      <th>24</th>\n",
       "      <td>white onion</td>\n",
       "      <td>cup</td>\n",
       "      <td>1</td>\n",
       "    </tr>\n",
       "  </tbody>\n",
       "</table>\n",
       "</div>"
      ],
      "text/plain": [
       "                ingredient        unit  quantity\n",
       "0        all purpose flour         cup      1.25\n",
       "1              apricot jam    teaspoon      0.25\n",
       "2                   celery         cup         1\n",
       "3            chicken broth         cup        10\n",
       "4               cornstarch  tablespoon         3\n",
       "5               egg noodle         cup       2.5\n",
       "6                 egg yolk                     1\n",
       "7      fresh mixed berries         cup         4\n",
       "8              fresh thyme    teaspoon       0.5\n",
       "9              frozen peas         bag         1\n",
       "10                  garlic       clove         1\n",
       "11            large carrot                     4\n",
       "12               large egg                     1\n",
       "13          large egg yolk                     2\n",
       "14  nonstick cooking spray                     0\n",
       "15       poultry seasoning    teaspoon         1\n",
       "16      rotisserie chicken                     1\n",
       "17                    salt    teaspoon      0.25\n",
       "18         salt and pepper                     0\n",
       "19                   sugar         cup  0.833333\n",
       "20         unsalted butter       stick         1\n",
       "21         unsalted butter  tablespoon         3\n",
       "22         vanilla extract    teaspoon         2\n",
       "23           vegetable oil  tablespoon         3\n",
       "24             white onion         cup         1"
      ]
     },
     "execution_count": 196,
     "metadata": {},
     "output_type": "execute_result"
    }
   ],
   "source": [
    "combined_ingredient_df"
   ]
  },
  {
   "cell_type": "markdown",
   "id": "63806b36",
   "metadata": {},
   "source": [
    "### Convert unit to what grocery has.\n",
    "Ex) sugar 2tsp => 8g vs. a bag is 4 lb. \n",
    "\n",
    "\n",
    "API : https://rapidapi.com/smilebot/api/food-unit-of-measurement-converter/\n",
    "\n",
    "### limitation : many 404 - ex. vanila extract, salt, vegetable oil, etc.\n",
    "### perhaps : collect all the label images and convert the volume to weight?"
   ]
  },
  {
   "cell_type": "code",
   "execution_count": 145,
   "id": "b03f324e",
   "metadata": {},
   "outputs": [],
   "source": [
    "url = \"https://food-unit-of-measurement-converter.p.rapidapi.com/convert\"\n",
    "headers = {\n",
    "    'x-rapidapi-key': \"70fcf77facmshaf5555f7be26d0cp11fe0ejsn74b399108a64\",\n",
    "    'x-rapidapi-host': \"food-unit-of-measurement-converter.p.rapidapi.com\"\n",
    "    }"
   ]
  },
  {
   "cell_type": "code",
   "execution_count": 218,
   "id": "e7122113",
   "metadata": {},
   "outputs": [],
   "source": [
    "def volume_to_lbs(ingredient, value, unit):\n",
    "    \"\"\"\n",
    "    Convert ingredient volume to lbs.\n",
    "    unit works as plurals in the original API.\n",
    "    \"\"\"\n",
    "    querystring = {\"unit\": unit + \"s\",\n",
    "                   \"ingredient\": ingredient, \n",
    "                   \"value\": value}\n",
    "    output_unit = 'lbs'\n",
    "\n",
    "    response = requests.request(\"GET\", \n",
    "                                url, \n",
    "                                headers=headers, \n",
    "                                params=querystring)\n",
    "\n",
    "    if(len(response.text) > 0):\n",
    "        return json.loads(response.text)[output_unit]\n",
    "    else:\n",
    "        return None"
   ]
  },
  {
   "cell_type": "code",
   "execution_count": null,
   "id": "cdcd1e17",
   "metadata": {},
   "outputs": [],
   "source": [
    "for row in combined_ingredient_df.itertuples():\n",
    "    volume_to_lbs(row.ingredient, row.quantity, row.unit)"
   ]
  },
  {
   "cell_type": "markdown",
   "id": "772ba5ee",
   "metadata": {},
   "source": [
    "### Named Entity Recognition(NER)\n",
    "\n",
    "### Proposal  : \n",
    "\n",
    "##### Ingredient name => See whether catalog has a exact match (ex. sweet onion) \n",
    "#### IF EXACT MATCH, use the ingredient name as it is\n",
    "#### IF NO EXACT MATCH,NER to extract NN/ NN pairs (ex. egg yolk => egg)\n",
    "\n",
    "\n",
    "\n",
    "###### adjectives for size/taste/color \n",
    "small carrot => no target entry =>  carrot\n",
    "\n",
    "medium onion => no target entry => onion \n",
    "\n",
    "red strawberry => no target entry => strawberry\n",
    "\n",
    "sweet onion => sweet onion\n",
    "\n",
    "egg yolk => no target entry => egg\n",
    "\n",
    "unsalted butter => unslated butter\n",
    "\n",
    "\n"
   ]
  },
  {
   "cell_type": "code",
   "execution_count": 94,
   "id": "f934744d",
   "metadata": {},
   "outputs": [],
   "source": [
    "#%pip install NLTK"
   ]
  },
  {
   "cell_type": "code",
   "execution_count": 27,
   "id": "539ee336",
   "metadata": {},
   "outputs": [],
   "source": [
    "import nltk\n",
    "from nltk.tokenize import word_tokenize\n",
    "from nltk.tag import pos_tag"
   ]
  },
  {
   "cell_type": "code",
   "execution_count": 31,
   "id": "de7b18fe",
   "metadata": {},
   "outputs": [
    {
     "name": "stdout",
     "output_type": "stream",
     "text": [
      "showing info https://raw.githubusercontent.com/nltk/nltk_data/gh-pages/index.xml\n"
     ]
    },
    {
     "data": {
      "text/plain": [
       "True"
      ]
     },
     "execution_count": 31,
     "metadata": {},
     "output_type": "execute_result"
    }
   ],
   "source": [
    " nltk.download()"
   ]
  },
  {
   "cell_type": "code",
   "execution_count": 66,
   "id": "f921eec3",
   "metadata": {},
   "outputs": [],
   "source": [
    "item = 'unsalted butter'"
   ]
  },
  {
   "cell_type": "code",
   "execution_count": 67,
   "id": "3d39544a",
   "metadata": {},
   "outputs": [],
   "source": [
    "def preprocess(sent):\n",
    "    sent = nltk.word_tokenize(sent)\n",
    "    sent = nltk.pos_tag(sent)\n",
    "    return sent"
   ]
  },
  {
   "cell_type": "code",
   "execution_count": 68,
   "id": "1ecb55af",
   "metadata": {},
   "outputs": [
    {
     "data": {
      "text/plain": [
       "[('unsalted', 'JJ'), ('butter', 'NN')]"
      ]
     },
     "execution_count": 68,
     "metadata": {},
     "output_type": "execute_result"
    }
   ],
   "source": [
    "preprocess(item)"
   ]
  },
  {
   "cell_type": "code",
   "execution_count": 69,
   "id": "48757f8e",
   "metadata": {},
   "outputs": [],
   "source": [
    "from nltk.corpus import wordnet as wn"
   ]
  },
  {
   "cell_type": "code",
   "execution_count": 80,
   "id": "d2341b56",
   "metadata": {},
   "outputs": [],
   "source": [
    "def check_food(word):\n",
    "    syns = wn.synsets(str(word), pos = wn.NOUN)\n",
    "    syn_list = []\n",
    "    for syn in syns:\n",
    "        syn_list.append(syn.lexname())\n",
    "    #    if 'food' in syn.lexname():\n",
    "    #        return True\n",
    "    #return False\n",
    "    return syn_list"
   ]
  },
  {
   "cell_type": "code",
   "execution_count": 93,
   "id": "11cf490a",
   "metadata": {},
   "outputs": [
    {
     "data": {
      "text/plain": [
       "[]"
      ]
     },
     "execution_count": 93,
     "metadata": {},
     "output_type": "execute_result"
    }
   ],
   "source": [
    "check_food('poultry_seasoning')"
   ]
  },
  {
   "cell_type": "code",
   "execution_count": null,
   "id": "d2484a3c",
   "metadata": {},
   "outputs": [],
   "source": []
  }
 ],
 "metadata": {
  "kernelspec": {
   "display_name": "Python 3",
   "language": "python",
   "name": "python3"
  },
  "language_info": {
   "codemirror_mode": {
    "name": "ipython",
    "version": 3
   },
   "file_extension": ".py",
   "mimetype": "text/x-python",
   "name": "python",
   "nbconvert_exporter": "python",
   "pygments_lexer": "ipython3",
   "version": "3.9.5"
  },
  "varInspector": {
   "cols": {
    "lenName": 16,
    "lenType": 16,
    "lenVar": 40
   },
   "kernels_config": {
    "python": {
     "delete_cmd_postfix": "",
     "delete_cmd_prefix": "del ",
     "library": "var_list.py",
     "varRefreshCmd": "print(var_dic_list())"
    },
    "r": {
     "delete_cmd_postfix": ") ",
     "delete_cmd_prefix": "rm(",
     "library": "var_list.r",
     "varRefreshCmd": "cat(var_dic_list()) "
    }
   },
   "types_to_exclude": [
    "module",
    "function",
    "builtin_function_or_method",
    "instance",
    "_Feature"
   ],
   "window_display": false
  }
 },
 "nbformat": 4,
 "nbformat_minor": 5
}
