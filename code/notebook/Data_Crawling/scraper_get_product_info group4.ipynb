{
 "cells": [
  {
   "cell_type": "code",
   "execution_count": 1,
   "id": "cf7cbc8d",
   "metadata": {
    "ExecuteTime": {
     "end_time": "2021-11-06T20:10:47.957413Z",
     "start_time": "2021-11-06T20:10:47.953708Z"
    }
   },
   "outputs": [],
   "source": [
    "import pandas as pd\n",
    "import numpy as np\n",
    "import os\n",
    "from tqdm.notebook import tqdm\n",
    "import glob\n",
    "\n",
    "from bs4 import BeautifulSoup"
   ]
  },
  {
   "cell_type": "code",
   "execution_count": 6,
   "id": "27358720",
   "metadata": {
    "ExecuteTime": {
     "end_time": "2021-11-06T20:10:48.503836Z",
     "start_time": "2021-11-06T20:10:48.173093Z"
    }
   },
   "outputs": [],
   "source": [
    "# group4 = pd.read_csv('/Users/chahaksethi/Desktop/Target/data/group10/header.csv',\n",
    "#                       sep='\\t', low_memory=False)\n",
    "ip_file_dir = \"../../../Data/scraped/\"\n",
    "file_list = glob.glob(\"../../../Data/scraped/*\")\n",
    "tcin_completed = [file.split('/')[-1].split('_')[0] for file in file_list]\n",
    "total_tcin = list(set(pd.Series(tcin_completed).astype('int')))"
   ]
  },
  {
   "cell_type": "code",
   "execution_count": 7,
   "id": "48740ae6",
   "metadata": {
    "ExecuteTime": {
     "end_time": "2021-11-06T20:10:48.507337Z",
     "start_time": "2021-11-06T20:10:48.505008Z"
    }
   },
   "outputs": [
    {
     "data": {
      "text/plain": [
       "22860"
      ]
     },
     "execution_count": 7,
     "metadata": {},
     "output_type": "execute_result"
    }
   ],
   "source": [
    "len(total_tcin)"
   ]
  },
  {
   "cell_type": "code",
   "execution_count": 8,
   "id": "be94906d",
   "metadata": {
    "ExecuteTime": {
     "end_time": "2021-11-06T20:12:37.903951Z",
     "start_time": "2021-11-06T20:12:37.898480Z"
    }
   },
   "outputs": [],
   "source": [
    "def get_highlights(soup):\n",
    "    highlights = []\n",
    "    try:\n",
    "        highlight_tag = soup.find('h3', text='Highlights')\n",
    "        highlights_sib = highlight_tag.find_next()\n",
    "        highlights_spans = highlights_sib.find_all('span')\n",
    "        for s in highlights_spans:\n",
    "            highlights.append(s.text)\n",
    "    except:\n",
    "        highlights = np.nan\n",
    "    return highlights"
   ]
  },
  {
   "cell_type": "code",
   "execution_count": 9,
   "id": "6d7ea6e9",
   "metadata": {
    "ExecuteTime": {
     "end_time": "2021-11-06T20:12:38.338228Z",
     "start_time": "2021-11-06T20:12:38.329661Z"
    }
   },
   "outputs": [],
   "source": [
    "def get_specifications(soup):\n",
    "    specifications = []\n",
    "    try:\n",
    "        specifications_tag = soup.find('h3', text='Specifications')\n",
    "        for d in specifications_tag.parent.find_all('div'):\n",
    "            specifications.append(d.text)\n",
    "        specifications = [s for s in list(set(specifications))\n",
    "                          if not s.startswith('Content on this site is for reference purposes only')\n",
    "                          if not s.startswith('Grocery Disclaimer')]\n",
    "    except:\n",
    "        specifications = np.nan\n",
    "    return specifications"
   ]
  },
  {
   "cell_type": "code",
   "execution_count": 10,
   "id": "0681f4bb",
   "metadata": {
    "ExecuteTime": {
     "end_time": "2021-11-06T20:12:39.680708Z",
     "start_time": "2021-11-06T20:12:39.674787Z"
    }
   },
   "outputs": [],
   "source": [
    "def get_description(soup):\n",
    "    description_text = ''\n",
    "    try:\n",
    "        description_tag = soup.find('h3', text='Description')\n",
    "        description_sib = description_tag.find_next()\n",
    "        description_text = description_sib.text\n",
    "    except:\n",
    "        pass\n",
    "    return description_text"
   ]
  },
  {
   "cell_type": "code",
   "execution_count": 11,
   "id": "ef1f4704",
   "metadata": {
    "ExecuteTime": {
     "end_time": "2021-11-06T20:12:41.062429Z",
     "start_time": "2021-11-06T20:12:41.056961Z"
    }
   },
   "outputs": [],
   "source": [
    "def get_serving_info(soup):\n",
    "    serving_info = []\n",
    "    try:\n",
    "        nutrition = soup.find('div', {'data-test':\n",
    "                                      'productDetailsTabs-nutritionFactsTab'}).div.div.div\n",
    "        for p in nutrition.find_all('p'):\n",
    "            serving_info.append(p.text)\n",
    "    except:\n",
    "        serving_info = np.nan\n",
    "    return serving_info"
   ]
  },
  {
   "cell_type": "code",
   "execution_count": 12,
   "id": "5fd3abcd",
   "metadata": {
    "ExecuteTime": {
     "end_time": "2021-11-06T20:16:24.298741Z",
     "start_time": "2021-11-06T20:16:24.289314Z"
    }
   },
   "outputs": [],
   "source": [
    "def get_nutrition_info(soup):\n",
    "    nutrition_info = []\n",
    "    try:\n",
    "        nutrition = soup.find('div', {'data-test':\n",
    "                                      'productDetailsTabs-nutritionFactsTab'}).div.div.div\n",
    "        nutrition_tags = nutrition.find_all('div',\n",
    "                                            class_=lambda x: x and x.startswith(\"h-margin-t-tight\"))\n",
    "        for nutrition_tag in nutrition_tags:\n",
    "            text_split = nutrition_tag.span.text.split()\n",
    "            nutrition_info.append(\n",
    "                ([\" \".join(text_split[0:-1]), (text_split[-1])]))\n",
    "    except:\n",
    "        nutrition_info = np.nan\n",
    "    return nutrition_info"
   ]
  },
  {
   "cell_type": "code",
   "execution_count": 13,
   "id": "6f36031d",
   "metadata": {
    "ExecuteTime": {
     "end_time": "2021-11-06T20:12:44.528438Z",
     "start_time": "2021-11-06T20:12:44.523827Z"
    }
   },
   "outputs": [],
   "source": [
    "def get_ingredients(soup):\n",
    "    ingredients_text = ''\n",
    "    try:\n",
    "        ingredients_tag = soup.find('h4',\n",
    "                                    text=lambda x: x.startswith('Ingredients'))\n",
    "        ingredients_sib = ingredients_tag.find_next()\n",
    "        ingredients_text = ingredients_sib.text\n",
    "    except:\n",
    "        pass\n",
    "    return ingredients_text"
   ]
  },
  {
   "cell_type": "code",
   "execution_count": 14,
   "id": "141d6dba",
   "metadata": {
    "ExecuteTime": {
     "end_time": "2021-11-06T20:12:44.975956Z",
     "start_time": "2021-11-06T20:12:44.971233Z"
    }
   },
   "outputs": [],
   "source": [
    "def get_allergens(soup):\n",
    "    allergens_text = ''\n",
    "    try:\n",
    "        allergens = soup.find('h4',\n",
    "                              text=lambda x: x.startswith('Allergens & Warnings'))\n",
    "        allergens_text = allergens.parent.text\n",
    "    except:\n",
    "        pass\n",
    "    return allergens_text"
   ]
  },
  {
   "cell_type": "code",
   "execution_count": 15,
   "id": "cb9cfc83",
   "metadata": {
    "ExecuteTime": {
     "end_time": "2021-11-06T20:12:46.884812Z",
     "start_time": "2021-11-06T20:12:46.876578Z"
    }
   },
   "outputs": [],
   "source": [
    "def get_price(soup):\n",
    "    product_price = np.nan\n",
    "    try:\n",
    "        product_price_tag = soup.find('div', {'data-test': 'product-price'})\n",
    "        product_price = float(product_price_tag.get_text()[1:])\n",
    "    except:\n",
    "        pass\n",
    "    return product_price\n",
    "\n",
    "\n",
    "def get_rating(soup):\n",
    "    rating = np.nan\n",
    "    try:\n",
    "        rating_tag = soup.find('span', {'data-test': 'ratings'})\n",
    "        rating = float(rating_tag.get_text().split()[0])\n",
    "    except:\n",
    "        pass\n",
    "    return rating\n",
    "\n",
    "\n",
    "def get_n_reviews(soup):\n",
    "    n_reviews = np.nan\n",
    "    try:\n",
    "        n_reviews_tag = soup.find('span', {'data-test': 'ratings'})\n",
    "        n_reviews = int(n_reviews_tag.get_text().split()[-2])\n",
    "    except:\n",
    "        pass\n",
    "    return n_reviews"
   ]
  },
  {
   "cell_type": "code",
   "execution_count": 16,
   "id": "10acfcb8",
   "metadata": {
    "ExecuteTime": {
     "end_time": "2021-11-06T21:11:03.725821Z",
     "start_time": "2021-11-06T20:20:41.481710Z"
    }
   },
   "outputs": [
    {
     "data": {
      "application/vnd.jupyter.widget-view+json": {
       "model_id": "7ea3fce5dfbe4d62804b2abcb46113d5",
       "version_major": 2,
       "version_minor": 0
      },
      "text/plain": [
       "  0%|          | 0/22860 [00:00<?, ?it/s]"
      ]
     },
     "metadata": {},
     "output_type": "display_data"
    }
   ],
   "source": [
    "op_file_path = os.path.join(ip_file_dir, 'products.csv')\n",
    "products = []\n",
    "for i, tcin in enumerate(tqdm(total_tcin)):\n",
    "    try:\n",
    "        path = os.path.join(ip_file_dir, str(tcin) + '_details.html')\n",
    "        with open(path) as f:\n",
    "            html = f.read()\n",
    "        details_soup = BeautifulSoup(html)\n",
    "\n",
    "        product = {}\n",
    "        product['tcin'] = tcin\n",
    "        product['price'] = get_price(details_soup)\n",
    "        product['rating'] = get_rating(details_soup)\n",
    "        product['n_reviews'] = get_n_reviews(details_soup)\n",
    "        product['highlights'] = get_highlights(details_soup)\n",
    "        product['specifications'] = get_specifications(details_soup)\n",
    "        product['description'] = get_description(details_soup)\n",
    "\n",
    "        path = os.path.join(ip_file_dir, str(tcin) + '_label_info.html')\n",
    "        if os.path.isfile(path):\n",
    "            with open(path) as f:\n",
    "                html = f.read()\n",
    "        label_info_soup = BeautifulSoup(html)\n",
    "        product['serving_info'] = get_serving_info(label_info_soup)\n",
    "        product['nutrition_info'] = get_nutrition_info(label_info_soup)\n",
    "        product['ingredients'] = get_ingredients(label_info_soup)\n",
    "        product['allergens'] = get_allergens(label_info_soup)\n",
    "\n",
    "        products.append(product)\n",
    "\n",
    "        if i % 50 == 0:\n",
    "            products_df = pd.DataFrame(products)\n",
    "            products_df.to_csv(op_file_path, index=False)\n",
    "    except:\n",
    "        print(tcin)\n",
    "        pass\n",
    "\n",
    "products_df = pd.DataFrame(products)\n",
    "products_df.to_csv(op_file_path, index=False)"
   ]
  },
  {
   "cell_type": "code",
   "execution_count": 17,
   "id": "ff4db190",
   "metadata": {
    "ExecuteTime": {
     "end_time": "2021-11-06T21:11:06.880594Z",
     "start_time": "2021-11-06T21:11:06.464621Z"
    }
   },
   "outputs": [],
   "source": [
    "products = pd.read_csv(op_file_path)"
   ]
  },
  {
   "cell_type": "code",
   "execution_count": 18,
   "id": "5e370464",
   "metadata": {
    "ExecuteTime": {
     "end_time": "2021-11-06T21:11:07.524076Z",
     "start_time": "2021-11-06T21:11:07.496538Z"
    }
   },
   "outputs": [
    {
     "data": {
      "text/html": [
       "<div>\n",
       "<style scoped>\n",
       "    .dataframe tbody tr th:only-of-type {\n",
       "        vertical-align: middle;\n",
       "    }\n",
       "\n",
       "    .dataframe tbody tr th {\n",
       "        vertical-align: top;\n",
       "    }\n",
       "\n",
       "    .dataframe thead th {\n",
       "        text-align: right;\n",
       "    }\n",
       "</style>\n",
       "<table border=\"1\" class=\"dataframe\">\n",
       "  <thead>\n",
       "    <tr style=\"text-align: right;\">\n",
       "      <th></th>\n",
       "      <th>tcin</th>\n",
       "      <th>price</th>\n",
       "      <th>rating</th>\n",
       "      <th>n_reviews</th>\n",
       "      <th>highlights</th>\n",
       "      <th>specifications</th>\n",
       "      <th>description</th>\n",
       "      <th>serving_info</th>\n",
       "      <th>nutrition_info</th>\n",
       "      <th>ingredients</th>\n",
       "      <th>allergens</th>\n",
       "    </tr>\n",
       "  </thead>\n",
       "  <tbody>\n",
       "    <tr>\n",
       "      <th>0</th>\n",
       "      <td>82444295</td>\n",
       "      <td>303.10</td>\n",
       "      <td>NaN</td>\n",
       "      <td>0.0</td>\n",
       "      <td>['MAXIMIZES SPACE: Sliding pull out freezer ca...</td>\n",
       "      <td>['Dimensions (Overall): 5 inches (H) x 21.6 in...</td>\n",
       "      <td>Traveling can be stressful, but with the MORry...</td>\n",
       "      <td>NaN</td>\n",
       "      <td>NaN</td>\n",
       "      <td>NaN</td>\n",
       "      <td>NaN</td>\n",
       "    </tr>\n",
       "    <tr>\n",
       "      <th>1</th>\n",
       "      <td>84672533</td>\n",
       "      <td>14.99</td>\n",
       "      <td>NaN</td>\n",
       "      <td>0.0</td>\n",
       "      <td>NaN</td>\n",
       "      <td>['UPC: 192173178836', \"Warranty: No Applicable...</td>\n",
       "      <td>This Freestanding Countertop Paper Towel Holde...</td>\n",
       "      <td>NaN</td>\n",
       "      <td>NaN</td>\n",
       "      <td>NaN</td>\n",
       "      <td>NaN</td>\n",
       "    </tr>\n",
       "    <tr>\n",
       "      <th>2</th>\n",
       "      <td>84672534</td>\n",
       "      <td>14.99</td>\n",
       "      <td>NaN</td>\n",
       "      <td>0.0</td>\n",
       "      <td>NaN</td>\n",
       "      <td>['UPC: 192173178836', \"Warranty: No Applicable...</td>\n",
       "      <td>This Freestanding Countertop Paper Towel Holde...</td>\n",
       "      <td>NaN</td>\n",
       "      <td>NaN</td>\n",
       "      <td>NaN</td>\n",
       "      <td>NaN</td>\n",
       "    </tr>\n",
       "    <tr>\n",
       "      <th>3</th>\n",
       "      <td>84803608</td>\n",
       "      <td>10.49</td>\n",
       "      <td>4.9</td>\n",
       "      <td>16.0</td>\n",
       "      <td>['Nonstick silicone coating', 'Dishwasher Safe...</td>\n",
       "      <td>['TCIN: 84803608', 'UPC: 093674187214', \"The a...</td>\n",
       "      <td>Our premium stainless steel potato masher come...</td>\n",
       "      <td>NaN</td>\n",
       "      <td>NaN</td>\n",
       "      <td>NaN</td>\n",
       "      <td>NaN</td>\n",
       "    </tr>\n",
       "    <tr>\n",
       "      <th>4</th>\n",
       "      <td>76021792</td>\n",
       "      <td>49.95</td>\n",
       "      <td>4.9</td>\n",
       "      <td>48.0</td>\n",
       "      <td>['Glass porcelain finish', 'Oven safe up to 57...</td>\n",
       "      <td>['Dimensions (Overall): 2.6 inches (H) x 8.5 i...</td>\n",
       "      <td>The elegance and functionality of Staub cerami...</td>\n",
       "      <td>NaN</td>\n",
       "      <td>NaN</td>\n",
       "      <td>NaN</td>\n",
       "      <td>NaN</td>\n",
       "    </tr>\n",
       "    <tr>\n",
       "      <th>...</th>\n",
       "      <td>...</td>\n",
       "      <td>...</td>\n",
       "      <td>...</td>\n",
       "      <td>...</td>\n",
       "      <td>...</td>\n",
       "      <td>...</td>\n",
       "      <td>...</td>\n",
       "      <td>...</td>\n",
       "      <td>...</td>\n",
       "      <td>...</td>\n",
       "      <td>...</td>\n",
       "    </tr>\n",
       "    <tr>\n",
       "      <th>22855</th>\n",
       "      <td>76021625</td>\n",
       "      <td>69.95</td>\n",
       "      <td>4.9</td>\n",
       "      <td>47.0</td>\n",
       "      <td>['Curved bolster encourages cutting with impro...</td>\n",
       "      <td>['Weight: .15 ounces', 'Dimensions (Overall): ...</td>\n",
       "      <td>ZWILLING Pro is the most user-friendly knife a...</td>\n",
       "      <td>NaN</td>\n",
       "      <td>NaN</td>\n",
       "      <td>NaN</td>\n",
       "      <td>NaN</td>\n",
       "    </tr>\n",
       "    <tr>\n",
       "      <th>22856</th>\n",
       "      <td>14024623</td>\n",
       "      <td>29.99</td>\n",
       "      <td>3.4</td>\n",
       "      <td>299.0</td>\n",
       "      <td>['4-slot toaster lets you toast more at the sa...</td>\n",
       "      <td>['Includes: Instruction Manual', 'ENERGYGUIDE ...</td>\n",
       "      <td>The perfect accompaniment to a hearty breakfas...</td>\n",
       "      <td>NaN</td>\n",
       "      <td>NaN</td>\n",
       "      <td>NaN</td>\n",
       "      <td>NaN</td>\n",
       "    </tr>\n",
       "    <tr>\n",
       "      <th>22857</th>\n",
       "      <td>14024624</td>\n",
       "      <td>89.99</td>\n",
       "      <td>3.7</td>\n",
       "      <td>105.0</td>\n",
       "      <td>['7 toast shade settings', 'Extra-wide bread s...</td>\n",
       "      <td>['Includes: Instruction Manual', 'Care &amp; Clean...</td>\n",
       "      <td>The Oster 4 - Slice Stainless Steel Toaster's ...</td>\n",
       "      <td>NaN</td>\n",
       "      <td>NaN</td>\n",
       "      <td>NaN</td>\n",
       "      <td>NaN</td>\n",
       "    </tr>\n",
       "    <tr>\n",
       "      <th>22858</th>\n",
       "      <td>51118048</td>\n",
       "      <td>19.79</td>\n",
       "      <td>4.7</td>\n",
       "      <td>44.0</td>\n",
       "      <td>['Constructed of BPA-free multi-layer material...</td>\n",
       "      <td>['Number of Pieces: 35', 'Capacity (Volume): 1...</td>\n",
       "      <td>With the FoodSaver Sous Vide Vacuum Sealing Ba...</td>\n",
       "      <td>NaN</td>\n",
       "      <td>NaN</td>\n",
       "      <td>NaN</td>\n",
       "      <td>NaN</td>\n",
       "    </tr>\n",
       "    <tr>\n",
       "      <th>22859</th>\n",
       "      <td>76021734</td>\n",
       "      <td>279.95</td>\n",
       "      <td>4.9</td>\n",
       "      <td>39.0</td>\n",
       "      <td>['Includes 12\" square grill pan and 10.3\" squa...</td>\n",
       "      <td>['TCIN: 76020578', 'Weight: 16.1 ounces', 'Dim...</td>\n",
       "      <td>For centuries, cooks have taken advantage of t...</td>\n",
       "      <td>NaN</td>\n",
       "      <td>NaN</td>\n",
       "      <td>NaN</td>\n",
       "      <td>NaN</td>\n",
       "    </tr>\n",
       "  </tbody>\n",
       "</table>\n",
       "<p>22860 rows × 11 columns</p>\n",
       "</div>"
      ],
      "text/plain": [
       "           tcin   price  rating  n_reviews  \\\n",
       "0      82444295  303.10     NaN        0.0   \n",
       "1      84672533   14.99     NaN        0.0   \n",
       "2      84672534   14.99     NaN        0.0   \n",
       "3      84803608   10.49     4.9       16.0   \n",
       "4      76021792   49.95     4.9       48.0   \n",
       "...         ...     ...     ...        ...   \n",
       "22855  76021625   69.95     4.9       47.0   \n",
       "22856  14024623   29.99     3.4      299.0   \n",
       "22857  14024624   89.99     3.7      105.0   \n",
       "22858  51118048   19.79     4.7       44.0   \n",
       "22859  76021734  279.95     4.9       39.0   \n",
       "\n",
       "                                              highlights  \\\n",
       "0      ['MAXIMIZES SPACE: Sliding pull out freezer ca...   \n",
       "1                                                    NaN   \n",
       "2                                                    NaN   \n",
       "3      ['Nonstick silicone coating', 'Dishwasher Safe...   \n",
       "4      ['Glass porcelain finish', 'Oven safe up to 57...   \n",
       "...                                                  ...   \n",
       "22855  ['Curved bolster encourages cutting with impro...   \n",
       "22856  ['4-slot toaster lets you toast more at the sa...   \n",
       "22857  ['7 toast shade settings', 'Extra-wide bread s...   \n",
       "22858  ['Constructed of BPA-free multi-layer material...   \n",
       "22859  ['Includes 12\" square grill pan and 10.3\" squa...   \n",
       "\n",
       "                                          specifications  \\\n",
       "0      ['Dimensions (Overall): 5 inches (H) x 21.6 in...   \n",
       "1      ['UPC: 192173178836', \"Warranty: No Applicable...   \n",
       "2      ['UPC: 192173178836', \"Warranty: No Applicable...   \n",
       "3      ['TCIN: 84803608', 'UPC: 093674187214', \"The a...   \n",
       "4      ['Dimensions (Overall): 2.6 inches (H) x 8.5 i...   \n",
       "...                                                  ...   \n",
       "22855  ['Weight: .15 ounces', 'Dimensions (Overall): ...   \n",
       "22856  ['Includes: Instruction Manual', 'ENERGYGUIDE ...   \n",
       "22857  ['Includes: Instruction Manual', 'Care & Clean...   \n",
       "22858  ['Number of Pieces: 35', 'Capacity (Volume): 1...   \n",
       "22859  ['TCIN: 76020578', 'Weight: 16.1 ounces', 'Dim...   \n",
       "\n",
       "                                             description serving_info  \\\n",
       "0      Traveling can be stressful, but with the MORry...          NaN   \n",
       "1      This Freestanding Countertop Paper Towel Holde...          NaN   \n",
       "2      This Freestanding Countertop Paper Towel Holde...          NaN   \n",
       "3      Our premium stainless steel potato masher come...          NaN   \n",
       "4      The elegance and functionality of Staub cerami...          NaN   \n",
       "...                                                  ...          ...   \n",
       "22855  ZWILLING Pro is the most user-friendly knife a...          NaN   \n",
       "22856  The perfect accompaniment to a hearty breakfas...          NaN   \n",
       "22857  The Oster 4 - Slice Stainless Steel Toaster's ...          NaN   \n",
       "22858  With the FoodSaver Sous Vide Vacuum Sealing Ba...          NaN   \n",
       "22859  For centuries, cooks have taken advantage of t...          NaN   \n",
       "\n",
       "      nutrition_info ingredients allergens  \n",
       "0                NaN         NaN       NaN  \n",
       "1                NaN         NaN       NaN  \n",
       "2                NaN         NaN       NaN  \n",
       "3                NaN         NaN       NaN  \n",
       "4                NaN         NaN       NaN  \n",
       "...              ...         ...       ...  \n",
       "22855            NaN         NaN       NaN  \n",
       "22856            NaN         NaN       NaN  \n",
       "22857            NaN         NaN       NaN  \n",
       "22858            NaN         NaN       NaN  \n",
       "22859            NaN         NaN       NaN  \n",
       "\n",
       "[22860 rows x 11 columns]"
      ]
     },
     "execution_count": 18,
     "metadata": {},
     "output_type": "execute_result"
    }
   ],
   "source": [
    "products"
   ]
  },
  {
   "cell_type": "code",
   "execution_count": null,
   "id": "af377197",
   "metadata": {},
   "outputs": [],
   "source": []
  }
 ],
 "metadata": {
  "kernelspec": {
   "display_name": "Python 3 (ipykernel)",
   "language": "python",
   "name": "python3"
  },
  "language_info": {
   "codemirror_mode": {
    "name": "ipython",
    "version": 3
   },
   "file_extension": ".py",
   "mimetype": "text/x-python",
   "name": "python",
   "nbconvert_exporter": "python",
   "pygments_lexer": "ipython3",
   "version": "3.8.11"
  }
 },
 "nbformat": 4,
 "nbformat_minor": 5
}
