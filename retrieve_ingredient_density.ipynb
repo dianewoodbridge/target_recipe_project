{
 "cells": [
  {
   "cell_type": "markdown",
   "id": "1b843de1",
   "metadata": {},
   "source": [
    "file : \n",
    "\n",
    "http://www.fao.org/infoods/infoods/tables-and-databases/faoinfoods-databases/en/\n",
    "\n",
    "https://fdc.nal.usda.gov/index.html"
   ]
  },
  {
   "cell_type": "markdown",
   "id": "c8cf3c20",
   "metadata": {},
   "source": [
    "USDA : \n",
    "    API KEY - 6QckmmkUv58RO4eu9eiXKUD1a0L60mSjTnHfa036\n",
    "    https://api.nal.usda.gov/fdc/v1/foods/search?query=apple&pageSize=2&api_key=6QckmmkUv58RO4eu9eiXKUD1a0L60mSjTnHfa036"
   ]
  },
  {
   "cell_type": "code",
   "execution_count": 1,
   "id": "ee320df4",
   "metadata": {},
   "outputs": [],
   "source": [
    "import requests"
   ]
  },
  {
   "cell_type": "code",
   "execution_count": 2,
   "id": "b955a337",
   "metadata": {},
   "outputs": [],
   "source": [
    "api_key = \"6QckmmkUv58RO4eu9eiXKUD1a0L60mSjTnHfa036\""
   ]
  },
  {
   "cell_type": "code",
   "execution_count": 3,
   "id": "d8bf8c52",
   "metadata": {},
   "outputs": [],
   "source": [
    "def search_usda_food_with_fdcid(fdcid):\n",
    "    #headers = {\"Authorization\": \"Bearer {}\".format(bearer_token)}\n",
    "    #url = \"https://api.nal.usda.gov/fdc/v1/foods/search?query={}&model=foodPortion&page=1&max=1&api_key=6QckmmkUv58RO4eu9eiXKUD1a0L60mSjTnHfa036\"\\\n",
    "    #      .format(ingredient)\n",
    "    url = \"https://api.nal.usda.gov/fdc/v1/food/{}?api_key={}\".format(fdcid, api_key)\n",
    "    print(url)\n",
    "    response = requests.request(\"GET\", url)\n",
    "\n",
    "    if response.status_code != 200:\n",
    "        raise Exception(response.status_code, response.text)\n",
    "    return response.json()"
   ]
  },
  {
   "cell_type": "code",
   "execution_count": 8,
   "id": "a56e10ec",
   "metadata": {},
   "outputs": [],
   "source": [
    "def retrieve_food_portions(json_data):\n",
    "    '''\n",
    "    returns gramWeight per volume unit including tsp/tbsp/cup/\n",
    "    '''\n",
    "    return json_data.get(\"foodPortions\")"
   ]
  },
  {
   "cell_type": "code",
   "execution_count": 9,
   "id": "a55b79b7",
   "metadata": {},
   "outputs": [
    {
     "name": "stdout",
     "output_type": "stream",
     "text": [
      "https://api.nal.usda.gov/fdc/v1/food/173471?api_key=6QckmmkUv58RO4eu9eiXKUD1a0L60mSjTnHfa036\n"
     ]
    }
   ],
   "source": [
    "json_data = search_usda_food_with_fdcid(\"173471\")"
   ]
  },
  {
   "cell_type": "code",
   "execution_count": 10,
   "id": "14cf0ed4",
   "metadata": {},
   "outputs": [
    {
     "data": {
      "text/plain": [
       "[{'id': 92603,\n",
       "  'gramWeight': 4.2,\n",
       "  'sequenceNumber': 1,\n",
       "  'amount': 1.0,\n",
       "  'modifier': 'tsp',\n",
       "  'measureUnit': {'id': 9999,\n",
       "   'name': 'undetermined',\n",
       "   'abbreviation': 'undetermined'}},\n",
       " {'id': 92605,\n",
       "  'gramWeight': 208.0,\n",
       "  'sequenceNumber': 3,\n",
       "  'amount': 1.0,\n",
       "  'modifier': 'cup',\n",
       "  'measureUnit': {'id': 9999,\n",
       "   'name': 'undetermined',\n",
       "   'abbreviation': 'undetermined'}},\n",
       " {'id': 92604,\n",
       "  'gramWeight': 13.0,\n",
       "  'sequenceNumber': 2,\n",
       "  'amount': 1.0,\n",
       "  'modifier': 'tbsp',\n",
       "  'measureUnit': {'id': 9999,\n",
       "   'name': 'undetermined',\n",
       "   'abbreviation': 'undetermined'}}]"
      ]
     },
     "execution_count": 10,
     "metadata": {},
     "output_type": "execute_result"
    }
   ],
   "source": [
    "retrieve_food_portions(json_data)"
   ]
  },
  {
   "cell_type": "code",
   "execution_count": null,
   "id": "89550849",
   "metadata": {},
   "outputs": [],
   "source": []
  }
 ],
 "metadata": {
  "kernelspec": {
   "display_name": "Python 3",
   "language": "python",
   "name": "python3"
  },
  "language_info": {
   "codemirror_mode": {
    "name": "ipython",
    "version": 3
   },
   "file_extension": ".py",
   "mimetype": "text/x-python",
   "name": "python",
   "nbconvert_exporter": "python",
   "pygments_lexer": "ipython3",
   "version": "3.9.5"
  },
  "varInspector": {
   "cols": {
    "lenName": 16,
    "lenType": 16,
    "lenVar": 40
   },
   "kernels_config": {
    "python": {
     "delete_cmd_postfix": "",
     "delete_cmd_prefix": "del ",
     "library": "var_list.py",
     "varRefreshCmd": "print(var_dic_list())"
    },
    "r": {
     "delete_cmd_postfix": ") ",
     "delete_cmd_prefix": "rm(",
     "library": "var_list.r",
     "varRefreshCmd": "cat(var_dic_list()) "
    }
   },
   "types_to_exclude": [
    "module",
    "function",
    "builtin_function_or_method",
    "instance",
    "_Feature"
   ],
   "window_display": false
  }
 },
 "nbformat": 4,
 "nbformat_minor": 5
}
