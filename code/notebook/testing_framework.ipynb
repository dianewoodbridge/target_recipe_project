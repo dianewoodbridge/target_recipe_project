{
 "cells": [
  {
   "cell_type": "code",
   "execution_count": 1,
   "id": "0409a15d",
   "metadata": {
    "ExecuteTime": {
     "end_time": "2021-12-06T20:53:20.674106Z",
     "start_time": "2021-12-06T20:53:20.186687Z"
    }
   },
   "outputs": [],
   "source": [
    "import requests\n",
    "import json\n",
    "import re\n",
    "import os\n",
    "import pandas as pd \n",
    "import numpy as np\n",
    "import random"
   ]
  },
  {
   "cell_type": "code",
   "execution_count": 2,
   "id": "07cc94fb",
   "metadata": {
    "ExecuteTime": {
     "end_time": "2021-12-06T20:53:22.583678Z",
     "start_time": "2021-12-06T20:53:20.675914Z"
    }
   },
   "outputs": [],
   "source": [
    "from sentence_transformers import SentenceTransformer\n",
    "from ranker import TransformerRanker\n",
    "from preprocessor import *\n",
    "from mapper import Mapper\n",
    "from display_products import DisplayProducts\n",
    "import joblib"
   ]
  },
  {
   "cell_type": "markdown",
   "id": "4a437b95",
   "metadata": {},
   "source": [
    "The steps followed here are:\n",
    "\n",
    "1) Load 1m recipe\n",
    "2) Standardise the units\n",
    "3) Load density info\n",
    "4) Calculate the required amount of each ingredient"
   ]
  },
  {
   "cell_type": "code",
   "execution_count": 3,
   "id": "ff737de3",
   "metadata": {
    "ExecuteTime": {
     "end_time": "2021-12-06T20:53:22.585955Z",
     "start_time": "2021-12-06T20:53:22.584466Z"
    }
   },
   "outputs": [],
   "source": [
    "# import zipfile\n",
    "# corpus_zip = zipfile.ZipFile('/Users/mvellera/USF/Fall - II/Practicum (Target)/Data/recipe1M_layers/layer1.zip', 'r')\n",
    "# recipe_str = corpus_zip.read(corpus_zip.namelist()[0])\n",
    "# recipe = json.loads(recipe_str)"
   ]
  },
  {
   "cell_type": "code",
   "execution_count": null,
   "id": "ab102734",
   "metadata": {
    "ExecuteTime": {
     "start_time": "2021-12-06T20:53:18.817Z"
    }
   },
   "outputs": [],
   "source": [
    "filepath = \"/Users/mvellera/USF/Fall - II/Practicum (Target)/Data/recipe1M_layers/layer1.json\"\n",
    "op_file_path = \"./Data/ing_desnsity.csv\"\n",
    "with open(filepath) as json_data:\n",
    "    recipe = json.load(json_data)"
   ]
  },
  {
   "cell_type": "code",
   "execution_count": null,
   "id": "0735ddbd",
   "metadata": {
    "ExecuteTime": {
     "start_time": "2021-12-06T20:53:19.061Z"
    }
   },
   "outputs": [],
   "source": [
    "def recipe_load_index(i):\n",
    "    dict_ingredients = { 'ingredient' :[],\n",
    "                    'unit': [],\n",
    "                    'quantity':[]   \n",
    "    }\n",
    "    ingredients_list=[]\n",
    "    title = recipe[i]['title']\n",
    "    id = recipe[i]['id']\n",
    "    print(f'Recipe: {title}')\n",
    "\n",
    "    for lis in recipe[i]['ingredients']:\n",
    "        for key, val in lis.items():   \n",
    "            ingredients_list.append(val)\n",
    "            rem = re.sub(\"[\\(\\[].*?[\\)\\]]\", \"\", val)\n",
    "            rem = re.sub(' c. ', ' cup ', rem)\n",
    "            rem = re.sub(\"[.]\", \"\", rem)\n",
    "            if rem !='':\n",
    "                u =re.findall(r\" ounces | ounce | teaspoon | cups | cup | tablespoon | tbsp | tsp | can \", rem)\n",
    "                if len(u) == 0:\n",
    "                    qty = re.split(' ', rem)\n",
    "                    qty_list = re.findall('[0-9/]+', qty[0])\n",
    "                    if len(qty_list) !=0:\n",
    "\n",
    "                        dict_ingredients['quantity'].append(qty_list[-1])\n",
    "                        dict_ingredients['unit'].append('count')\n",
    "                        j = ' '.join(i for i in qty[1:])\n",
    "                        dict_ingredients['ingredient'].append(j.split(',')[0].strip())\n",
    "                    else:  \n",
    "                        dict_ingredients['quantity'].append(np.nan)\n",
    "                        dict_ingredients['unit'].append('')\n",
    "                        j= ' '.join(i for i in qty)\n",
    "                        dict_ingredients['ingredient'].append(j.split(',')[0].strip())\n",
    "\n",
    "                else:\n",
    "                    qty = re.split(r\" ounces | ounce | teaspoon | cups | cup | tablespoon | tbsp | tsp | can \", rem)[0].strip()  \n",
    "                    qty_list = re.findall('[0-9/]+', qty)\n",
    "\n",
    "                    if len(qty_list) !=0:\n",
    "                        dict_ingredients['unit'].append(u[0])\n",
    "                        dict_ingredients['quantity'].append(qty_list[-1])\n",
    "                        j = re.split(r\"ounces | ounce | teaspoon | cups | cup | tablespoon | tbsp | tsp | can \", rem)[1].strip()\n",
    "                        dict_ingredients['ingredient'].append(j.split(',')[0].strip())\n",
    "                    else:\n",
    "                        dict_ingredients['quantity'].append(np.nan)\n",
    "                        dict_ingredients['unit'].append('')\n",
    "                        j=' '.join(i for i in qty)\n",
    "                        dict_ingredients['ingredient'].append(j.split(',')[0].strip())\n",
    "    \n",
    "    return dict_ingredients"
   ]
  },
  {
   "cell_type": "code",
   "execution_count": null,
   "id": "5976776f",
   "metadata": {
    "ExecuteTime": {
     "start_time": "2021-12-06T20:53:19.257Z"
    }
   },
   "outputs": [],
   "source": [
    "def recipe_load(n):\n",
    "    dict_ingredients = { 'ingredient' :[],\n",
    "                    'unit': [],\n",
    "                    'quantity':[]   \n",
    "    }\n",
    "    ingredients_list=[]\n",
    "    for i in range(0,n):\n",
    "        title = recipe[i]['title']\n",
    "        id = recipe[i]['id']\n",
    "        \n",
    "        for lis in recipe[i]['ingredients']:\n",
    "            for key, val in lis.items():   \n",
    "                ingredients_list.append(val)\n",
    "                rem = re.sub(\"[\\(\\[].*?[\\)\\]]\", \"\", val)\n",
    "                rem = re.sub(' c. ', ' cup ', rem)\n",
    "                rem = re.sub(\"[.]\", \"\", rem)\n",
    "                if rem !='':\n",
    "                    u =re.findall(r\" ounces | ounce | teaspoon | cups | cup | tablespoon | tbsp | tsp | can \", rem)\n",
    "                    if len(u) == 0:\n",
    "                        qty = re.split(' ', rem)\n",
    "                        qty_list = re.findall('[0-9/]+', qty[0])\n",
    "                        if len(qty_list) !=0:\n",
    "                            \n",
    "                            dict_ingredients['quantity'].append(qty_list[-1])\n",
    "                            dict_ingredients['unit'].append('count')\n",
    "                            j = ' '.join(i for i in qty[1:])\n",
    "                            dict_ingredients['ingredient'].append(j.split(',')[0].strip())\n",
    "                        else:  \n",
    "                            dict_ingredients['quantity'].append(np.nan)\n",
    "                            dict_ingredients['unit'].append('')\n",
    "                            j= ' '.join(i for i in qty)\n",
    "                            dict_ingredients['ingredient'].append(j.split(',')[0].strip())\n",
    "                        \n",
    "                    else:\n",
    "                        qty = re.split(r\" ounces | ounce | teaspoon | cups | cup | tablespoon | tbsp | tsp | can \", rem)[0].strip()  \n",
    "                        qty_list = re.findall('[0-9/]+', qty)\n",
    "                        \n",
    "                        if len(qty_list) !=0:\n",
    "                            dict_ingredients['unit'].append(u[0])\n",
    "                            dict_ingredients['quantity'].append(qty_list[-1])\n",
    "                            j = re.split(r\"ounces | ounce | teaspoon | cups | cup | tablespoon | tbsp | tsp | can \", rem)[1].strip()\n",
    "                            dict_ingredients['ingredient'].append(j.split(',')[0].strip())\n",
    "                        else:\n",
    "                            dict_ingredients['quantity'].append(np.nan)\n",
    "                            dict_ingredients['unit'].append('')\n",
    "                            j=' '.join(i for i in qty)\n",
    "                            dict_ingredients['ingredient'].append(j.split(',')[0].strip())\n",
    "    \n",
    "    return dict_ingredients\n",
    "\n",
    "def convert_fraction(utf):\n",
    "    if utf is np.nan:\n",
    "        return utf\n",
    "    pattern = r'/'\n",
    "    if '/' in re.findall(pattern, utf) :\n",
    "        d = re.split(pattern, utf)\n",
    "        number = int(d[0])/ int(d[1]) \n",
    "        return number\n",
    "\n",
    "    return utf\n"
   ]
  },
  {
   "cell_type": "code",
   "execution_count": null,
   "id": "eb7fda85",
   "metadata": {
    "ExecuteTime": {
     "start_time": "2021-12-06T20:53:19.508Z"
    }
   },
   "outputs": [],
   "source": [
    "\n",
    "unit_abbreviation = { 'tbsp' : [\"tablespoon\"],\n",
    "                      'tsp' : ['teaspoon'],\n",
    "                     'ml' : ['milliliter'],\n",
    "                     'cup' : ['cups'],\n",
    "                     'oz' : ['ounces']\n",
    "    \n",
    "}"
   ]
  },
  {
   "cell_type": "code",
   "execution_count": null,
   "id": "64f05933",
   "metadata": {
    "ExecuteTime": {
     "start_time": "2021-12-06T20:53:19.737Z"
    }
   },
   "outputs": [],
   "source": [
    "#Normalizes quantity required\n",
    "def normalize_units(combined_ingredient_df):\n",
    "    normalized_units = list()\n",
    "    m_list=[]\n",
    "    for ingredient in combined_ingredient_df.iterrows():\n",
    "        unit = ingredient[1][1].strip()\n",
    "        normalized_unit = ''\n",
    "        for key, val in unit_abbreviation.items():\n",
    "            if unit in val:\n",
    "                normalized_unit = key\n",
    "                if normalized_unit == 'cup':\n",
    "                     m = 225\n",
    "                elif normalized_unit == 'tsp':\n",
    "                     m = 5\n",
    "                elif normalized_unit == 'tbsp':\n",
    "                     m = 15\n",
    "                elif normalized_unit == 'ml':\n",
    "                     m = 1\n",
    "                elif normalized_unit == 'oz':\n",
    "                     m = 30\n",
    "        if normalized_unit == '':\n",
    "            normalized_unit = unit\n",
    "            m = 0\n",
    "        normalized_units.append(normalized_unit)\n",
    "        m_list.append(m)\n",
    "    combined_ingredient_df['quantity']= combined_ingredient_df['quantity'].astype(float)\n",
    "    combined_ingredient_df['normalized_unit'] = normalized_units\n",
    "    combined_ingredient_df['Volume_in_ml'] = combined_ingredient_df['quantity']*m_list\n",
    "    return combined_ingredient_df\n",
    "def search_density(ingredient):\n",
    "    df = pd.read_csv(op_file_path)\n",
    "    ing = (df['ingredient']).tolist()\n",
    "    for n,i in enumerate(ing):\n",
    "        if ingredient.lower() in i.lower():\n",
    "            return (df.iloc[n,1], df.iloc[n,2], df.iloc[n,3])    \n",
    "#     matching = [s for s in ing if lower(ingredient) in lower(s)]\n",
    "#         if product[1]['ingredient']t.contains(ingredient):\n",
    "#             return (row.standard_vol, row.standard_weight_gm, row.standard_unit)\n",
    "    return (None, None, '')\n",
    "def req_oz_recipe(combined_ingredient_df):\n",
    "    req_oz=[]\n",
    "\n",
    "    for index, row in combined_ingredient_df.iterrows():\n",
    "        if row.normalized_unit=='ounce':\n",
    "            req_oz.append(row.quantity)\n",
    "        elif row.normalized_unit=='pound':\n",
    "            req_oz.append(row.quantity*16)\n",
    "        elif 'cup' in row.standard_unit.strip():\n",
    "            req_gm = (row.standard_weight_gm/225)*row.Volume_in_ml\n",
    "            req_oz.append(req_gm/28.35)\n",
    "        elif 'tbsp' in row.standard_unit.strip() or 'tablespoon' in row.standard_unit.strip():\n",
    "            req_gm = (row.standard_weight_gm/15)*row.Volume_in_ml\n",
    "            req_oz.append(req_gm/28.35)\n",
    "        elif 'tsp' in row.standard_unit.strip() or 'teaspoon' in row.standard_unit.strip():\n",
    "            req_gm = (row.standard_weight_gm/5)*row.Volume_in_ml\n",
    "            req_oz.append(req_gm/28.35)\n",
    "        else: req_oz.append(0)\n",
    "\n",
    "    combined_ingredient_df['req_oz']=req_oz\n",
    "    combined_ingredient_df['req_oz']=np.round(combined_ingredient_df['req_oz'], 3)\n",
    "    return combined_ingredient_df\n",
    "\n",
    "def recommended_qty(join_df):\n",
    "    recommended_qty=[]\n",
    "    for index, row in join_df.iterrows():\n",
    "        if row.req_oz > 0 :\n",
    "            if row.package_weight_unit_of_measure.strip().lower() =='pound':\n",
    "                pack_oz = row.package_weight * 16\n",
    "                rec = row.req_oz/pack_oz\n",
    "                recommended_qty.append(np.ceil(rec))\n",
    "            elif row.package_weight_unit_of_measure.strip().lower() =='ounce':\n",
    "                rec = row.req_oz/row.package_weight\n",
    "                recommended_qty.append(np.ceil(rec))\n",
    "        else :\n",
    "            if row.normalized_unit == '':\n",
    "                if row.net_content_quantity_unit_of_measure.strip().lower() =='dozen':\n",
    "                    rec = row.quantity/12\n",
    "                    recommended_qty.append(np.ceil(rec))\n",
    "                if row.net_content_quantity_unit_of_measure.strip().lower() =='count':\n",
    "                    rec = row.quantity\n",
    "                    recommended_qty.append(np.ceil(rec))\n",
    "\n",
    "            else:    \n",
    "\n",
    "                recommended_qty.append(0)\n",
    "\n",
    "    join_df['recommended_qty'] = recommended_qty\n",
    "    return join_df"
   ]
  },
  {
   "cell_type": "code",
   "execution_count": null,
   "id": "6bfb406e",
   "metadata": {
    "ExecuteTime": {
     "start_time": "2021-12-06T20:53:19.989Z"
    }
   },
   "outputs": [],
   "source": [
    "# Set input file directory\n",
    "ip_file_dir = \"../Data/Target Data/\"\n",
    "\n",
    "# Get grocery product hierarchy information\n",
    "group10 = pd.read_csv(os.path.join(ip_file_dir, \n",
    "                                   'group10_header.csv'),\n",
    "                      sep='\\t', \n",
    "                      low_memory=False)\n",
    "\n",
    "# Get scraped information for the above products\n",
    "products = pd.read_csv(os.path.join(ip_file_dir,\n",
    "                                    'scraped/products.csv'))\n",
    "\n",
    "# Merge scraped information into the hierarchy table\n",
    "group10 = pd.merge(group10, products, \n",
    "                   how = 'left', on = 'tcin')\n",
    "\n",
    "# Preprocess the table\n",
    "group10 = preprocess_df(group10)\n",
    "\n",
    "lm = SentenceTransformer('all-MiniLM-L6-v2')\n",
    "\n",
    "# Get list of preprocessed product titles\n",
    "product_titles = group10['title_modified'].values\n",
    "\n",
    "tr = TransformerRanker(model=lm, product_ids=group10['tcin'], max_rank=3)\n",
    "product_title_embeddings = joblib.load('data/lm_embeddings')\n",
    "tr.load_embeddings(product_title_embeddings)\n",
    "\n",
    "pm = Mapper(group10)\n",
    "dp = DisplayProducts(ranker=tr, mapper=pm)"
   ]
  },
  {
   "cell_type": "code",
   "execution_count": null,
   "id": "cb37a388",
   "metadata": {
    "ExecuteTime": {
     "start_time": "2021-12-06T20:53:20.485Z"
    }
   },
   "outputs": [],
   "source": [
    "i = random.randint(0, 1000000)\n",
    "print(i)\n",
    "dict_ingredients= recipe_load_index(i)\n",
    "df_combined_ing = pd.DataFrame.from_dict(dict_ingredients)\n",
    "df_combined_ing['quantity'] = df_combined_ing['quantity'].apply(convert_fraction)\n",
    "df_combined_ing['quantity'] = df_combined_ing['quantity'].apply(float)\n",
    "combined_ingredient_df=normalize_units(df_combined_ing)\n",
    "# required for multiple recipes - combining qty\n",
    "recipe = df_combined_ing.groupby(by=['ingredient', 'normalized_unit'], \n",
    "                                               as_index = False)\\\n",
    "                                      .agg({'quantity': 'sum', 'Volume_in_ml': 'sum'})\n",
    "recipe"
   ]
  },
  {
   "cell_type": "code",
   "execution_count": null,
   "id": "ab243133",
   "metadata": {
    "ExecuteTime": {
     "start_time": "2021-12-06T20:53:21.463Z"
    },
    "scrolled": false
   },
   "outputs": [],
   "source": [
    "dp.display_products_recipe(recipe['ingredient'])"
   ]
  },
  {
   "cell_type": "code",
   "execution_count": null,
   "id": "082533f0",
   "metadata": {},
   "outputs": [],
   "source": []
  }
 ],
 "metadata": {
  "kernelspec": {
   "display_name": "Python 3 (ipykernel)",
   "language": "python",
   "name": "python3"
  },
  "language_info": {
   "codemirror_mode": {
    "name": "ipython",
    "version": 3
   },
   "file_extension": ".py",
   "mimetype": "text/x-python",
   "name": "python",
   "nbconvert_exporter": "python",
   "pygments_lexer": "ipython3",
   "version": "3.8.8"
  }
 },
 "nbformat": 4,
 "nbformat_minor": 5
}
