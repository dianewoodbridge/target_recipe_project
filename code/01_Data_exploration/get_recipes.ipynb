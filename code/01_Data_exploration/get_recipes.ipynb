{
 "cells": [
  {
   "cell_type": "code",
   "execution_count": 1,
   "id": "4ae962b5",
   "metadata": {},
   "outputs": [],
   "source": [
    "#%pip install requests"
   ]
  },
  {
   "cell_type": "code",
   "execution_count": 2,
   "id": "804ec8f5",
   "metadata": {},
   "outputs": [],
   "source": [
    "#%conda install autopep8"
   ]
  },
  {
   "cell_type": "markdown",
   "id": "a8491f6c",
   "metadata": {},
   "source": [
    "### API Reference : https://rapidapi.com/apidojo/api/tasty/"
   ]
  },
  {
   "cell_type": "code",
   "execution_count": 3,
   "id": "5cd43886",
   "metadata": {},
   "outputs": [],
   "source": [
    "import requests\n",
    "import json"
   ]
  },
  {
   "cell_type": "code",
   "execution_count": 25,
   "id": "971a1af3",
   "metadata": {},
   "outputs": [],
   "source": [
    "headers = {\n",
    "    'x-rapidapi-key': \"70fcf77facmshaf5555f7be26d0cp11fe0ejsn74b399108a64\",\n",
    "    'x-rapidapi-host': \"tasty.p.rapidapi.com\"\n",
    "    }\n",
    "\n",
    "offset = 0\n",
    "size = 5\n",
    "q = \"sugar\" # Name of food or, ingredients to search by"
   ]
  },
  {
   "cell_type": "code",
   "execution_count": 26,
   "id": "41b681d2",
   "metadata": {},
   "outputs": [],
   "source": [
    "ingredient_list = {'shopping_list': []}"
   ]
  },
  {
   "cell_type": "markdown",
   "id": "4ea45d0e",
   "metadata": {},
   "source": [
    "### Search using \"tags\""
   ]
  },
  {
   "cell_type": "code",
   "execution_count": 27,
   "id": "2b2a3d3a",
   "metadata": {},
   "outputs": [],
   "source": [
    "url = \"https://tasty.p.rapidapi.com/recipes/list\"\n",
    "querystring = {\"from\": f\"{str(offset)}\",\"size\":f\"{str(size)}\",\"q\":f\"{q}\"}\n",
    "response = requests.request(\"GET\", url, headers=headers, params=querystring)"
   ]
  },
  {
   "cell_type": "code",
   "execution_count": 28,
   "id": "b0f9637c",
   "metadata": {},
   "outputs": [],
   "source": [
    "response_json = response.json().items()"
   ]
  },
  {
   "cell_type": "code",
   "execution_count": 29,
   "id": "dfaec85e",
   "metadata": {},
   "outputs": [
    {
     "name": "stdout",
     "output_type": "stream",
     "text": [
      "7700\n",
      "7699\n",
      "7695\n",
      "7710\n",
      "7709\n"
     ]
    }
   ],
   "source": [
    "id = []\n",
    "for recipe in list(response_json)[1][1]:\n",
    "    print(recipe.get('id'))\n",
    "    id.append(recipe.get('id'))"
   ]
  },
  {
   "cell_type": "markdown",
   "id": "c0245cc3",
   "metadata": {},
   "source": [
    "### Convert unicode (utf-8) fraction to float"
   ]
  },
  {
   "cell_type": "code",
   "execution_count": 30,
   "id": "2ffda7d2",
   "metadata": {},
   "outputs": [],
   "source": [
    "import re\n",
    "\n",
    "def convert_utf_fraction(utf): \n",
    "    fractions = {\n",
    "        0x2189: 0.0,  # ; ; 0 # No       VULGAR FRACTION ZERO THIRDS\n",
    "        0x2152: 0.1,  # ; ; 1/10 # No       VULGAR FRACTION ONE TENTH\n",
    "        0x2151: 0.11111111,  # ; ; 1/9 # No       VULGAR FRACTION ONE NINTH\n",
    "        0x215B: 0.125,  # ; ; 1/8 # No       VULGAR FRACTION ONE EIGHTH\n",
    "        0x2150: 0.14285714,  # ; ; 1/7 # No       VULGAR FRACTION ONE SEVENTH\n",
    "        0x2159: 0.16666667,  # ; ; 1/6 # No       VULGAR FRACTION ONE SIXTH\n",
    "        0x2155: 0.2,  # ; ; 1/5 # No       VULGAR FRACTION ONE FIFTH\n",
    "        0x00BC: 0.25,  # ; ; 1/4 # No       VULGAR FRACTION ONE QUARTER\n",
    "        0x2153: 0.33333333,  # ; ; 1/3 # No       VULGAR FRACTION ONE THIRD\n",
    "        0x215C: 0.375,  # ; ; 3/8 # No       VULGAR FRACTION THREE EIGHTHS\n",
    "        0x2156: 0.4,  # ; ; 2/5 # No       VULGAR FRACTION TWO FIFTHS\n",
    "        0x00BD: 0.5,  # ; ; 1/2 # No       VULGAR FRACTION ONE HALF\n",
    "        0x2157: 0.6,  # ; ; 3/5 # No       VULGAR FRACTION THREE FIFTHS\n",
    "        0x215D: 0.625,  # ; ; 5/8 # No       VULGAR FRACTION FIVE EIGHTHS\n",
    "        0x2154: 0.66666667,  # ; ; 2/3 # No       VULGAR FRACTION TWO THIRDS\n",
    "        0x00BE: 0.75,  # ; ; 3/4 # No       VULGAR FRACTION THREE QUARTERS\n",
    "        0x2158: 0.8,  # ; ; 4/5 # No       VULGAR FRACTION FOUR FIFTHS\n",
    "        0x215A: 0.83333333,  # ; ; 5/6 # No       VULGAR FRACTION FIVE SIXTHS\n",
    "        0x215E: 0.875,  # ; ; 7/8 # No       VULGAR FRACTION SEVEN EIGHTHS\n",
    "    }\n",
    "    \n",
    "    pattern = r'(?u)([+-])?(\\d*)(\\s*)(%s)' % '|'.join(map(chr, fractions))\n",
    "\n",
    "    for sign, d, space, f in re.findall(pattern, utf):\n",
    "        sign = -1 if sign == '-' else 1\n",
    "        d = int(d) if d else 0\n",
    "        number = sign * (d + fractions[ord(f)])\n",
    "        return number\n",
    "\n",
    "    return utf"
   ]
  },
  {
   "cell_type": "code",
   "execution_count": 31,
   "id": "c8f79589",
   "metadata": {},
   "outputs": [
    {
     "data": {
      "text/plain": [
       "0.33333333"
      ]
     },
     "execution_count": 31,
     "metadata": {},
     "output_type": "execute_result"
    }
   ],
   "source": [
    "convert_utf_fraction('⅓')"
   ]
  },
  {
   "cell_type": "markdown",
   "id": "73a5295e",
   "metadata": {},
   "source": [
    "### Choose the first returned recipe and return its ingredient/quantity"
   ]
  },
  {
   "cell_type": "code",
   "execution_count": 32,
   "id": "d8cca46d",
   "metadata": {},
   "outputs": [],
   "source": [
    "# retrieve the first recipe for now.\n",
    "id_querystring = {\"id\":id[0]}\n",
    "url = \"https://tasty.p.rapidapi.com/recipes/detail\"\n",
    "\n",
    "response = requests.request(\"GET\", url, headers=headers, params=id_querystring)"
   ]
  },
  {
   "cell_type": "code",
   "execution_count": 33,
   "id": "052b1a5c",
   "metadata": {},
   "outputs": [],
   "source": [
    "recipe = response.json()"
   ]
  },
  {
   "cell_type": "code",
   "execution_count": 34,
   "id": "b98592ef",
   "metadata": {
    "scrolled": false
   },
   "outputs": [
    {
     "data": {
      "text/plain": [
       "'Chewy Chocolate Chip Toffee Cookies'"
      ]
     },
     "execution_count": 34,
     "metadata": {},
     "output_type": "execute_result"
    }
   ],
   "source": [
    "recipe.get('name')"
   ]
  },
  {
   "cell_type": "code",
   "execution_count": 35,
   "id": "fdd99414",
   "metadata": {
    "scrolled": false
   },
   "outputs": [],
   "source": [
    "for ingredient in recipe.get('sections')[0].get('components'):\n",
    "    name = ingredient.get('ingredient').get('name').strip()\n",
    "    quantity = ingredient.get('measurements')[0].get('quantity').strip()\n",
    "    \n",
    "    if(ingredient.get('measurements')[0].get('unit').get('name') != ''):\n",
    "        unit = ingredient.get('measurements')[0].get('unit').get('name').strip()\n",
    "    else:\n",
    "        unit = ''\n",
    "    \n",
    "    ingredient_json = json.loads(\n",
    "                        json.dumps({'ingredient': name, \n",
    "                                    'quantity': (quantity), \n",
    "                                    'unit':unit}, \n",
    "                                   ensure_ascii=False))\n",
    "    \n",
    "    ingredient_list[\"shopping_list\"].append(ingredient_json)"
   ]
  },
  {
   "cell_type": "code",
   "execution_count": 36,
   "id": "75859cd6",
   "metadata": {},
   "outputs": [
    {
     "data": {
      "text/plain": [
       "{'shopping_list': [{'ingredient': 'flour', 'quantity': '2 ½', 'unit': 'cup'},\n",
       "  {'ingredient': 'sugar', 'quantity': '¾', 'unit': 'cup'},\n",
       "  {'ingredient': 'kosher salt', 'quantity': '1', 'unit': 'teaspoon'},\n",
       "  {'ingredient': 'baking powder', 'quantity': '2', 'unit': 'teaspoon'},\n",
       "  {'ingredient': 'light brown sugar', 'quantity': '1 ½', 'unit': 'cup'},\n",
       "  {'ingredient': 'unsalted butter', 'quantity': '14', 'unit': 'tablespoon'},\n",
       "  {'ingredient': 'vanilla extract', 'quantity': '1 ½', 'unit': 'teaspoon'},\n",
       "  {'ingredient': 'egg', 'quantity': '3', 'unit': ''},\n",
       "  {'ingredient': 'milk', 'quantity': '1 ¾', 'unit': 'cup'},\n",
       "  {'ingredient': 'toffee bits', 'quantity': '½', 'unit': 'cup'}]}"
      ]
     },
     "execution_count": 36,
     "metadata": {},
     "output_type": "execute_result"
    }
   ],
   "source": [
    "ingredient_list "
   ]
  },
  {
   "cell_type": "markdown",
   "id": "48226d73",
   "metadata": {},
   "source": [
    "#### Second Recipe"
   ]
  },
  {
   "cell_type": "code",
   "execution_count": 37,
   "id": "e8663d02",
   "metadata": {},
   "outputs": [
    {
     "data": {
      "text/plain": [
       "'Vegan Thai Basil Stir Fry (Vegan Pad Kra Pao)'"
      ]
     },
     "execution_count": 37,
     "metadata": {},
     "output_type": "execute_result"
    }
   ],
   "source": [
    "# retrieve the first recipe for now.\n",
    "id_querystring = {\"id\":id[2]}\n",
    "url = \"https://tasty.p.rapidapi.com/recipes/detail\"\n",
    "\n",
    "response = requests.request(\"GET\", url, headers=headers, params=id_querystring)\n",
    "recipe = response.json()\n",
    "recipe.get('name')"
   ]
  },
  {
   "cell_type": "code",
   "execution_count": 38,
   "id": "6f3cb9e7",
   "metadata": {},
   "outputs": [],
   "source": [
    "for ingredient in recipe.get('sections')[0].get('components'):\n",
    "    name = ingredient.get('ingredient').get('name').strip()\n",
    "    quantity = ingredient.get('measurements')[0].get('quantity').strip()\n",
    "    if(ingredient.get('measurements')[0].get('unit').get('name') != ''):\n",
    "        unit = ingredient.get('measurements')[0].get('unit').get('name').strip()\n",
    "    else:\n",
    "        unit = ''\n",
    "    \n",
    "    ingredient_json = json.loads(\n",
    "                        json.dumps({'ingredient': name, \n",
    "                                    'quantity': quantity, \n",
    "                                    'unit':unit}, \n",
    "                                   ensure_ascii=False))\n",
    "    \n",
    "    ingredient_list[\"shopping_list\"].append(ingredient_json)"
   ]
  },
  {
   "cell_type": "code",
   "execution_count": 39,
   "id": "76214d9e",
   "metadata": {},
   "outputs": [
    {
     "data": {
      "text/plain": [
       "{'shopping_list': [{'ingredient': 'flour', 'quantity': '2 ½', 'unit': 'cup'},\n",
       "  {'ingredient': 'sugar', 'quantity': '¾', 'unit': 'cup'},\n",
       "  {'ingredient': 'kosher salt', 'quantity': '1', 'unit': 'teaspoon'},\n",
       "  {'ingredient': 'baking powder', 'quantity': '2', 'unit': 'teaspoon'},\n",
       "  {'ingredient': 'light brown sugar', 'quantity': '1 ½', 'unit': 'cup'},\n",
       "  {'ingredient': 'unsalted butter', 'quantity': '14', 'unit': 'tablespoon'},\n",
       "  {'ingredient': 'vanilla extract', 'quantity': '1 ½', 'unit': 'teaspoon'},\n",
       "  {'ingredient': 'egg', 'quantity': '3', 'unit': ''},\n",
       "  {'ingredient': 'milk', 'quantity': '1 ¾', 'unit': 'cup'},\n",
       "  {'ingredient': 'toffee bits', 'quantity': '½', 'unit': 'cup'},\n",
       "  {'ingredient': 'firm tofu', 'quantity': '½', 'unit': 'pound'},\n",
       "  {'ingredient': 'brown onion', 'quantity': '½', 'unit': 'cup'},\n",
       "  {'ingredient': 'pearl oyster mushrooms', 'quantity': '½', 'unit': 'pound'},\n",
       "  {'ingredient': 'red chili', 'quantity': '0', 'unit': ''},\n",
       "  {'ingredient': 'ginger', 'quantity': '5', 'unit': 'teaspoon'},\n",
       "  {'ingredient': 'tomato', 'quantity': '2', 'unit': ''},\n",
       "  {'ingredient': 'water', 'quantity': '1', 'unit': 'cup'},\n",
       "  {'ingredient': 'fresh thai basil', 'quantity': '1', 'unit': 'bunch'},\n",
       "  {'ingredient': 'lime', 'quantity': '½', 'unit': ''}]}"
      ]
     },
     "execution_count": 39,
     "metadata": {},
     "output_type": "execute_result"
    }
   ],
   "source": [
    "ingredient_list "
   ]
  },
  {
   "cell_type": "markdown",
   "id": "6e6c4bbc",
   "metadata": {},
   "source": [
    "# Things to do :\n",
    "\n",
    "1) ingredient name generalization - medium carrot, baby carrot, carrot, large carrot \n",
    "\n",
    "==> Target search is pretty good at matching with different names (Ex. medium yellow onion => Yellow Onion) Perhaps using already optimized search would be better than reinventing the wheel.\n",
    "Proposal : NER using Target Search and then combine.\n",
    "Problems : Egg, Large Egg Yolk, Egg yolk -> 3 different recommendation from Target\n",
    "\n",
    " \n",
    "2) convert unit - cup, can, gram, etc.\n",
    "\n",
    "3) combine the entire shopping list from selected recipe. ==> Done\n",
    "\n",
    "4) check the stock with local target \n",
    "\n",
    "5) Extra : utensils/kitchen appliances, napkin, kitchen towels."
   ]
  },
  {
   "cell_type": "markdown",
   "id": "075e2be8",
   "metadata": {},
   "source": [
    "## "
   ]
  },
  {
   "cell_type": "markdown",
   "id": "858240d6",
   "metadata": {},
   "source": [
    "### Combine the entire Shopping List (3)"
   ]
  },
  {
   "cell_type": "code",
   "execution_count": 40,
   "id": "bcb6e3dc",
   "metadata": {},
   "outputs": [],
   "source": [
    "import pandas as pd "
   ]
  },
  {
   "cell_type": "code",
   "execution_count": 41,
   "id": "e630fd68",
   "metadata": {},
   "outputs": [],
   "source": [
    "ingredient_df = df = pd.json_normalize(ingredient_list['shopping_list'])"
   ]
  },
  {
   "cell_type": "code",
   "execution_count": 42,
   "id": "d68ed730",
   "metadata": {},
   "outputs": [
    {
     "data": {
      "text/html": [
       "<div>\n",
       "<style scoped>\n",
       "    .dataframe tbody tr th:only-of-type {\n",
       "        vertical-align: middle;\n",
       "    }\n",
       "\n",
       "    .dataframe tbody tr th {\n",
       "        vertical-align: top;\n",
       "    }\n",
       "\n",
       "    .dataframe thead th {\n",
       "        text-align: right;\n",
       "    }\n",
       "</style>\n",
       "<table border=\"1\" class=\"dataframe\">\n",
       "  <thead>\n",
       "    <tr style=\"text-align: right;\">\n",
       "      <th></th>\n",
       "      <th>ingredient</th>\n",
       "      <th>quantity</th>\n",
       "      <th>unit</th>\n",
       "    </tr>\n",
       "  </thead>\n",
       "  <tbody>\n",
       "    <tr>\n",
       "      <th>0</th>\n",
       "      <td>flour</td>\n",
       "      <td>2 ½</td>\n",
       "      <td>cup</td>\n",
       "    </tr>\n",
       "    <tr>\n",
       "      <th>1</th>\n",
       "      <td>sugar</td>\n",
       "      <td>¾</td>\n",
       "      <td>cup</td>\n",
       "    </tr>\n",
       "    <tr>\n",
       "      <th>2</th>\n",
       "      <td>kosher salt</td>\n",
       "      <td>1</td>\n",
       "      <td>teaspoon</td>\n",
       "    </tr>\n",
       "    <tr>\n",
       "      <th>3</th>\n",
       "      <td>baking powder</td>\n",
       "      <td>2</td>\n",
       "      <td>teaspoon</td>\n",
       "    </tr>\n",
       "    <tr>\n",
       "      <th>4</th>\n",
       "      <td>light brown sugar</td>\n",
       "      <td>1 ½</td>\n",
       "      <td>cup</td>\n",
       "    </tr>\n",
       "    <tr>\n",
       "      <th>5</th>\n",
       "      <td>unsalted butter</td>\n",
       "      <td>14</td>\n",
       "      <td>tablespoon</td>\n",
       "    </tr>\n",
       "    <tr>\n",
       "      <th>6</th>\n",
       "      <td>vanilla extract</td>\n",
       "      <td>1 ½</td>\n",
       "      <td>teaspoon</td>\n",
       "    </tr>\n",
       "    <tr>\n",
       "      <th>7</th>\n",
       "      <td>egg</td>\n",
       "      <td>3</td>\n",
       "      <td></td>\n",
       "    </tr>\n",
       "    <tr>\n",
       "      <th>8</th>\n",
       "      <td>milk</td>\n",
       "      <td>1 ¾</td>\n",
       "      <td>cup</td>\n",
       "    </tr>\n",
       "    <tr>\n",
       "      <th>9</th>\n",
       "      <td>toffee bits</td>\n",
       "      <td>½</td>\n",
       "      <td>cup</td>\n",
       "    </tr>\n",
       "    <tr>\n",
       "      <th>10</th>\n",
       "      <td>firm tofu</td>\n",
       "      <td>½</td>\n",
       "      <td>pound</td>\n",
       "    </tr>\n",
       "    <tr>\n",
       "      <th>11</th>\n",
       "      <td>brown onion</td>\n",
       "      <td>½</td>\n",
       "      <td>cup</td>\n",
       "    </tr>\n",
       "    <tr>\n",
       "      <th>12</th>\n",
       "      <td>pearl oyster mushrooms</td>\n",
       "      <td>½</td>\n",
       "      <td>pound</td>\n",
       "    </tr>\n",
       "    <tr>\n",
       "      <th>13</th>\n",
       "      <td>red chili</td>\n",
       "      <td>0</td>\n",
       "      <td></td>\n",
       "    </tr>\n",
       "    <tr>\n",
       "      <th>14</th>\n",
       "      <td>ginger</td>\n",
       "      <td>5</td>\n",
       "      <td>teaspoon</td>\n",
       "    </tr>\n",
       "    <tr>\n",
       "      <th>15</th>\n",
       "      <td>tomato</td>\n",
       "      <td>2</td>\n",
       "      <td></td>\n",
       "    </tr>\n",
       "    <tr>\n",
       "      <th>16</th>\n",
       "      <td>water</td>\n",
       "      <td>1</td>\n",
       "      <td>cup</td>\n",
       "    </tr>\n",
       "    <tr>\n",
       "      <th>17</th>\n",
       "      <td>fresh thai basil</td>\n",
       "      <td>1</td>\n",
       "      <td>bunch</td>\n",
       "    </tr>\n",
       "    <tr>\n",
       "      <th>18</th>\n",
       "      <td>lime</td>\n",
       "      <td>½</td>\n",
       "      <td></td>\n",
       "    </tr>\n",
       "  </tbody>\n",
       "</table>\n",
       "</div>"
      ],
      "text/plain": [
       "                ingredient quantity        unit\n",
       "0                    flour      2 ½         cup\n",
       "1                    sugar        ¾         cup\n",
       "2              kosher salt        1    teaspoon\n",
       "3            baking powder        2    teaspoon\n",
       "4        light brown sugar      1 ½         cup\n",
       "5          unsalted butter       14  tablespoon\n",
       "6          vanilla extract      1 ½    teaspoon\n",
       "7                      egg        3            \n",
       "8                     milk      1 ¾         cup\n",
       "9              toffee bits        ½         cup\n",
       "10               firm tofu        ½       pound\n",
       "11             brown onion        ½         cup\n",
       "12  pearl oyster mushrooms        ½       pound\n",
       "13               red chili        0            \n",
       "14                  ginger        5    teaspoon\n",
       "15                  tomato        2            \n",
       "16                   water        1         cup\n",
       "17        fresh thai basil        1       bunch\n",
       "18                    lime        ½            "
      ]
     },
     "execution_count": 42,
     "metadata": {},
     "output_type": "execute_result"
    }
   ],
   "source": [
    "ingredient_df"
   ]
  },
  {
   "cell_type": "code",
   "execution_count": 43,
   "id": "489b0b39",
   "metadata": {},
   "outputs": [
    {
     "data": {
      "text/plain": [
       "ingredient    object\n",
       "quantity      object\n",
       "unit          object\n",
       "dtype: object"
      ]
     },
     "execution_count": 43,
     "metadata": {},
     "output_type": "execute_result"
    }
   ],
   "source": [
    "ingredient_df.dtypes"
   ]
  },
  {
   "cell_type": "code",
   "execution_count": 44,
   "id": "33b01672",
   "metadata": {},
   "outputs": [],
   "source": [
    "ingredient_df['quantity'] = ingredient_df['quantity'].apply(convert_utf_fraction)"
   ]
  },
  {
   "cell_type": "code",
   "execution_count": 45,
   "id": "08739ccc",
   "metadata": {},
   "outputs": [],
   "source": [
    "combined_ingredient_df = ingredient_df.groupby(by=['ingredient', 'unit'], \n",
    "                                               as_index = False)\\\n",
    "                                      .agg({'quantity': 'sum'})"
   ]
  },
  {
   "cell_type": "code",
   "execution_count": 46,
   "id": "f8d80fe6",
   "metadata": {},
   "outputs": [
    {
     "data": {
      "text/html": [
       "<div>\n",
       "<style scoped>\n",
       "    .dataframe tbody tr th:only-of-type {\n",
       "        vertical-align: middle;\n",
       "    }\n",
       "\n",
       "    .dataframe tbody tr th {\n",
       "        vertical-align: top;\n",
       "    }\n",
       "\n",
       "    .dataframe thead th {\n",
       "        text-align: right;\n",
       "    }\n",
       "</style>\n",
       "<table border=\"1\" class=\"dataframe\">\n",
       "  <thead>\n",
       "    <tr style=\"text-align: right;\">\n",
       "      <th></th>\n",
       "      <th>ingredient</th>\n",
       "      <th>unit</th>\n",
       "      <th>quantity</th>\n",
       "    </tr>\n",
       "  </thead>\n",
       "  <tbody>\n",
       "    <tr>\n",
       "      <th>0</th>\n",
       "      <td>baking powder</td>\n",
       "      <td>teaspoon</td>\n",
       "      <td>2</td>\n",
       "    </tr>\n",
       "    <tr>\n",
       "      <th>1</th>\n",
       "      <td>brown onion</td>\n",
       "      <td>cup</td>\n",
       "      <td>0.5</td>\n",
       "    </tr>\n",
       "    <tr>\n",
       "      <th>2</th>\n",
       "      <td>egg</td>\n",
       "      <td></td>\n",
       "      <td>3</td>\n",
       "    </tr>\n",
       "    <tr>\n",
       "      <th>3</th>\n",
       "      <td>firm tofu</td>\n",
       "      <td>pound</td>\n",
       "      <td>0.5</td>\n",
       "    </tr>\n",
       "    <tr>\n",
       "      <th>4</th>\n",
       "      <td>flour</td>\n",
       "      <td>cup</td>\n",
       "      <td>2.5</td>\n",
       "    </tr>\n",
       "    <tr>\n",
       "      <th>5</th>\n",
       "      <td>fresh thai basil</td>\n",
       "      <td>bunch</td>\n",
       "      <td>1</td>\n",
       "    </tr>\n",
       "    <tr>\n",
       "      <th>6</th>\n",
       "      <td>ginger</td>\n",
       "      <td>teaspoon</td>\n",
       "      <td>5</td>\n",
       "    </tr>\n",
       "    <tr>\n",
       "      <th>7</th>\n",
       "      <td>kosher salt</td>\n",
       "      <td>teaspoon</td>\n",
       "      <td>1</td>\n",
       "    </tr>\n",
       "    <tr>\n",
       "      <th>8</th>\n",
       "      <td>light brown sugar</td>\n",
       "      <td>cup</td>\n",
       "      <td>1.5</td>\n",
       "    </tr>\n",
       "    <tr>\n",
       "      <th>9</th>\n",
       "      <td>lime</td>\n",
       "      <td></td>\n",
       "      <td>0.5</td>\n",
       "    </tr>\n",
       "    <tr>\n",
       "      <th>10</th>\n",
       "      <td>milk</td>\n",
       "      <td>cup</td>\n",
       "      <td>1.75</td>\n",
       "    </tr>\n",
       "    <tr>\n",
       "      <th>11</th>\n",
       "      <td>pearl oyster mushrooms</td>\n",
       "      <td>pound</td>\n",
       "      <td>0.5</td>\n",
       "    </tr>\n",
       "    <tr>\n",
       "      <th>12</th>\n",
       "      <td>red chili</td>\n",
       "      <td></td>\n",
       "      <td>0</td>\n",
       "    </tr>\n",
       "    <tr>\n",
       "      <th>13</th>\n",
       "      <td>sugar</td>\n",
       "      <td>cup</td>\n",
       "      <td>0.75</td>\n",
       "    </tr>\n",
       "    <tr>\n",
       "      <th>14</th>\n",
       "      <td>toffee bits</td>\n",
       "      <td>cup</td>\n",
       "      <td>0.5</td>\n",
       "    </tr>\n",
       "    <tr>\n",
       "      <th>15</th>\n",
       "      <td>tomato</td>\n",
       "      <td></td>\n",
       "      <td>2</td>\n",
       "    </tr>\n",
       "    <tr>\n",
       "      <th>16</th>\n",
       "      <td>unsalted butter</td>\n",
       "      <td>tablespoon</td>\n",
       "      <td>14</td>\n",
       "    </tr>\n",
       "    <tr>\n",
       "      <th>17</th>\n",
       "      <td>vanilla extract</td>\n",
       "      <td>teaspoon</td>\n",
       "      <td>1.5</td>\n",
       "    </tr>\n",
       "    <tr>\n",
       "      <th>18</th>\n",
       "      <td>water</td>\n",
       "      <td>cup</td>\n",
       "      <td>1</td>\n",
       "    </tr>\n",
       "  </tbody>\n",
       "</table>\n",
       "</div>"
      ],
      "text/plain": [
       "                ingredient        unit quantity\n",
       "0            baking powder    teaspoon        2\n",
       "1              brown onion         cup      0.5\n",
       "2                      egg                    3\n",
       "3                firm tofu       pound      0.5\n",
       "4                    flour         cup      2.5\n",
       "5         fresh thai basil       bunch        1\n",
       "6                   ginger    teaspoon        5\n",
       "7              kosher salt    teaspoon        1\n",
       "8        light brown sugar         cup      1.5\n",
       "9                     lime                  0.5\n",
       "10                    milk         cup     1.75\n",
       "11  pearl oyster mushrooms       pound      0.5\n",
       "12               red chili                    0\n",
       "13                   sugar         cup     0.75\n",
       "14             toffee bits         cup      0.5\n",
       "15                  tomato                    2\n",
       "16         unsalted butter  tablespoon       14\n",
       "17         vanilla extract    teaspoon      1.5\n",
       "18                   water         cup        1"
      ]
     },
     "execution_count": 46,
     "metadata": {},
     "output_type": "execute_result"
    }
   ],
   "source": [
    "combined_ingredient_df"
   ]
  },
  {
   "cell_type": "markdown",
   "id": "c063335e",
   "metadata": {},
   "source": [
    "### Convert volume to weight\n",
    "\n",
    "### See retrieve_ingredient_density.ipynb"
   ]
  },
  {
   "cell_type": "code",
   "execution_count": 47,
   "id": "8f54a81d",
   "metadata": {},
   "outputs": [],
   "source": [
    "unit_abbreviation = { 'tbsp' : [\"tablespoon\"],\n",
    "                      'tsp' : ['teaspoon']\n",
    "    \n",
    "}"
   ]
  },
  {
   "cell_type": "code",
   "execution_count": 50,
   "id": "b678a9d3",
   "metadata": {},
   "outputs": [],
   "source": [
    "normalized_units = list()\n",
    "for ingredient in combined_ingredient_df.iterrows():\n",
    "    unit = ingredient[1][1]\n",
    "    normalized_unit = ''\n",
    "    for key, val in unit_abbreviation.items():\n",
    "        if unit in val:\n",
    "            normalized_unit = key\n",
    "            #normalized_units.append(normalized_unit)\n",
    "            \n",
    "    if normalized_unit == '':\n",
    "        normalized_unit = unit\n",
    "    normalized_units.append(normalized_unit)\n",
    "   \n",
    "combined_ingredient_df['normalized_unit'] = normalized_units"
   ]
  },
  {
   "cell_type": "code",
   "execution_count": 51,
   "id": "9b52ec3c",
   "metadata": {},
   "outputs": [
    {
     "data": {
      "text/html": [
       "<div>\n",
       "<style scoped>\n",
       "    .dataframe tbody tr th:only-of-type {\n",
       "        vertical-align: middle;\n",
       "    }\n",
       "\n",
       "    .dataframe tbody tr th {\n",
       "        vertical-align: top;\n",
       "    }\n",
       "\n",
       "    .dataframe thead th {\n",
       "        text-align: right;\n",
       "    }\n",
       "</style>\n",
       "<table border=\"1\" class=\"dataframe\">\n",
       "  <thead>\n",
       "    <tr style=\"text-align: right;\">\n",
       "      <th></th>\n",
       "      <th>ingredient</th>\n",
       "      <th>unit</th>\n",
       "      <th>quantity</th>\n",
       "      <th>normalized_unit</th>\n",
       "    </tr>\n",
       "  </thead>\n",
       "  <tbody>\n",
       "    <tr>\n",
       "      <th>0</th>\n",
       "      <td>baking powder</td>\n",
       "      <td>teaspoon</td>\n",
       "      <td>2</td>\n",
       "      <td>tsp</td>\n",
       "    </tr>\n",
       "    <tr>\n",
       "      <th>1</th>\n",
       "      <td>brown onion</td>\n",
       "      <td>cup</td>\n",
       "      <td>0.5</td>\n",
       "      <td>cup</td>\n",
       "    </tr>\n",
       "    <tr>\n",
       "      <th>2</th>\n",
       "      <td>egg</td>\n",
       "      <td></td>\n",
       "      <td>3</td>\n",
       "      <td></td>\n",
       "    </tr>\n",
       "    <tr>\n",
       "      <th>3</th>\n",
       "      <td>firm tofu</td>\n",
       "      <td>pound</td>\n",
       "      <td>0.5</td>\n",
       "      <td>pound</td>\n",
       "    </tr>\n",
       "    <tr>\n",
       "      <th>4</th>\n",
       "      <td>flour</td>\n",
       "      <td>cup</td>\n",
       "      <td>2.5</td>\n",
       "      <td>cup</td>\n",
       "    </tr>\n",
       "    <tr>\n",
       "      <th>5</th>\n",
       "      <td>fresh thai basil</td>\n",
       "      <td>bunch</td>\n",
       "      <td>1</td>\n",
       "      <td>bunch</td>\n",
       "    </tr>\n",
       "    <tr>\n",
       "      <th>6</th>\n",
       "      <td>ginger</td>\n",
       "      <td>teaspoon</td>\n",
       "      <td>5</td>\n",
       "      <td>tsp</td>\n",
       "    </tr>\n",
       "    <tr>\n",
       "      <th>7</th>\n",
       "      <td>kosher salt</td>\n",
       "      <td>teaspoon</td>\n",
       "      <td>1</td>\n",
       "      <td>tsp</td>\n",
       "    </tr>\n",
       "    <tr>\n",
       "      <th>8</th>\n",
       "      <td>light brown sugar</td>\n",
       "      <td>cup</td>\n",
       "      <td>1.5</td>\n",
       "      <td>cup</td>\n",
       "    </tr>\n",
       "    <tr>\n",
       "      <th>9</th>\n",
       "      <td>lime</td>\n",
       "      <td></td>\n",
       "      <td>0.5</td>\n",
       "      <td></td>\n",
       "    </tr>\n",
       "    <tr>\n",
       "      <th>10</th>\n",
       "      <td>milk</td>\n",
       "      <td>cup</td>\n",
       "      <td>1.75</td>\n",
       "      <td>cup</td>\n",
       "    </tr>\n",
       "    <tr>\n",
       "      <th>11</th>\n",
       "      <td>pearl oyster mushrooms</td>\n",
       "      <td>pound</td>\n",
       "      <td>0.5</td>\n",
       "      <td>pound</td>\n",
       "    </tr>\n",
       "    <tr>\n",
       "      <th>12</th>\n",
       "      <td>red chili</td>\n",
       "      <td></td>\n",
       "      <td>0</td>\n",
       "      <td></td>\n",
       "    </tr>\n",
       "    <tr>\n",
       "      <th>13</th>\n",
       "      <td>sugar</td>\n",
       "      <td>cup</td>\n",
       "      <td>0.75</td>\n",
       "      <td>cup</td>\n",
       "    </tr>\n",
       "    <tr>\n",
       "      <th>14</th>\n",
       "      <td>toffee bits</td>\n",
       "      <td>cup</td>\n",
       "      <td>0.5</td>\n",
       "      <td>cup</td>\n",
       "    </tr>\n",
       "    <tr>\n",
       "      <th>15</th>\n",
       "      <td>tomato</td>\n",
       "      <td></td>\n",
       "      <td>2</td>\n",
       "      <td></td>\n",
       "    </tr>\n",
       "    <tr>\n",
       "      <th>16</th>\n",
       "      <td>unsalted butter</td>\n",
       "      <td>tablespoon</td>\n",
       "      <td>14</td>\n",
       "      <td>tbsp</td>\n",
       "    </tr>\n",
       "    <tr>\n",
       "      <th>17</th>\n",
       "      <td>vanilla extract</td>\n",
       "      <td>teaspoon</td>\n",
       "      <td>1.5</td>\n",
       "      <td>tsp</td>\n",
       "    </tr>\n",
       "    <tr>\n",
       "      <th>18</th>\n",
       "      <td>water</td>\n",
       "      <td>cup</td>\n",
       "      <td>1</td>\n",
       "      <td>cup</td>\n",
       "    </tr>\n",
       "  </tbody>\n",
       "</table>\n",
       "</div>"
      ],
      "text/plain": [
       "                ingredient        unit quantity normalized_unit\n",
       "0            baking powder    teaspoon        2             tsp\n",
       "1              brown onion         cup      0.5             cup\n",
       "2                      egg                    3                \n",
       "3                firm tofu       pound      0.5           pound\n",
       "4                    flour         cup      2.5             cup\n",
       "5         fresh thai basil       bunch        1           bunch\n",
       "6                   ginger    teaspoon        5             tsp\n",
       "7              kosher salt    teaspoon        1             tsp\n",
       "8        light brown sugar         cup      1.5             cup\n",
       "9                     lime                  0.5                \n",
       "10                    milk         cup     1.75             cup\n",
       "11  pearl oyster mushrooms       pound      0.5           pound\n",
       "12               red chili                    0                \n",
       "13                   sugar         cup     0.75             cup\n",
       "14             toffee bits         cup      0.5             cup\n",
       "15                  tomato                    2                \n",
       "16         unsalted butter  tablespoon       14            tbsp\n",
       "17         vanilla extract    teaspoon      1.5             tsp\n",
       "18                   water         cup        1             cup"
      ]
     },
     "execution_count": 51,
     "metadata": {},
     "output_type": "execute_result"
    }
   ],
   "source": [
    "combined_ingredient_df"
   ]
  },
  {
   "cell_type": "markdown",
   "id": "93dabdc5",
   "metadata": {},
   "source": [
    "### Named Entity Recognition(NER)\n",
    "\n",
    "### Proposal  : \n",
    "\n",
    "##### Ingredient name => See whether catalog has a exact match (ex. sweet onion) \n",
    "#### IF EXACT MATCH, use the ingredient name as it is\n",
    "#### IF NO EXACT MATCH,NER to extract NN/ NN pairs (ex. egg yolk => egg)\n",
    "\n",
    "\n",
    "\n",
    "###### adjectives for size/taste/color \n",
    "small carrot => no target entry =>  carrot\n",
    "\n",
    "medium onion => no target entry => onion \n",
    "\n",
    "red strawberry => no target entry => strawberry\n",
    "\n",
    "sweet onion => sweet onion\n",
    "\n",
    "egg yolk => no target entry => egg\n",
    "\n",
    "unsalted butter => unslated butter\n",
    "\n",
    "\n"
   ]
  },
  {
   "cell_type": "code",
   "execution_count": null,
   "id": "3b7a2e7f",
   "metadata": {},
   "outputs": [],
   "source": [
    "#%pip install NLTK"
   ]
  },
  {
   "cell_type": "code",
   "execution_count": null,
   "id": "7b7764f0",
   "metadata": {},
   "outputs": [],
   "source": [
    "import nltk\n",
    "from nltk.tokenize import word_tokenize\n",
    "from nltk.tag import pos_tag"
   ]
  },
  {
   "cell_type": "code",
   "execution_count": null,
   "id": "8758d2c3",
   "metadata": {},
   "outputs": [],
   "source": [
    " nltk.download()"
   ]
  },
  {
   "cell_type": "code",
   "execution_count": null,
   "id": "dd894f73",
   "metadata": {},
   "outputs": [],
   "source": [
    "item = 'unsalted butter'"
   ]
  },
  {
   "cell_type": "code",
   "execution_count": null,
   "id": "23b88276",
   "metadata": {},
   "outputs": [],
   "source": [
    "def preprocess(sent):\n",
    "    sent = nltk.word_tokenize(sent)\n",
    "    sent = nltk.pos_tag(sent)\n",
    "    return sent"
   ]
  },
  {
   "cell_type": "code",
   "execution_count": null,
   "id": "57ecc7ac",
   "metadata": {},
   "outputs": [],
   "source": [
    "preprocess(item)"
   ]
  },
  {
   "cell_type": "code",
   "execution_count": null,
   "id": "e776630e",
   "metadata": {},
   "outputs": [],
   "source": [
    "from nltk.corpus import wordnet as wn"
   ]
  },
  {
   "cell_type": "code",
   "execution_count": null,
   "id": "f0b5d865",
   "metadata": {},
   "outputs": [],
   "source": [
    "def check_food(word):\n",
    "    syns = wn.synsets(str(word), pos = wn.NOUN)\n",
    "    syn_list = []\n",
    "    for syn in syns:\n",
    "        syn_list.append(syn.lexname())\n",
    "    #    if 'food' in syn.lexname():\n",
    "    #        return True\n",
    "    #return False\n",
    "    return syn_list"
   ]
  },
  {
   "cell_type": "code",
   "execution_count": null,
   "id": "9dd16260",
   "metadata": {},
   "outputs": [],
   "source": [
    "check_food('poultry_seasoning')"
   ]
  },
  {
   "cell_type": "markdown",
   "id": "91dd5116",
   "metadata": {},
   "source": [
    "### Future direction : \n",
    "\n",
    "Text\n",
    "\n",
    "Video\n",
    "\n",
    "Tools\n",
    "\n",
    "Ingredients\n",
    "\n",
    "Reviews\n",
    "\n",
    "nutrient fact\n",
    "\n",
    "\"Bundling Products\" in retail industry - smore : graham/stick/chocolate/graham cracker (Receive paperas from Joey), substituable, possible accessories.\n",
    "\n",
    "\n"
   ]
  },
  {
   "cell_type": "code",
   "execution_count": null,
   "id": "06989017",
   "metadata": {},
   "outputs": [],
   "source": []
  }
 ],
 "metadata": {
  "kernelspec": {
   "display_name": "Python 3",
   "language": "python",
   "name": "python3"
  },
  "language_info": {
   "codemirror_mode": {
    "name": "ipython",
    "version": 3
   },
   "file_extension": ".py",
   "mimetype": "text/x-python",
   "name": "python",
   "nbconvert_exporter": "python",
   "pygments_lexer": "ipython3",
   "version": "3.9.5"
  },
  "varInspector": {
   "cols": {
    "lenName": 16,
    "lenType": 16,
    "lenVar": 40
   },
   "kernels_config": {
    "python": {
     "delete_cmd_postfix": "",
     "delete_cmd_prefix": "del ",
     "library": "var_list.py",
     "varRefreshCmd": "print(var_dic_list())"
    },
    "r": {
     "delete_cmd_postfix": ") ",
     "delete_cmd_prefix": "rm(",
     "library": "var_list.r",
     "varRefreshCmd": "cat(var_dic_list()) "
    }
   },
   "types_to_exclude": [
    "module",
    "function",
    "builtin_function_or_method",
    "instance",
    "_Feature"
   ],
   "window_display": false
  }
 },
 "nbformat": 4,
 "nbformat_minor": 5
}
