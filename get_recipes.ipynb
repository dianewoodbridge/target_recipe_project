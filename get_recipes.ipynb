{
 "cells": [
  {
   "cell_type": "code",
   "execution_count": 1,
   "id": "1429db13",
   "metadata": {},
   "outputs": [],
   "source": [
    "#%pip install requests"
   ]
  },
  {
   "cell_type": "markdown",
   "id": "293505a1",
   "metadata": {},
   "source": [
    "### API Reference : https://rapidapi.com/apidojo/api/tasty/"
   ]
  },
  {
   "cell_type": "code",
   "execution_count": 2,
   "id": "0dca58c5",
   "metadata": {},
   "outputs": [],
   "source": [
    "import requests\n",
    "import json"
   ]
  },
  {
   "cell_type": "code",
   "execution_count": 3,
   "id": "e02a5134",
   "metadata": {},
   "outputs": [],
   "source": [
    "headers = {\n",
    "    'x-rapidapi-key': \"70fcf77facmshaf5555f7be26d0cp11fe0ejsn74b399108a64\",\n",
    "    'x-rapidapi-host': \"tasty.p.rapidapi.com\"\n",
    "    }\n",
    "\n",
    "offset = 0\n",
    "size = 5\n",
    "q = \"carrot\" # Name of food or, ingredients to search by"
   ]
  },
  {
   "cell_type": "code",
   "execution_count": 4,
   "id": "db443c89",
   "metadata": {},
   "outputs": [],
   "source": [
    "ingredient_list = {'shopping_list': []}"
   ]
  },
  {
   "cell_type": "markdown",
   "id": "31a8c6e1",
   "metadata": {},
   "source": [
    "### Search using \"tags\""
   ]
  },
  {
   "cell_type": "code",
   "execution_count": 5,
   "id": "0278d442",
   "metadata": {},
   "outputs": [],
   "source": [
    "url = \"https://tasty.p.rapidapi.com/recipes/list\"\n",
    "querystring = {\"from\": f\"{str(offset)}\",\"size\":f\"{str(size)}\",\"q\":f\"{q}\"}\n",
    "response = requests.request(\"GET\", url, headers=headers, params=querystring)"
   ]
  },
  {
   "cell_type": "code",
   "execution_count": 6,
   "id": "b28cf1db",
   "metadata": {},
   "outputs": [],
   "source": [
    "response_json = response.json().items()"
   ]
  },
  {
   "cell_type": "code",
   "execution_count": 7,
   "id": "facaa0c6",
   "metadata": {},
   "outputs": [
    {
     "name": "stdout",
     "output_type": "stream",
     "text": [
      "7530\n",
      "7525\n",
      "7487\n",
      "7466\n",
      "7462\n"
     ]
    }
   ],
   "source": [
    "id = []\n",
    "for recipe in list(response_json)[1][1]:\n",
    "    print(recipe.get('id'))\n",
    "    id.append(recipe.get('id'))"
   ]
  },
  {
   "cell_type": "markdown",
   "id": "f8768d08",
   "metadata": {},
   "source": [
    "### Choose the first returned recipe and return its ingredient/quantity"
   ]
  },
  {
   "cell_type": "code",
   "execution_count": 8,
   "id": "73fd3fb2",
   "metadata": {},
   "outputs": [],
   "source": [
    "# retrieve the first recipe for now.\n",
    "id_querystring = {\"id\":id[0]}\n",
    "url = \"https://tasty.p.rapidapi.com/recipes/detail\"\n",
    "headers = {\n",
    "    'x-rapidapi-key': \"70fcf77facmshaf5555f7be26d0cp11fe0ejsn74b399108a64\",\n",
    "    'x-rapidapi-host': \"tasty.p.rapidapi.com\"\n",
    "    }\n",
    "response = requests.request(\"GET\", url, headers=headers, params=id_querystring)"
   ]
  },
  {
   "cell_type": "code",
   "execution_count": 9,
   "id": "e627ac58",
   "metadata": {},
   "outputs": [],
   "source": [
    "recipe = response.json()"
   ]
  },
  {
   "cell_type": "code",
   "execution_count": 10,
   "id": "4b551555",
   "metadata": {
    "scrolled": false
   },
   "outputs": [
    {
     "data": {
      "text/plain": [
       "'6-Hour Lasagna'"
      ]
     },
     "execution_count": 10,
     "metadata": {},
     "output_type": "execute_result"
    }
   ],
   "source": [
    "recipe.get('name')"
   ]
  },
  {
   "cell_type": "code",
   "execution_count": 11,
   "id": "384fcad4",
   "metadata": {
    "scrolled": false
   },
   "outputs": [],
   "source": [
    "for ingredient in recipe.get('sections')[0].get('components'):\n",
    "    name = ingredient.get('ingredient').get('name')\n",
    "    quantity = ingredient.get('measurements')[0].get('quantity')\n",
    "    if(ingredient.get('measurements')[0].get('unit').get('name') != ''):\n",
    "        unit = ingredient.get('measurements')[0].get('unit').get('name')\n",
    "    ingredient_json = json.loads(\n",
    "                        json.dumps({'ingredient': name, \n",
    "                                    'quantity': quantity, \n",
    "                                    'unit':unit}, \n",
    "                                   ensure_ascii=False))\n",
    "    ingredient_list[\"shopping_list\"].append(ingredient_json)"
   ]
  },
  {
   "cell_type": "code",
   "execution_count": 12,
   "id": "11f43f30",
   "metadata": {},
   "outputs": [
    {
     "data": {
      "text/plain": [
       "{'shopping_list': [{'ingredient': 'olive oil',\n",
       "   'quantity': '1',\n",
       "   'unit': 'tablespoon'},\n",
       "  {'ingredient': 'pancetta', 'quantity': '120', 'unit': 'gram'},\n",
       "  {'ingredient': 'medium yellow onion', 'quantity': '1', 'unit': 'gram'},\n",
       "  {'ingredient': 'medium carrot', 'quantity': '1', 'unit': 'gram'},\n",
       "  {'ingredient': 'celery', 'quantity': '1', 'unit': 'gram'},\n",
       "  {'ingredient': 'fresh thyme', 'quantity': '3', 'unit': 'sprig'},\n",
       "  {'ingredient': 'garlic', 'quantity': '3', 'unit': 'clove'},\n",
       "  {'ingredient': 'ground pork', 'quantity': '225', 'unit': 'gram'},\n",
       "  {'ingredient': 'ground beef', 'quantity': '225', 'unit': 'gram'},\n",
       "  {'ingredient': 'kosher salt', 'quantity': '2', 'unit': 'teaspoon'},\n",
       "  {'ingredient': 'dry white wine', 'quantity': '240', 'unit': 'milliliter'},\n",
       "  {'ingredient': 'whole peeled tomato', 'quantity': '2', 'unit': 'can'},\n",
       "  {'ingredient': 'whole milk', 'quantity': '240', 'unit': 'milliliter'},\n",
       "  {'ingredient': 'chicken stock', 'quantity': '240', 'unit': 'milliliter'}]}"
      ]
     },
     "execution_count": 12,
     "metadata": {},
     "output_type": "execute_result"
    }
   ],
   "source": [
    "ingredient_list "
   ]
  },
  {
   "cell_type": "markdown",
   "id": "955b9aad",
   "metadata": {},
   "source": [
    "#### Second Recipe"
   ]
  },
  {
   "cell_type": "code",
   "execution_count": 13,
   "id": "c5e19f9b",
   "metadata": {},
   "outputs": [
    {
     "data": {
      "text/plain": [
       "'Mulligatawny Inspired Soup'"
      ]
     },
     "execution_count": 13,
     "metadata": {},
     "output_type": "execute_result"
    }
   ],
   "source": [
    "# retrieve the first recipe for now.\n",
    "id_querystring = {\"id\":id[2]}\n",
    "url = \"https://tasty.p.rapidapi.com/recipes/detail\"\n",
    "headers = {\n",
    "    'x-rapidapi-key': \"70fcf77facmshaf5555f7be26d0cp11fe0ejsn74b399108a64\",\n",
    "    'x-rapidapi-host': \"tasty.p.rapidapi.com\"\n",
    "    }\n",
    "response = requests.request(\"GET\", url, headers=headers, params=id_querystring)\n",
    "recipe = response.json()\n",
    "recipe.get('name')"
   ]
  },
  {
   "cell_type": "code",
   "execution_count": 14,
   "id": "ec87e08a",
   "metadata": {},
   "outputs": [],
   "source": [
    "for ingredient in recipe.get('sections')[0].get('components'):\n",
    "    name = ingredient.get('ingredient').get('name')\n",
    "    quantity = ingredient.get('measurements')[0].get('quantity')\n",
    "    if(ingredient.get('measurements')[0].get('unit').get('name') != ''):\n",
    "        unit = ingredient.get('measurements')[0].get('unit').get('name')\n",
    "    ingredient_json = json.loads(\n",
    "                        json.dumps({'ingredient': name, \n",
    "                                    'quantity': quantity, \n",
    "                                    'unit':unit}, \n",
    "                                   ensure_ascii=False))\n",
    "    ingredient_list[\"shopping_list\"].append(ingredient_json)"
   ]
  },
  {
   "cell_type": "code",
   "execution_count": 15,
   "id": "6af2405f",
   "metadata": {},
   "outputs": [
    {
     "data": {
      "text/plain": [
       "{'shopping_list': [{'ingredient': 'olive oil',\n",
       "   'quantity': '1',\n",
       "   'unit': 'tablespoon'},\n",
       "  {'ingredient': 'pancetta', 'quantity': '120', 'unit': 'gram'},\n",
       "  {'ingredient': 'medium yellow onion', 'quantity': '1', 'unit': 'gram'},\n",
       "  {'ingredient': 'medium carrot', 'quantity': '1', 'unit': 'gram'},\n",
       "  {'ingredient': 'celery', 'quantity': '1', 'unit': 'gram'},\n",
       "  {'ingredient': 'fresh thyme', 'quantity': '3', 'unit': 'sprig'},\n",
       "  {'ingredient': 'garlic', 'quantity': '3', 'unit': 'clove'},\n",
       "  {'ingredient': 'ground pork', 'quantity': '225', 'unit': 'gram'},\n",
       "  {'ingredient': 'ground beef', 'quantity': '225', 'unit': 'gram'},\n",
       "  {'ingredient': 'kosher salt', 'quantity': '2', 'unit': 'teaspoon'},\n",
       "  {'ingredient': 'dry white wine', 'quantity': '240', 'unit': 'milliliter'},\n",
       "  {'ingredient': 'whole peeled tomato', 'quantity': '2', 'unit': 'can'},\n",
       "  {'ingredient': 'whole milk', 'quantity': '240', 'unit': 'milliliter'},\n",
       "  {'ingredient': 'chicken stock', 'quantity': '240', 'unit': 'milliliter'},\n",
       "  {'ingredient': 'olive oil', 'quantity': '0', 'unit': 'milliliter'},\n",
       "  {'ingredient': 'butter', 'quantity': '1', 'unit': 'tablespoon'},\n",
       "  {'ingredient': 'onion', 'quantity': '1', 'unit': 'tablespoon'},\n",
       "  {'ingredient': 'celery', 'quantity': '3', 'unit': 'rib'},\n",
       "  {'ingredient': 'carrot', 'quantity': '3', 'unit': 'rib'},\n",
       "  {'ingredient': 'garlic', 'quantity': '3', 'unit': 'clove'},\n",
       "  {'ingredient': 'small tart apples', 'quantity': '2', 'unit': 'clove'},\n",
       "  {'ingredient': 'diced tomato', 'quantity': '2', 'unit': 'can'},\n",
       "  {'ingredient': 'vegetable stock', 'quantity': '2', 'unit': 'box'},\n",
       "  {'ingredient': 'chicken stock', 'quantity': '1', 'unit': 'cup'},\n",
       "  {'ingredient': 'salt', 'quantity': '1', 'unit': 'pinch'},\n",
       "  {'ingredient': 'pepper', 'quantity': '0', 'unit': 'pinch'},\n",
       "  {'ingredient': 'curry powder', 'quantity': '1', 'unit': 'teaspoon'},\n",
       "  {'ingredient': 'coriander', 'quantity': '½', 'unit': 'teaspoon'},\n",
       "  {'ingredient': 'garlic powder', 'quantity': '½', 'unit': 'teaspoon'},\n",
       "  {'ingredient': 'onion powder', 'quantity': '½', 'unit': 'teaspoon'},\n",
       "  {'ingredient': 'paprika', 'quantity': '1', 'unit': 'dash'},\n",
       "  {'ingredient': 'large bay leaves', 'quantity': '2', 'unit': 'dash'},\n",
       "  {'ingredient': 'large chicken breast', 'quantity': '1', 'unit': 'dash'},\n",
       "  {'ingredient': 'rice', 'quantity': '1', 'unit': 'cup'}]}"
      ]
     },
     "execution_count": 15,
     "metadata": {},
     "output_type": "execute_result"
    }
   ],
   "source": [
    "ingredient_list "
   ]
  },
  {
   "cell_type": "markdown",
   "id": "6fee6f0d",
   "metadata": {},
   "source": [
    "# Things to do :\n",
    "\n",
    "1) ingredient name generalization - medium carrot, baby carrot, carrot, large carrot\n",
    "\n",
    "2) convert unit - cup, can, gram, etc.\n",
    "\n",
    "3) combine the entire shopping list from selected recipe.\n",
    "\n",
    "4) check the stock with local target "
   ]
  },
  {
   "cell_type": "code",
   "execution_count": null,
   "id": "9034a1b6",
   "metadata": {},
   "outputs": [],
   "source": []
  }
 ],
 "metadata": {
  "kernelspec": {
   "display_name": "Python 3",
   "language": "python",
   "name": "python3"
  },
  "language_info": {
   "codemirror_mode": {
    "name": "ipython",
    "version": 3
   },
   "file_extension": ".py",
   "mimetype": "text/x-python",
   "name": "python",
   "nbconvert_exporter": "python",
   "pygments_lexer": "ipython3",
   "version": "3.9.5"
  },
  "varInspector": {
   "cols": {
    "lenName": 16,
    "lenType": 16,
    "lenVar": 40
   },
   "kernels_config": {
    "python": {
     "delete_cmd_postfix": "",
     "delete_cmd_prefix": "del ",
     "library": "var_list.py",
     "varRefreshCmd": "print(var_dic_list())"
    },
    "r": {
     "delete_cmd_postfix": ") ",
     "delete_cmd_prefix": "rm(",
     "library": "var_list.r",
     "varRefreshCmd": "cat(var_dic_list()) "
    }
   },
   "types_to_exclude": [
    "module",
    "function",
    "builtin_function_or_method",
    "instance",
    "_Feature"
   ],
   "window_display": false
  }
 },
 "nbformat": 4,
 "nbformat_minor": 5
}
