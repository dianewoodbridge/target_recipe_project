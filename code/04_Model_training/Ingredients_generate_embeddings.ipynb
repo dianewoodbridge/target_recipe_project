{
 "cells": [
  {
   "cell_type": "code",
   "execution_count": 10,
   "metadata": {
    "ExecuteTime": {
     "end_time": "2022-01-24T20:39:02.160168Z",
     "start_time": "2022-01-24T20:38:58.814054Z"
    }
   },
   "outputs": [],
   "source": [
    "import pandas as pd \n",
    "import numpy as np\n",
    "import warnings\n",
    "\n",
    "from sentence_transformers import SentenceTransformer\n",
    "from preprocessor import *\n",
    "from pattern_search import * \n",
    "from ranker import BM25Ranker\n",
    "import pickle\n",
    "import joblib\n",
    "\n",
    "warnings.filterwarnings(\"ignore\")\n",
    "pd.set_option('display.max_columns', None)\n",
    "pd.set_option('display.max_rows', None)"
   ]
  },
  {
   "cell_type": "code",
   "execution_count": 4,
   "metadata": {},
   "outputs": [],
   "source": [
    "from pathlib import Path\n",
    "PATH = Path(\"\")\n",
    "data_path = PATH.home()/'data/Target/data/'\n",
    "model_path = PATH.home()/'data/Target/models/group10'"
   ]
  },
  {
   "cell_type": "code",
   "execution_count": 5,
   "metadata": {
    "ExecuteTime": {
     "end_time": "2022-01-24T20:39:05.730664Z",
     "start_time": "2022-01-24T20:39:02.161678Z"
    }
   },
   "outputs": [],
   "source": [
    "# Get grocery product hierarchy information\n",
    "group10 = pd.read_csv(data_path/'group10_header.csv',\n",
    "                      sep='\\t', \n",
    "                      low_memory=False)\n",
    "\n",
    "# Get scraped information for the above products\n",
    "products = pd.read_csv(data_path/'products.csv')\n",
    "\n",
    "# Merge scraped information into the hierarchy table\n",
    "group10 = pd.merge(group10, products, \n",
    "                   how = 'left', on = 'tcin')\n",
    "\n",
    "# Preprocess the table\n",
    "group10 = preprocess_df(group10)\n",
    "\n",
    "# Fill NAs\n",
    "group10 = fillNa(group10)"
   ]
  },
  {
   "cell_type": "markdown",
   "metadata": {},
   "source": [
    "### Generate embeddings for transformer model"
   ]
  },
  {
   "cell_type": "code",
   "execution_count": 6,
   "metadata": {
    "ExecuteTime": {
     "end_time": "2022-01-24T20:39:13.278685Z",
     "start_time": "2022-01-24T20:39:05.765290Z"
    }
   },
   "outputs": [],
   "source": [
    "# Selected model for generating embeddings\n",
    "lm = SentenceTransformer('multi-qa-MiniLM-L6-cos-v1')"
   ]
  },
  {
   "cell_type": "code",
   "execution_count": 7,
   "metadata": {
    "ExecuteTime": {
     "end_time": "2022-01-24T20:39:13.281327Z",
     "start_time": "2022-01-24T20:39:13.279545Z"
    }
   },
   "outputs": [],
   "source": [
    "# Get list of preprocessed product titles\n",
    "product_ids = group10['tcin'].values"
   ]
  },
  {
   "cell_type": "code",
   "execution_count": 8,
   "metadata": {
    "ExecuteTime": {
     "end_time": "2022-01-24T20:39:13.339802Z",
     "start_time": "2022-01-24T20:39:13.284338Z"
    }
   },
   "outputs": [],
   "source": [
    "# Concatenate product title text with hierarchy information\n",
    "group10['department_name'] = np.where(pd.isnull(group10['department_name']), '', group10['department_name'])\n",
    "group10['class_name'] = np.where(pd.isnull(group10['class_name']), '', group10['class_name'])\n",
    "group10['subclass_name'] = np.where(pd.isnull(group10['subclass_name']), '', group10['subclass_name'])\n",
    "group10['style_name'] = np.where(pd.isnull(group10['style_name']), '', group10['style_name'])\n",
    "group10['item_type_name'] = np.where(pd.isnull(group10['item_type_name']), '', group10['item_type_name'])\n",
    "\n",
    "product_sentences = list(group10['division_name'].str.cat(group10[['department_name', 'class_name', \n",
    "                                                                'item_type_name',                                                                  \n",
    "                                                                'subclass_name', \n",
    "                                                                'style_name', 'title_processed'\n",
    "                                                        ]], \n",
    "                                             sep= ' ').str.lower().values)"
   ]
  },
  {
   "cell_type": "code",
   "execution_count": 10,
   "metadata": {
    "ExecuteTime": {
     "end_time": "2022-01-24T20:39:13.344527Z",
     "start_time": "2022-01-24T20:39:13.343251Z"
    }
   },
   "outputs": [],
   "source": [
    "# Compute embeddings for L1 Ranker\n",
    "pool = lm.start_multi_process_pool(target_devices=['cpu']*8)\n",
    "emb = lm.encode_multi_process(product_sentences, pool)\n",
    "# Store sentences & embeddings on disc\n",
    "with open('data/hier_embeddings.pkl', \"wb\") as fOut:\n",
    "    pickle.dump({'ids': product_ids,\n",
    "                 'sentences': product_sentences, \n",
    "                 'embeddings': emb}, fOut, protocol=pickle.HIGHEST_PROTOCOL)"
   ]
  },
  {
   "cell_type": "code",
   "execution_count": 11,
   "metadata": {
    "ExecuteTime": {
     "end_time": "2022-01-24T20:39:13.364946Z",
     "start_time": "2022-01-24T20:39:13.346762Z"
    }
   },
   "outputs": [],
   "source": [
    "#Load sentences & embeddings from disc\n",
    "with open('data/hier_embeddings.pkl', \"rb\") as fIn:\n",
    "    stored_data = pickle.load(fIn)\n",
    "    stored_ids = stored_data['ids']\n",
    "    stored_sentences = stored_data['sentences']\n",
    "    stored_embeddings = stored_data['embeddings']"
   ]
  },
  {
   "cell_type": "markdown",
   "metadata": {},
   "source": [
    "### Generate embeddings for BM25 model"
   ]
  },
  {
   "cell_type": "code",
   "execution_count": null,
   "metadata": {},
   "outputs": [],
   "source": [
    "bm25 = BM25Ranker(product_ids=group10['tcin'], max_rank=10)\n",
    "texts = bm25.fit_corpus(product_sentences, op_path='data/bm25_corpus_no_description')\n",
    "texts = joblib.load(\"data/bm25_corpus_no_description\")\n",
    "bm25.fit(texts)\n",
    "joblib.dump(bm25, \"./models/bm25_no_description\")"
   ]
  }
 ],
 "metadata": {
  "hide_input": false,
  "interpreter": {
   "hash": "0ae4cdc5e4104427b156a8a6e2adbe5664dd6bc8541409b3d7a7fc1cd3278568"
  },
  "kernelspec": {
   "display_name": "Python 3",
   "language": "python",
   "name": "python3"
  },
  "language_info": {
   "codemirror_mode": {
    "name": "ipython",
    "version": 3
   },
   "file_extension": ".py",
   "mimetype": "text/x-python",
   "name": "python",
   "nbconvert_exporter": "python",
   "pygments_lexer": "ipython3",
   "version": "3.8.11"
  }
 },
 "nbformat": 4,
 "nbformat_minor": 4
}
