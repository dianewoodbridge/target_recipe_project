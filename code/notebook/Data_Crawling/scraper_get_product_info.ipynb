{
 "cells": [
  {
   "cell_type": "code",
   "execution_count": 1,
   "id": "cf7cbc8d",
   "metadata": {
    "ExecuteTime": {
     "end_time": "2021-12-06T18:44:16.009307Z",
     "start_time": "2021-12-06T18:44:15.397958Z"
    }
   },
   "outputs": [],
   "source": [
    "import pandas as pd\n",
    "import numpy as np\n",
    "import os\n",
    "from tqdm.notebook import tqdm\n",
    "import glob\n",
    "\n",
    "from bs4 import BeautifulSoup"
   ]
  },
  {
   "cell_type": "code",
   "execution_count": 2,
   "id": "27358720",
   "metadata": {
    "ExecuteTime": {
     "end_time": "2021-12-06T18:44:16.347679Z",
     "start_time": "2021-12-06T18:44:16.011248Z"
    }
   },
   "outputs": [],
   "source": [
    "group10 = pd.read_csv('../Data/Target Data/group10_header.csv',\n",
    "                      sep='\\t', low_memory=False)\n",
    "ip_file_dir = \"../Data/Target Data/scraped\"\n",
    "file_list = glob.glob(\"../Data/Target Data/scraped/*details*\")\n",
    "tcin_completed = [file.split('/')[-1].split('_')[0] for file in file_list]\n",
    "total_tcin = list(set(pd.Series(tcin_completed).astype('int')))\n",
    "op_file_path = os.path.join(ip_file_dir, 'products.csv')"
   ]
  },
  {
   "cell_type": "code",
   "execution_count": 3,
   "id": "48ef0d04",
   "metadata": {
    "ExecuteTime": {
     "end_time": "2021-12-06T18:44:17.265503Z",
     "start_time": "2021-12-06T18:44:17.244029Z"
    }
   },
   "outputs": [
    {
     "data": {
      "text/plain": [
       "23248"
      ]
     },
     "execution_count": 3,
     "metadata": {},
     "output_type": "execute_result"
    }
   ],
   "source": [
    "len(group10['tcin'].unique())"
   ]
  },
  {
   "cell_type": "code",
   "execution_count": 4,
   "id": "48740ae6",
   "metadata": {
    "ExecuteTime": {
     "end_time": "2021-12-06T18:44:17.497019Z",
     "start_time": "2021-12-06T18:44:17.492301Z"
    }
   },
   "outputs": [
    {
     "data": {
      "text/plain": [
       "21611"
      ]
     },
     "execution_count": 4,
     "metadata": {},
     "output_type": "execute_result"
    }
   ],
   "source": [
    "len(total_tcin)"
   ]
  },
  {
   "cell_type": "code",
   "execution_count": 418,
   "id": "be94906d",
   "metadata": {
    "ExecuteTime": {
     "end_time": "2021-11-06T20:12:37.903951Z",
     "start_time": "2021-11-06T20:12:37.898480Z"
    }
   },
   "outputs": [],
   "source": [
    "def get_highlights(soup):\n",
    "    highlights = []\n",
    "    try:\n",
    "        highlight_tag = soup.find('h3', text='Highlights')\n",
    "        highlights_sib = highlight_tag.find_next()\n",
    "        highlights_spans = highlights_sib.find_all('span')\n",
    "        for s in highlights_spans:\n",
    "            highlights.append(s.text)\n",
    "    except:\n",
    "        highlights = np.nan\n",
    "    return highlights"
   ]
  },
  {
   "cell_type": "code",
   "execution_count": 419,
   "id": "6d7ea6e9",
   "metadata": {
    "ExecuteTime": {
     "end_time": "2021-11-06T20:12:38.338228Z",
     "start_time": "2021-11-06T20:12:38.329661Z"
    }
   },
   "outputs": [],
   "source": [
    "def get_specifications(soup):\n",
    "    specifications = []\n",
    "    try:\n",
    "        specifications_tag = soup.find('h3', text='Specifications')\n",
    "        for d in specifications_tag.parent.find_all('div'):\n",
    "            specifications.append(d.text)\n",
    "        specifications = [s for s in list(set(specifications))\n",
    "                          if not s.startswith('Content on this site is for reference purposes only')\n",
    "                          if not s.startswith('Grocery Disclaimer')]\n",
    "    except:\n",
    "        specifications = np.nan\n",
    "    return specifications"
   ]
  },
  {
   "cell_type": "code",
   "execution_count": 420,
   "id": "0681f4bb",
   "metadata": {
    "ExecuteTime": {
     "end_time": "2021-11-06T20:12:39.680708Z",
     "start_time": "2021-11-06T20:12:39.674787Z"
    }
   },
   "outputs": [],
   "source": [
    "def get_description(soup):\n",
    "    description_text = ''\n",
    "    try:\n",
    "        description_tag = soup.find('h3', text='Description')\n",
    "        description_sib = description_tag.find_next()\n",
    "        description_text = description_sib.text\n",
    "    except:\n",
    "        pass\n",
    "    return description_text"
   ]
  },
  {
   "cell_type": "code",
   "execution_count": 421,
   "id": "ef1f4704",
   "metadata": {
    "ExecuteTime": {
     "end_time": "2021-11-06T20:12:41.062429Z",
     "start_time": "2021-11-06T20:12:41.056961Z"
    }
   },
   "outputs": [],
   "source": [
    "def get_serving_info(soup):\n",
    "    serving_info = []\n",
    "    try:\n",
    "        nutrition = soup.find('div', {'data-test':\n",
    "                                      'productDetailsTabs-nutritionFactsTab'}).div.div.div\n",
    "        for p in nutrition.find_all('p'):\n",
    "            serving_info.append(p.text)\n",
    "    except:\n",
    "        serving_info = np.nan\n",
    "    return serving_info"
   ]
  },
  {
   "cell_type": "code",
   "execution_count": 429,
   "id": "5fd3abcd",
   "metadata": {
    "ExecuteTime": {
     "end_time": "2021-11-06T20:16:24.298741Z",
     "start_time": "2021-11-06T20:16:24.289314Z"
    }
   },
   "outputs": [],
   "source": [
    "def get_nutrition_info(soup):\n",
    "    nutrition_info = []\n",
    "    try:\n",
    "        nutrition = soup.find('div', {'data-test':\n",
    "                                      'productDetailsTabs-nutritionFactsTab'}).div.div.div\n",
    "        nutrition_tags = nutrition.find_all('div',\n",
    "                                            class_=lambda x: x and x.startswith(\"h-margin-t-tight\"))\n",
    "        for nutrition_tag in nutrition_tags:\n",
    "            text_split = nutrition_tag.span.text.split()\n",
    "            nutrition_info.append(\n",
    "                ([\" \".join(text_split[0:-1]), (text_split[-1])]))\n",
    "    except:\n",
    "        nutrition_info = np.nan\n",
    "    return nutrition_info"
   ]
  },
  {
   "cell_type": "code",
   "execution_count": 423,
   "id": "6f36031d",
   "metadata": {
    "ExecuteTime": {
     "end_time": "2021-11-06T20:12:44.528438Z",
     "start_time": "2021-11-06T20:12:44.523827Z"
    }
   },
   "outputs": [],
   "source": [
    "def get_ingredients(soup):\n",
    "    ingredients_text = ''\n",
    "    try:\n",
    "        ingredients_tag = soup.find('h4',\n",
    "                                    text=lambda x: x.startswith('Ingredients'))\n",
    "        ingredients_sib = ingredients_tag.find_next()\n",
    "        ingredients_text = ingredients_sib.text\n",
    "    except:\n",
    "        pass\n",
    "    return ingredients_text"
   ]
  },
  {
   "cell_type": "code",
   "execution_count": 424,
   "id": "141d6dba",
   "metadata": {
    "ExecuteTime": {
     "end_time": "2021-11-06T20:12:44.975956Z",
     "start_time": "2021-11-06T20:12:44.971233Z"
    }
   },
   "outputs": [],
   "source": [
    "def get_allergens(soup):\n",
    "    allergens_text = ''\n",
    "    try:\n",
    "        allergens = soup.find('h4',\n",
    "                              text=lambda x: x.startswith('Allergens & Warnings'))\n",
    "        allergens_text = allergens.parent.text\n",
    "    except:\n",
    "        pass\n",
    "    return allergens_text"
   ]
  },
  {
   "cell_type": "code",
   "execution_count": 425,
   "id": "cb9cfc83",
   "metadata": {
    "ExecuteTime": {
     "end_time": "2021-11-06T20:12:46.884812Z",
     "start_time": "2021-11-06T20:12:46.876578Z"
    }
   },
   "outputs": [],
   "source": [
    "def get_price(soup):\n",
    "    product_price = np.nan\n",
    "    try:\n",
    "        product_price_tag = soup.find('div', {'data-test': 'product-price'})\n",
    "        product_price = float(product_price_tag.get_text()[1:])\n",
    "    except:\n",
    "        pass\n",
    "    return product_price\n",
    "\n",
    "\n",
    "def get_rating(soup):\n",
    "    rating = np.nan\n",
    "    try:\n",
    "        rating_tag = soup.find('span', {'data-test': 'ratings'})\n",
    "        rating = float(rating_tag.get_text().split()[0])\n",
    "    except:\n",
    "        pass\n",
    "    return rating\n",
    "\n",
    "\n",
    "def get_n_reviews(soup):\n",
    "    n_reviews = np.nan\n",
    "    try:\n",
    "        n_reviews_tag = soup.find('span', {'data-test': 'ratings'})\n",
    "        n_reviews = int(n_reviews_tag.get_text().split()[-2])\n",
    "    except:\n",
    "        pass\n",
    "    return n_reviews"
   ]
  },
  {
   "cell_type": "code",
   "execution_count": null,
   "id": "d6ed59ce",
   "metadata": {},
   "outputs": [],
   "source": [
    "products = []\n",
    "for i, tcin in enumerate(tqdm(total_tcin)):\n",
    "    try:\n",
    "        path = os.path.join(ip_file_dir, str(tcin) + '_details.html')\n",
    "        with open(path) as f:\n",
    "            html = f.read()\n",
    "        details_soup = BeautifulSoup(html)\n",
    "\n",
    "        product = {}\n",
    "        product['tcin'] = tcin\n",
    "        product['price'] = get_price(details_soup)\n",
    "        product['rating'] = get_rating(details_soup)\n",
    "        product['n_reviews'] = get_n_reviews(details_soup)\n",
    "        product['highlights'] = get_highlights(details_soup)\n",
    "        product['specifications'] = get_specifications(details_soup)\n",
    "        product['description'] = get_description(details_soup)\n",
    "\n",
    "        path = os.path.join(ip_file_dir, str(tcin) + '_label_info.html')\n",
    "        if os.path.isfile(path):\n",
    "            with open(path) as f:\n",
    "                html = f.read()\n",
    "        label_info_soup = BeautifulSoup(html)\n",
    "        product['serving_info'] = get_serving_info(label_info_soup)\n",
    "        product['nutrition_info'] = get_nutrition_info(label_info_soup)\n",
    "        product['ingredients'] = get_ingredients(label_info_soup)\n",
    "        product['allergens'] = get_allergens(label_info_soup)\n",
    "\n",
    "        products.append(product)\n",
    "\n",
    "        if i % 50 == 0:\n",
    "            products_df = pd.DataFrame(products)\n",
    "            products_df.to_csv(op_file_path, index=False)\n",
    "    except:\n",
    "        print(tcin)\n",
    "        pass\n",
    "\n",
    "products_df = pd.DataFrame(products)\n",
    "products_df.to_csv(op_file_path, index=False)"
   ]
  },
  {
   "cell_type": "code",
   "execution_count": 24,
   "id": "5adff9da",
   "metadata": {
    "ExecuteTime": {
     "end_time": "2021-12-05T18:23:26.134783Z",
     "start_time": "2021-12-05T18:23:26.128846Z"
    }
   },
   "outputs": [],
   "source": [
    "def get_images(soup):\n",
    "    images = []\n",
    "    try:\n",
    "        product_image_div = soup.find('div', {'data-test':\n",
    "                                  'product-image'})\n",
    "        product_images = product_image_div.find_all('img')\n",
    "        for image in product_images:\n",
    "            images.append(image['src'])\n",
    "    except:\n",
    "        images = np.nan\n",
    "    return images"
   ]
  },
  {
   "cell_type": "code",
   "execution_count": 5,
   "id": "a697b6f2",
   "metadata": {
    "ExecuteTime": {
     "end_time": "2021-12-06T18:44:23.911631Z",
     "start_time": "2021-12-06T18:44:23.902693Z"
    }
   },
   "outputs": [],
   "source": [
    "def get_image(soup):\n",
    "    image = np.nan\n",
    "    try:\n",
    "        product_images_div = soup.find('div', {'data-test':\n",
    "                                  'product-image'})\n",
    "        product_image_div = product_images_div.find('div', {'aria-hidden': 'false'})\n",
    "        product_image = product_image_div.find('img')\n",
    "        image = product_image['src']\n",
    "    except:\n",
    "        pass\n",
    "    return image"
   ]
  },
  {
   "cell_type": "code",
   "execution_count": 6,
   "id": "9342f3f9",
   "metadata": {
    "ExecuteTime": {
     "end_time": "2021-12-06T18:44:24.998620Z",
     "start_time": "2021-12-06T18:44:24.994028Z"
    }
   },
   "outputs": [],
   "source": [
    "op_file_path = os.path.join(ip_file_dir, 'product_image.csv')"
   ]
  },
  {
   "cell_type": "code",
   "execution_count": 7,
   "id": "b778d68a",
   "metadata": {
    "ExecuteTime": {
     "end_time": "2021-12-06T18:58:21.157845Z",
     "start_time": "2021-12-06T18:44:26.195456Z"
    }
   },
   "outputs": [
    {
     "data": {
      "application/vnd.jupyter.widget-view+json": {
       "model_id": "26202390dbbb47909eca809db9ecac16",
       "version_major": 2,
       "version_minor": 0
      },
      "text/plain": [
       "  0%|          | 0/21611 [00:00<?, ?it/s]"
      ]
     },
     "metadata": {},
     "output_type": "display_data"
    }
   ],
   "source": [
    "products = []\n",
    "for i, tcin in enumerate(tqdm(total_tcin)):\n",
    "    try:\n",
    "        path = os.path.join(ip_file_dir, str(tcin) + '_details.html')\n",
    "        with open(path) as f:\n",
    "            html = f.read()\n",
    "        details_soup = BeautifulSoup(html)\n",
    "\n",
    "        product = {}\n",
    "        product['tcin'] = tcin\n",
    "        product['image'] = get_image(details_soup)\n",
    "\n",
    "        products.append(product)\n",
    "\n",
    "        if i % 50 == 0:\n",
    "            products_df = pd.DataFrame(products)\n",
    "            products_df.to_csv(op_file_path, index=False)\n",
    "    except:\n",
    "        print(tcin)\n",
    "        pass\n",
    "\n",
    "products_df = pd.DataFrame(products)\n",
    "products_df.to_csv(op_file_path, index=False)"
   ]
  },
  {
   "cell_type": "code",
   "execution_count": 30,
   "id": "10acfcb8",
   "metadata": {
    "ExecuteTime": {
     "end_time": "2021-12-05T18:41:14.436547Z",
     "start_time": "2021-12-05T18:25:24.451607Z"
    }
   },
   "outputs": [
    {
     "data": {
      "application/vnd.jupyter.widget-view+json": {
       "model_id": "6c3e752df1714a009d1cbb2e15348838",
       "version_major": 2,
       "version_minor": 0
      },
      "text/plain": [
       "  0%|          | 0/21611 [00:00<?, ?it/s]"
      ]
     },
     "metadata": {},
     "output_type": "display_data"
    }
   ],
   "source": [
    "op_file_path = os.path.join(ip_file_dir, 'product_images.csv')\n",
    "products = []\n",
    "for i, tcin in enumerate(tqdm(total_tcin)):\n",
    "    try:\n",
    "        path = os.path.join(ip_file_dir, str(tcin) + '_details.html')\n",
    "        with open(path) as f:\n",
    "            html = f.read()\n",
    "        details_soup = BeautifulSoup(html)\n",
    "\n",
    "        product = {}\n",
    "        product['tcin'] = tcin\n",
    "        product['images'] = get_images(details_soup)\n",
    "\n",
    "        products.append(product)\n",
    "\n",
    "        if i % 50 == 0:\n",
    "            products_df = pd.DataFrame(products)\n",
    "            products_df.to_csv(op_file_path, index=False)\n",
    "    except:\n",
    "        print(tcin)\n",
    "        pass\n",
    "\n",
    "products_df = pd.DataFrame(products)\n",
    "products_df.to_csv(op_file_path, index=False)\n",
    "product_images = pd.read_csv(op_file_path)"
   ]
  },
  {
   "cell_type": "code",
   "execution_count": 8,
   "id": "f7523ee3",
   "metadata": {
    "ExecuteTime": {
     "end_time": "2021-12-06T18:58:42.762961Z",
     "start_time": "2021-12-06T18:58:42.709775Z"
    }
   },
   "outputs": [],
   "source": [
    "product_image = pd.read_csv(op_file_path)"
   ]
  },
  {
   "cell_type": "code",
   "execution_count": 9,
   "id": "ff4db190",
   "metadata": {
    "ExecuteTime": {
     "end_time": "2021-12-06T18:58:45.097787Z",
     "start_time": "2021-12-06T18:58:44.399569Z"
    }
   },
   "outputs": [],
   "source": [
    "op_file_path = os.path.join(ip_file_dir, 'products.csv')\n",
    "products = pd.read_csv(op_file_path)"
   ]
  },
  {
   "cell_type": "code",
   "execution_count": 11,
   "id": "82e54a42",
   "metadata": {
    "ExecuteTime": {
     "end_time": "2021-12-06T18:58:53.883908Z",
     "start_time": "2021-12-06T18:58:53.856952Z"
    }
   },
   "outputs": [],
   "source": [
    "products_new = pd.merge(products, product_image, how='left', on='tcin')"
   ]
  },
  {
   "cell_type": "code",
   "execution_count": 14,
   "id": "d490fd89",
   "metadata": {
    "ExecuteTime": {
     "end_time": "2021-12-06T18:59:21.895626Z",
     "start_time": "2021-12-06T18:59:20.775056Z"
    }
   },
   "outputs": [],
   "source": [
    "products_new.to_csv(op_file_path, index=False)"
   ]
  },
  {
   "cell_type": "code",
   "execution_count": 15,
   "id": "2a50c65c",
   "metadata": {
    "ExecuteTime": {
     "end_time": "2021-12-06T18:59:24.242995Z",
     "start_time": "2021-12-06T18:59:23.540466Z"
    }
   },
   "outputs": [],
   "source": [
    "products = pd.read_csv(op_file_path)"
   ]
  },
  {
   "cell_type": "code",
   "execution_count": 17,
   "id": "6ec19538",
   "metadata": {
    "ExecuteTime": {
     "end_time": "2021-12-06T18:59:27.834645Z",
     "start_time": "2021-12-06T18:59:27.827344Z"
    }
   },
   "outputs": [
    {
     "data": {
      "text/plain": [
       "'https://target.scene7.com/is/image/Target/GUEST_698105e1-7ef4-4728-b1a7-bf3de6082cae?wid=588&hei=588&qlt=80&fmt=webp'"
      ]
     },
     "execution_count": 17,
     "metadata": {},
     "output_type": "execute_result"
    }
   ],
   "source": [
    "products['image'].iloc[0]"
   ]
  },
  {
   "cell_type": "code",
   "execution_count": 70,
   "id": "ed26a35d",
   "metadata": {
    "ExecuteTime": {
     "end_time": "2021-12-05T19:07:07.758843Z",
     "start_time": "2021-12-05T19:07:07.753969Z"
    }
   },
   "outputs": [],
   "source": [
    "import ast"
   ]
  },
  {
   "cell_type": "code",
   "execution_count": 71,
   "id": "d938cce3",
   "metadata": {
    "ExecuteTime": {
     "end_time": "2021-12-05T19:07:12.519681Z",
     "start_time": "2021-12-05T19:07:09.967643Z"
    }
   },
   "outputs": [],
   "source": [
    "products['images'] = [ast.literal_eval(image_list) \n",
    "                      if not pd.isnull(image_list) \n",
    "                      else np.nan \n",
    "                      for image_list in products['images']]\n",
    "products['highlights'] = [ast.literal_eval(image_list) \n",
    "                      if not pd.isnull(image_list) \n",
    "                      else np.nan \n",
    "                      for image_list in products['highlights']]\n",
    "products['specifications'] = [ast.literal_eval(image_list) \n",
    "                      if not pd.isnull(image_list) \n",
    "                      else np.nan \n",
    "                      for image_list in products['specifications']]\n",
    "products['serving_info'] = [ast.literal_eval(image_list) \n",
    "                      if not pd.isnull(image_list) \n",
    "                      else np.nan \n",
    "                      for image_list in products['serving_info']]\n",
    "products['nutrition_info'] = [ast.literal_eval(image_list) \n",
    "                      if not pd.isnull(image_list) \n",
    "                      else np.nan \n",
    "                      for image_list in products['nutrition_info']]"
   ]
  },
  {
   "cell_type": "code",
   "execution_count": 72,
   "id": "0a84e579",
   "metadata": {
    "ExecuteTime": {
     "end_time": "2021-12-05T19:07:18.432928Z",
     "start_time": "2021-12-05T19:07:17.320988Z"
    }
   },
   "outputs": [],
   "source": [
    "products_new.to_csv(op_file_path, index=False)"
   ]
  },
  {
   "cell_type": "code",
   "execution_count": 73,
   "id": "c33f8105",
   "metadata": {
    "ExecuteTime": {
     "end_time": "2021-12-05T19:10:14.604977Z",
     "start_time": "2021-12-05T19:10:13.686249Z"
    }
   },
   "outputs": [],
   "source": [
    "products = pd.read_csv(op_file_path)"
   ]
  },
  {
   "cell_type": "code",
   "execution_count": 40,
   "id": "54396584",
   "metadata": {
    "ExecuteTime": {
     "end_time": "2021-12-05T18:43:25.289320Z",
     "start_time": "2021-12-05T18:43:25.251240Z"
    }
   },
   "outputs": [
    {
     "data": {
      "text/html": [
       "<div>\n",
       "<style scoped>\n",
       "    .dataframe tbody tr th:only-of-type {\n",
       "        vertical-align: middle;\n",
       "    }\n",
       "\n",
       "    .dataframe tbody tr th {\n",
       "        vertical-align: top;\n",
       "    }\n",
       "\n",
       "    .dataframe thead th {\n",
       "        text-align: right;\n",
       "    }\n",
       "</style>\n",
       "<table border=\"1\" class=\"dataframe\">\n",
       "  <thead>\n",
       "    <tr style=\"text-align: right;\">\n",
       "      <th></th>\n",
       "      <th>tcin</th>\n",
       "      <th>price</th>\n",
       "      <th>rating</th>\n",
       "      <th>n_reviews</th>\n",
       "      <th>highlights</th>\n",
       "      <th>specifications</th>\n",
       "      <th>description</th>\n",
       "      <th>serving_info</th>\n",
       "      <th>nutrition_info</th>\n",
       "      <th>ingredients</th>\n",
       "      <th>allergens</th>\n",
       "      <th>images</th>\n",
       "    </tr>\n",
       "  </thead>\n",
       "  <tbody>\n",
       "    <tr>\n",
       "      <th>3</th>\n",
       "      <td>77332491</td>\n",
       "      <td>8.69</td>\n",
       "      <td>3.0</td>\n",
       "      <td>143.0</td>\n",
       "      <td>['One 20 oz. package of Air Fried Perfectly Cr...</td>\n",
       "      <td>['Country of Origin: United States', 'TCIN: 77...</td>\n",
       "      <td>Enjoy the crispy, delicious flavor of fried ch...</td>\n",
       "      <td>['Serving Size: 3 oz', 'Serving Per Container:...</td>\n",
       "      <td>[['Total Fat', '4g'], ['Saturated Fat', '1g'],...</td>\n",
       "      <td>boneless, skinless chicken breast with rib mea...</td>\n",
       "      <td>Allergens &amp; Warnings:CONTAINS: WHEAT</td>\n",
       "      <td>['https://target.scene7.com/is/image/Target/GU...</td>\n",
       "    </tr>\n",
       "  </tbody>\n",
       "</table>\n",
       "</div>"
      ],
      "text/plain": [
       "       tcin  price  rating  n_reviews  \\\n",
       "3  77332491   8.69     3.0      143.0   \n",
       "\n",
       "                                          highlights  \\\n",
       "3  ['One 20 oz. package of Air Fried Perfectly Cr...   \n",
       "\n",
       "                                      specifications  \\\n",
       "3  ['Country of Origin: United States', 'TCIN: 77...   \n",
       "\n",
       "                                         description  \\\n",
       "3  Enjoy the crispy, delicious flavor of fried ch...   \n",
       "\n",
       "                                        serving_info  \\\n",
       "3  ['Serving Size: 3 oz', 'Serving Per Container:...   \n",
       "\n",
       "                                      nutrition_info  \\\n",
       "3  [['Total Fat', '4g'], ['Saturated Fat', '1g'],...   \n",
       "\n",
       "                                         ingredients  \\\n",
       "3  boneless, skinless chicken breast with rib mea...   \n",
       "\n",
       "                              allergens  \\\n",
       "3  Allergens & Warnings:CONTAINS: WHEAT   \n",
       "\n",
       "                                              images  \n",
       "3  ['https://target.scene7.com/is/image/Target/GU...  "
      ]
     },
     "execution_count": 40,
     "metadata": {},
     "output_type": "execute_result"
    }
   ],
   "source": [
    "tcin = 77332491\n",
    "products[products['tcin'] == tcin]"
   ]
  },
  {
   "cell_type": "code",
   "execution_count": 41,
   "id": "785ce729",
   "metadata": {
    "ExecuteTime": {
     "end_time": "2021-12-05T18:43:35.460533Z",
     "start_time": "2021-12-05T18:43:35.438202Z"
    }
   },
   "outputs": [],
   "source": [
    "import ast\n",
    "highlights = ast.literal_eval(products[products['tcin'] == tcin]['highlights'].values[0])\n",
    "specifications = ast.literal_eval(products[products['tcin'] == tcin]['specifications'].values[0])\n",
    "description = products[products['tcin'] == tcin]['description'].values[0]\n",
    "serving_info = ast.literal_eval(products[products['tcin'] == tcin]['serving_info'].values[0])\n",
    "nutrition_info = ast.literal_eval(products[products['tcin'] == tcin]['nutrition_info'].values[0])\n",
    "ingredients = products[products['tcin'] == tcin]['ingredients'].values[0]\n",
    "allergens = products[products['tcin'] == tcin]['allergens'].values[0]"
   ]
  }
 ],
 "metadata": {
  "kernelspec": {
   "display_name": "Python 3 (ipykernel)",
   "language": "python",
   "name": "python3"
  },
  "language_info": {
   "codemirror_mode": {
    "name": "ipython",
    "version": 3
   },
   "file_extension": ".py",
   "mimetype": "text/x-python",
   "name": "python",
   "nbconvert_exporter": "python",
   "pygments_lexer": "ipython3",
   "version": "3.8.8"
  }
 },
 "nbformat": 4,
 "nbformat_minor": 5
}
