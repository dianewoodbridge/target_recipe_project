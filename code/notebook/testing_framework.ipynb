{
 "cells": [
  {
   "cell_type": "code",
   "execution_count": 11,
   "id": "0409a15d",
   "metadata": {
    "ExecuteTime": {
     "end_time": "2022-01-10T20:55:30.495707Z",
     "start_time": "2022-01-10T20:55:29.436249Z"
    }
   },
   "outputs": [],
   "source": [
    "import requests\n",
    "import json\n",
    "import re\n",
    "import os\n",
    "import pandas as pd \n",
    "import numpy as np\n",
    "import random\n",
    "import pickle\n",
    "from recipe_loading import *\n",
    "from qty_mapping import *"
   ]
  },
  {
   "cell_type": "code",
   "execution_count": 12,
   "id": "07cc94fb",
   "metadata": {
    "ExecuteTime": {
     "end_time": "2022-01-10T20:55:32.915302Z",
     "start_time": "2022-01-10T20:55:30.497085Z"
    }
   },
   "outputs": [],
   "source": [
    "from sentence_transformers import SentenceTransformer, CrossEncoder\n",
    "from ranker import TransformerRanker, CrossEncoderRanker\n",
    "from preprocessor import *\n",
    "from mapper import Mapper\n",
    "from display_products import DisplayProducts\n",
    "import joblib"
   ]
  },
  {
   "cell_type": "markdown",
   "id": "4a437b95",
   "metadata": {},
   "source": [
    "The steps followed here are:\n",
    "\n",
    "1) Load 1m recipe\n",
    "2) Standardise the units\n",
    "3) Load density info\n",
    "4) Calculate the required amount of each ingredient"
   ]
  },
  {
   "cell_type": "code",
   "execution_count": 13,
   "id": "ff737de3",
   "metadata": {
    "ExecuteTime": {
     "end_time": "2022-01-10T20:55:32.917577Z",
     "start_time": "2022-01-10T20:55:32.916118Z"
    }
   },
   "outputs": [],
   "source": [
    "# import zipfile\n",
    "# corpus_zip = zipfile.ZipFile('/Users/mvellera/USF/Intersession/Practicum (Target)/Data/recipe1M_layers/layer1.zip', 'r')\n",
    "# recipe_str = corpus_zip.read(corpus_zip.namelist()[0])\n",
    "# recipe = json.loads(recipe_str)"
   ]
  },
  {
   "cell_type": "code",
   "execution_count": 14,
   "id": "ab102734",
   "metadata": {
    "ExecuteTime": {
     "end_time": "2022-01-10T20:57:52.141401Z",
     "start_time": "2022-01-10T20:55:32.919009Z"
    }
   },
   "outputs": [],
   "source": [
    "# filepath = \"/Users/mvellera/USF/Intersession/Practicum (Target)/Data/recipe1M_layers/layer1.json\"\n",
    "# op_file_path = \"data/ing_density.csv\"\n",
    "filepath = \"/Users/chahaksethi/Desktop/Target/data/1m_recipe/recipe1M_layers/layer1.json\"\n",
    "op_file_path = \"../../data/ing_density.csv\"\n",
    "\n",
    "with open(filepath) as json_data:\n",
    "    recipe = json.load(json_data)"
   ]
  },
  {
   "cell_type": "code",
   "execution_count": 15,
   "id": "b21064bb",
   "metadata": {},
   "outputs": [],
   "source": [
    "# filepath = \"/Users/mvellera/USF/Intersession/Practicum (Target)/Data/recipe1M_layers/layer2.json\"\n",
    "# filepath = \"/Users/chahaksethi/Desktop/Target/data/1m_recipe/recipe1M_layers/layer2.json\"\n",
    "# with open(filepath) as json_data:\n",
    "#     recipe_images = json.load(json_data)"
   ]
  },
  {
   "cell_type": "code",
   "execution_count": 16,
   "id": "eb7fda85",
   "metadata": {
    "ExecuteTime": {
     "end_time": "2022-01-10T20:57:52.156588Z",
     "start_time": "2022-01-10T20:57:52.147462Z"
    }
   },
   "outputs": [],
   "source": [
    "unit_abbreviation = { 'tbsp' : ['tbsp', \"tablespoon\",\"tablespoons\"],\n",
    "                      'tsp' : ['tsp', 'teaspoon', 'teaspoons'],\n",
    "                     'ml' : ['ml', 'milliliter','milliliters'],\n",
    "                     'cup' : ['cups','cup'],\n",
    "                     'oz' : ['ounces','oz', 'ounce'] , \n",
    "                     'lb' : ['pound','lb','lbs','lbs.']\n",
    "}"
   ]
  },
  {
   "cell_type": "code",
   "execution_count": 17,
   "id": "64f05933",
   "metadata": {
    "ExecuteTime": {
     "end_time": "2022-01-10T20:57:52.161195Z",
     "start_time": "2022-01-10T20:57:52.158293Z"
    }
   },
   "outputs": [],
   "source": [
    "# # loading recipe\n",
    "# dict_ingredients= recipe_load(n=2, recipe=recipe)\n",
    "# df_combined_ing = pd.DataFrame.from_dict(dict_ingredients)\n",
    "# df_combined_ing"
   ]
  },
  {
   "cell_type": "code",
   "execution_count": 18,
   "id": "6bfb406e",
   "metadata": {
    "ExecuteTime": {
     "end_time": "2022-01-10T20:57:55.762097Z",
     "start_time": "2022-01-10T20:57:52.162647Z"
    }
   },
   "outputs": [],
   "source": [
    "# Set input file directory\n",
    "ip_file_dir = \"../../data/\"\n",
    "\n",
    "# Get grocery product hierarchy information\n",
    "group10 = pd.read_csv(os.path.join(ip_file_dir, \n",
    "                                   'group10_header.csv'),\n",
    "                      sep='\\t', \n",
    "                      low_memory=False)\n",
    "\n",
    "# Get scraped information for the above products\n",
    "products = pd.read_csv(os.path.join(ip_file_dir,\n",
    "                                    'scraped/products.csv'))\n",
    "\n",
    "# Merge scraped information into the hierarchy table\n",
    "group10 = pd.merge(group10, products, \n",
    "                   how = 'left', on = 'tcin')\n",
    "\n",
    "# Preprocess the table\n",
    "group10 = preprocess_df(group10)"
   ]
  },
  {
   "cell_type": "code",
   "execution_count": 19,
   "id": "eacb8f15",
   "metadata": {
    "ExecuteTime": {
     "end_time": "2022-01-10T20:57:55.766819Z",
     "start_time": "2022-01-10T20:57:55.765238Z"
    }
   },
   "outputs": [],
   "source": [
    "bi_encoder_name = \"multi-qa-MiniLM-L6-cos-v1\"\n",
    "cross_encoder_name = \"cross-encoder/ms-marco-MiniLM-L-4-v2\"\n",
    "k=3"
   ]
  },
  {
   "cell_type": "code",
   "execution_count": 21,
   "id": "e0f94a27",
   "metadata": {
    "ExecuteTime": {
     "end_time": "2022-01-10T20:58:09.209832Z",
     "start_time": "2022-01-10T20:57:55.770031Z"
    }
   },
   "outputs": [
    {
     "ename": "HTTPError",
     "evalue": "503 Server Error: Service Temporarily Unavailable for url: https://huggingface.co/api/models/sentence-transformers/multi-qa-MiniLM-L6-cos-v1",
     "output_type": "error",
     "traceback": [
      "\u001b[0;31m---------------------------------------------------------------------------\u001b[0m",
      "\u001b[0;31mHTTPError\u001b[0m                                 Traceback (most recent call last)",
      "\u001b[0;32m/var/folders/fd/fg4j4jtn11q95kb2m8q10q1c0000gn/T/ipykernel_64069/2018729825.py\u001b[0m in \u001b[0;36m<module>\u001b[0;34m\u001b[0m\n\u001b[1;32m     15\u001b[0m     \u001b[0;32mreturn\u001b[0m \u001b[0mdf\u001b[0m\u001b[0;34m\u001b[0m\u001b[0;34m\u001b[0m\u001b[0m\n\u001b[1;32m     16\u001b[0m \u001b[0;34m\u001b[0m\u001b[0m\n\u001b[0;32m---> 17\u001b[0;31m \u001b[0mbi_encoder\u001b[0m \u001b[0;34m=\u001b[0m \u001b[0mSentenceTransformer\u001b[0m\u001b[0;34m(\u001b[0m\u001b[0mbi_encoder_name\u001b[0m\u001b[0;34m)\u001b[0m\u001b[0;34m\u001b[0m\u001b[0;34m\u001b[0m\u001b[0m\n\u001b[0m\u001b[1;32m     18\u001b[0m \u001b[0;34m\u001b[0m\u001b[0m\n\u001b[1;32m     19\u001b[0m \u001b[0;31m# Get list of preprocessed product titles\u001b[0m\u001b[0;34m\u001b[0m\u001b[0;34m\u001b[0m\u001b[0;34m\u001b[0m\u001b[0m\n",
      "\u001b[0;32m~/opt/anaconda3/lib/python3.8/site-packages/sentence_transformers/SentenceTransformer.py\u001b[0m in \u001b[0;36m__init__\u001b[0;34m(self, model_name_or_path, modules, device, cache_folder)\u001b[0m\n\u001b[1;32m     78\u001b[0m \u001b[0;34m\u001b[0m\u001b[0m\n\u001b[1;32m     79\u001b[0m                 \u001b[0;31m# Download from hub with caching\u001b[0m\u001b[0;34m\u001b[0m\u001b[0;34m\u001b[0m\u001b[0;34m\u001b[0m\u001b[0m\n\u001b[0;32m---> 80\u001b[0;31m                 snapshot_download(model_name_or_path,\n\u001b[0m\u001b[1;32m     81\u001b[0m                                     \u001b[0mcache_dir\u001b[0m\u001b[0;34m=\u001b[0m\u001b[0mcache_folder\u001b[0m\u001b[0;34m,\u001b[0m\u001b[0;34m\u001b[0m\u001b[0;34m\u001b[0m\u001b[0m\n\u001b[1;32m     82\u001b[0m                                     \u001b[0mlibrary_name\u001b[0m\u001b[0;34m=\u001b[0m\u001b[0;34m'sentence-transformers'\u001b[0m\u001b[0;34m,\u001b[0m\u001b[0;34m\u001b[0m\u001b[0;34m\u001b[0m\u001b[0m\n",
      "\u001b[0;32m~/opt/anaconda3/lib/python3.8/site-packages/sentence_transformers/util.py\u001b[0m in \u001b[0;36msnapshot_download\u001b[0;34m(repo_id, revision, cache_dir, library_name, library_version, user_agent, ignore_files)\u001b[0m\n\u001b[1;32m    424\u001b[0m \u001b[0;34m\u001b[0m\u001b[0m\n\u001b[1;32m    425\u001b[0m     \u001b[0m_api\u001b[0m \u001b[0;34m=\u001b[0m \u001b[0mHfApi\u001b[0m\u001b[0;34m(\u001b[0m\u001b[0;34m)\u001b[0m\u001b[0;34m\u001b[0m\u001b[0;34m\u001b[0m\u001b[0m\n\u001b[0;32m--> 426\u001b[0;31m     \u001b[0mmodel_info\u001b[0m \u001b[0;34m=\u001b[0m \u001b[0m_api\u001b[0m\u001b[0;34m.\u001b[0m\u001b[0mmodel_info\u001b[0m\u001b[0;34m(\u001b[0m\u001b[0mrepo_id\u001b[0m\u001b[0;34m=\u001b[0m\u001b[0mrepo_id\u001b[0m\u001b[0;34m,\u001b[0m \u001b[0mrevision\u001b[0m\u001b[0;34m=\u001b[0m\u001b[0mrevision\u001b[0m\u001b[0;34m)\u001b[0m\u001b[0;34m\u001b[0m\u001b[0;34m\u001b[0m\u001b[0m\n\u001b[0m\u001b[1;32m    427\u001b[0m \u001b[0;34m\u001b[0m\u001b[0m\n\u001b[1;32m    428\u001b[0m     storage_folder = os.path.join(\n",
      "\u001b[0;32m~/opt/anaconda3/lib/python3.8/site-packages/huggingface_hub/hf_api.py\u001b[0m in \u001b[0;36mmodel_info\u001b[0;34m(self, repo_id, revision, token, timeout)\u001b[0m\n\u001b[1;32m    584\u001b[0m         )\n\u001b[1;32m    585\u001b[0m         \u001b[0mr\u001b[0m \u001b[0;34m=\u001b[0m \u001b[0mrequests\u001b[0m\u001b[0;34m.\u001b[0m\u001b[0mget\u001b[0m\u001b[0;34m(\u001b[0m\u001b[0mpath\u001b[0m\u001b[0;34m,\u001b[0m \u001b[0mheaders\u001b[0m\u001b[0;34m=\u001b[0m\u001b[0mheaders\u001b[0m\u001b[0;34m,\u001b[0m \u001b[0mtimeout\u001b[0m\u001b[0;34m=\u001b[0m\u001b[0mtimeout\u001b[0m\u001b[0;34m)\u001b[0m\u001b[0;34m\u001b[0m\u001b[0;34m\u001b[0m\u001b[0m\n\u001b[0;32m--> 586\u001b[0;31m         \u001b[0mr\u001b[0m\u001b[0;34m.\u001b[0m\u001b[0mraise_for_status\u001b[0m\u001b[0;34m(\u001b[0m\u001b[0;34m)\u001b[0m\u001b[0;34m\u001b[0m\u001b[0;34m\u001b[0m\u001b[0m\n\u001b[0m\u001b[1;32m    587\u001b[0m         \u001b[0md\u001b[0m \u001b[0;34m=\u001b[0m \u001b[0mr\u001b[0m\u001b[0;34m.\u001b[0m\u001b[0mjson\u001b[0m\u001b[0;34m(\u001b[0m\u001b[0;34m)\u001b[0m\u001b[0;34m\u001b[0m\u001b[0;34m\u001b[0m\u001b[0m\n\u001b[1;32m    588\u001b[0m         \u001b[0;32mreturn\u001b[0m \u001b[0mModelInfo\u001b[0m\u001b[0;34m(\u001b[0m\u001b[0;34m**\u001b[0m\u001b[0md\u001b[0m\u001b[0;34m)\u001b[0m\u001b[0;34m\u001b[0m\u001b[0;34m\u001b[0m\u001b[0m\n",
      "\u001b[0;32m~/opt/anaconda3/lib/python3.8/site-packages/requests/models.py\u001b[0m in \u001b[0;36mraise_for_status\u001b[0;34m(self)\u001b[0m\n\u001b[1;32m    951\u001b[0m \u001b[0;34m\u001b[0m\u001b[0m\n\u001b[1;32m    952\u001b[0m         \u001b[0;32mif\u001b[0m \u001b[0mhttp_error_msg\u001b[0m\u001b[0;34m:\u001b[0m\u001b[0;34m\u001b[0m\u001b[0;34m\u001b[0m\u001b[0m\n\u001b[0;32m--> 953\u001b[0;31m             \u001b[0;32mraise\u001b[0m \u001b[0mHTTPError\u001b[0m\u001b[0;34m(\u001b[0m\u001b[0mhttp_error_msg\u001b[0m\u001b[0;34m,\u001b[0m \u001b[0mresponse\u001b[0m\u001b[0;34m=\u001b[0m\u001b[0mself\u001b[0m\u001b[0;34m)\u001b[0m\u001b[0;34m\u001b[0m\u001b[0;34m\u001b[0m\u001b[0m\n\u001b[0m\u001b[1;32m    954\u001b[0m \u001b[0;34m\u001b[0m\u001b[0m\n\u001b[1;32m    955\u001b[0m     \u001b[0;32mdef\u001b[0m \u001b[0mclose\u001b[0m\u001b[0;34m(\u001b[0m\u001b[0mself\u001b[0m\u001b[0;34m)\u001b[0m\u001b[0;34m:\u001b[0m\u001b[0;34m\u001b[0m\u001b[0;34m\u001b[0m\u001b[0m\n",
      "\u001b[0;31mHTTPError\u001b[0m: 503 Server Error: Service Temporarily Unavailable for url: https://huggingface.co/api/models/sentence-transformers/multi-qa-MiniLM-L6-cos-v1"
     ]
    }
   ],
   "source": [
    "def get_embeddings(path):\n",
    "#Load sentences & embeddings from disc\n",
    "    with open(path, \"rb\") as fIn:\n",
    "        stored_data = pickle.load(fIn)\n",
    "        stored_embeddings = stored_data['embeddings']\n",
    "    return stored_embeddings\n",
    "    \n",
    "def get_tcin_sentence_map(path):\n",
    "#Load sentences & embeddings from disc\n",
    "    with open(path, \"rb\") as fIn:\n",
    "        stored_data = pickle.load(fIn)\n",
    "        df = pd.DataFrame()\n",
    "        df['tcin'] = stored_data['ids']\n",
    "        df['sentence'] = stored_data['sentences']\n",
    "    return df\n",
    "\n",
    "bi_encoder = SentenceTransformer(bi_encoder_name)\n",
    "\n",
    "# Get list of preprocessed product titles\n",
    "product_titles = group10['title'].str.lower().values\n",
    "\n",
    "l1_ranker = TransformerRanker(model=bi_encoder, product_ids=group10['tcin'], max_rank=3)\n",
    "with open('../../data/embeddings/hier_embeddings3.pkl', \"rb\") as fIn:\n",
    "    stored_data = pickle.load(fIn)\n",
    "    stored_ids = stored_data['ids']\n",
    "    stored_sentences = stored_data['sentences']\n",
    "    stored_embeddings = stored_data['embeddings']\n",
    "df = pd.DataFrame()\n",
    "df['id'] = stored_data['ids']\n",
    "df['sentence'] = stored_data['sentences']\n",
    "l1_ranker.load_embeddings(stored_embeddings)\n",
    "\n",
    "cross_encoder_model = CrossEncoder('cross-encoder/ms-marco-MiniLM-L-12-v2', max_length=512)\n",
    "l2_ranker = CrossEncoderRanker(bi_model=l1_ranker, \n",
    "                                cross_model=cross_encoder_model, \n",
    "                                tcin_sentence_map=get_tcin_sentence_map('../../data/embeddings/hier_embeddings3.pkl'),\n",
    "                                cross_rank=k,\n",
    "                                bi_rank=30)\n",
    "\n",
    "pm = Mapper(group10)\n",
    "dp = DisplayProducts(ranker=l2_ranker, mapper=pm)"
   ]
  },
  {
   "cell_type": "code",
   "execution_count": 22,
   "id": "cb37a388",
   "metadata": {
    "ExecuteTime": {
     "end_time": "2022-01-10T21:26:15.727113Z",
     "start_time": "2022-01-10T21:26:15.595630Z"
    }
   },
   "outputs": [
    {
     "name": "stdout",
     "output_type": "stream",
     "text": [
      "Recipe: Chicken Cordon Bleu Roll-Ups\n"
     ]
    },
    {
     "name": "stderr",
     "output_type": "stream",
     "text": [
      "/Users/chahaksethi/Desktop/Target/target/target_recipe_project/code/notebook/qty_mapping.py:56: FutureWarning: Columnar iteration over characters will be deprecated in future releases.\n",
      "  combined_ingredient_df['standard_vol'],combined_ingredient_df['standard_weight_gm'],\\\n"
     ]
    }
   ],
   "source": [
    "# Get random recipe from the 1M recipe corpus\n",
    "# i = random.randint(0, 1000000)\n",
    "# print(i)\n",
    "dict_ingredients= recipe_load_index(4623, recipe)\n",
    "df_combined_ing = pd.DataFrame.from_dict(dict_ingredients)\n",
    "df_combined_ing['quantity'] = df_combined_ing['quantity'].apply(convert_fraction)\n",
    "df_combined_ing['quantity'] = df_combined_ing['quantity'].apply(float)\n",
    "\n",
    "\n",
    "qty = Qty_normal_map(unit_abbreviation = unit_abbreviation, op_file_path= op_file_path)\n",
    "combined_ingredient_df=qty.normalize_units(df_combined_ing)\n",
    "\n",
    "# required for multiple recipes - combining qty\n",
    "combined_ingredient_df = df_combined_ing.groupby(by=['ingredient', 'normalized_unit'], \n",
    "                                               as_index = False)\\\n",
    "                                      .agg({'quantity': 'sum', 'Volume_in_ml': 'sum'})\n",
    "#using density info calculating required ounces for each ingredient\n",
    "final_df = qty.req_oz_recipe(combined_ingredient_df)\n"
   ]
  },
  {
   "cell_type": "code",
   "execution_count": 23,
   "id": "887bdcd5",
   "metadata": {},
   "outputs": [],
   "source": [
    "# import matplotlib.pyplot as plt\n",
    "# urls = []\n",
    "# for recipe_image in recipe_images:\n",
    "#     if recipe_image['id'] == 'ca596d5fad':\n",
    "#         for image in recipe_image['images']:\n",
    "#             urls.append(image['url'])\n",
    "# images = pm.get_images_urls(urls)\n",
    "\n",
    "# plt.figure(figsize=(20,10))\n",
    "# columns = 3\n",
    "# for i in range(len(images)):\n",
    "#     ax = plt.subplot(int(len(images) / columns) + 1, columns, i + 1)\n",
    "#     plt.axis('off')\n",
    "#     # plt.title(titles[i])\n",
    "#     plt.imshow(images[i])"
   ]
  },
  {
   "cell_type": "code",
   "execution_count": 24,
   "id": "40976827",
   "metadata": {
    "ExecuteTime": {
     "end_time": "2022-01-10T21:26:16.494557Z",
     "start_time": "2022-01-10T21:26:16.484730Z"
    }
   },
   "outputs": [
    {
     "data": {
      "text/plain": [
       "{'ingredients': [{'text': '1 tube crescent rolls'},\n",
       "  {'text': '1 tbsp. extra-virgin olive oil'},\n",
       "  {'text': '3/4 lb. Boneless Skinless Chicken Breast'},\n",
       "  {'text': '3 tbsp. dijon'},\n",
       "  {'text': '1 tsp. honey'},\n",
       "  {'text': '1/2 lb. thinly sliced deli ham'},\n",
       "  {'text': '1/4 lb. thinly sliced gruyere'}],\n",
       " 'url': 'http://www.delish.com/cooking/recipe-ideas/recipes/a44346/chicken-cordon-bleu-roll-ups-recipe/',\n",
       " 'partition': 'test',\n",
       " 'title': 'Chicken Cordon Bleu Roll-Ups',\n",
       " 'id': '01230b9a65',\n",
       " 'instructions': [{'text': 'Preheat oven to 350 degrees F. On a floured work surface, roll out crescent rolls into one large rectangle, pinching together seams.'},\n",
       "  {'text': 'In a large skillet over medium-high heat, heat oil.'},\n",
       "  {'text': 'Cook chicken until cooked through and golden, 4 to 6 minutes per side.'},\n",
       "  {'text': 'Transfer to a cutting board and thinly slice.'},\n",
       "  {'text': 'In a small bowl, stir together Dijon and honey.'},\n",
       "  {'text': 'Spread honey mustard all over Crescent rectangle and layer with ham, chicken, and gruyere.'},\n",
       "  {'text': 'Starting from the bottom, tightly roll up the rectangle like a cinnamon roll, then slice into four rolls.'},\n",
       "  {'text': 'Transfer to a glass baking dish and bake until puffed and golden, 15 to 20 minutes.'}]}"
      ]
     },
     "execution_count": 24,
     "metadata": {},
     "output_type": "execute_result"
    }
   ],
   "source": [
    "recipe[4623]"
   ]
  },
  {
   "cell_type": "code",
   "execution_count": 25,
   "id": "4d4073f1",
   "metadata": {
    "ExecuteTime": {
     "end_time": "2022-01-10T21:26:17.017746Z",
     "start_time": "2022-01-10T21:26:16.985754Z"
    }
   },
   "outputs": [
    {
     "data": {
      "text/html": [
       "<div>\n",
       "<style scoped>\n",
       "    .dataframe tbody tr th:only-of-type {\n",
       "        vertical-align: middle;\n",
       "    }\n",
       "\n",
       "    .dataframe tbody tr th {\n",
       "        vertical-align: top;\n",
       "    }\n",
       "\n",
       "    .dataframe thead th {\n",
       "        text-align: right;\n",
       "    }\n",
       "</style>\n",
       "<table border=\"1\" class=\"dataframe\">\n",
       "  <thead>\n",
       "    <tr style=\"text-align: right;\">\n",
       "      <th></th>\n",
       "      <th>ingredient</th>\n",
       "      <th>normalized_unit</th>\n",
       "      <th>quantity</th>\n",
       "      <th>Volume_in_ml</th>\n",
       "      <th>tuple</th>\n",
       "      <th>standard_vol</th>\n",
       "      <th>standard_weight_gm</th>\n",
       "      <th>standard_unit</th>\n",
       "    </tr>\n",
       "  </thead>\n",
       "  <tbody>\n",
       "    <tr>\n",
       "      <th>0</th>\n",
       "      <td>Boneless Skinless Chicken Breast</td>\n",
       "      <td>lb</td>\n",
       "      <td>0.75</td>\n",
       "      <td>360.0</td>\n",
       "      <td>(4.0, 113.0, oz)</td>\n",
       "      <td>4.0</td>\n",
       "      <td>113.0</td>\n",
       "      <td>oz</td>\n",
       "    </tr>\n",
       "    <tr>\n",
       "      <th>1</th>\n",
       "      <td>dijon</td>\n",
       "      <td>tbsp</td>\n",
       "      <td>3.00</td>\n",
       "      <td>45.0</td>\n",
       "      <td>(1.0, 15.0, tablespoon)</td>\n",
       "      <td>1.0</td>\n",
       "      <td>15.0</td>\n",
       "      <td>tablespoon</td>\n",
       "    </tr>\n",
       "    <tr>\n",
       "      <th>2</th>\n",
       "      <td>extra-virgin olive oil</td>\n",
       "      <td>tbsp</td>\n",
       "      <td>1.00</td>\n",
       "      <td>15.0</td>\n",
       "      <td>(100.0, 90.7, )</td>\n",
       "      <td>100.0</td>\n",
       "      <td>90.7</td>\n",
       "      <td></td>\n",
       "    </tr>\n",
       "    <tr>\n",
       "      <th>3</th>\n",
       "      <td>honey</td>\n",
       "      <td>tsp</td>\n",
       "      <td>1.00</td>\n",
       "      <td>5.0</td>\n",
       "      <td>(1.0, 339.0, cup)</td>\n",
       "      <td>1.0</td>\n",
       "      <td>339.0</td>\n",
       "      <td>cup</td>\n",
       "    </tr>\n",
       "    <tr>\n",
       "      <th>4</th>\n",
       "      <td>thinly sliced deli ham</td>\n",
       "      <td>lb</td>\n",
       "      <td>0.50</td>\n",
       "      <td>240.0</td>\n",
       "      <td>(None, None, )</td>\n",
       "      <td>NaN</td>\n",
       "      <td>NaN</td>\n",
       "      <td></td>\n",
       "    </tr>\n",
       "    <tr>\n",
       "      <th>5</th>\n",
       "      <td>thinly sliced gruyere</td>\n",
       "      <td>lb</td>\n",
       "      <td>0.25</td>\n",
       "      <td>120.0</td>\n",
       "      <td>(None, None, )</td>\n",
       "      <td>NaN</td>\n",
       "      <td>NaN</td>\n",
       "      <td></td>\n",
       "    </tr>\n",
       "    <tr>\n",
       "      <th>6</th>\n",
       "      <td>tube crescent rolls</td>\n",
       "      <td>count</td>\n",
       "      <td>1.00</td>\n",
       "      <td>0.0</td>\n",
       "      <td>(None, None, )</td>\n",
       "      <td>NaN</td>\n",
       "      <td>NaN</td>\n",
       "      <td></td>\n",
       "    </tr>\n",
       "  </tbody>\n",
       "</table>\n",
       "</div>"
      ],
      "text/plain": [
       "                         ingredient normalized_unit  quantity  Volume_in_ml  \\\n",
       "0  Boneless Skinless Chicken Breast              lb      0.75         360.0   \n",
       "1                             dijon            tbsp      3.00          45.0   \n",
       "2            extra-virgin olive oil            tbsp      1.00          15.0   \n",
       "3                             honey             tsp      1.00           5.0   \n",
       "4            thinly sliced deli ham              lb      0.50         240.0   \n",
       "5             thinly sliced gruyere              lb      0.25         120.0   \n",
       "6               tube crescent rolls           count      1.00           0.0   \n",
       "\n",
       "                     tuple  standard_vol  standard_weight_gm standard_unit  \n",
       "0         (4.0, 113.0, oz)           4.0               113.0            oz  \n",
       "1  (1.0, 15.0, tablespoon)           1.0                15.0    tablespoon  \n",
       "2          (100.0, 90.7, )         100.0                90.7                \n",
       "3        (1.0, 339.0, cup)           1.0               339.0           cup  \n",
       "4           (None, None, )           NaN                 NaN                \n",
       "5           (None, None, )           NaN                 NaN                \n",
       "6           (None, None, )           NaN                 NaN                "
      ]
     },
     "execution_count": 25,
     "metadata": {},
     "output_type": "execute_result"
    }
   ],
   "source": [
    "combined_ingredient_df"
   ]
  },
  {
   "cell_type": "code",
   "execution_count": 26,
   "id": "0e152175",
   "metadata": {
    "ExecuteTime": {
     "end_time": "2022-01-10T21:26:31.161470Z",
     "start_time": "2022-01-10T21:26:17.706202Z"
    }
   },
   "outputs": [
    {
     "ename": "NameError",
     "evalue": "name 'l2_ranker' is not defined",
     "output_type": "error",
     "traceback": [
      "\u001b[0;31m---------------------------------------------------------------------------\u001b[0m",
      "\u001b[0;31mNameError\u001b[0m                                 Traceback (most recent call last)",
      "\u001b[0;32m/var/folders/fd/fg4j4jtn11q95kb2m8q10q1c0000gn/T/ipykernel_64069/1134363246.py\u001b[0m in \u001b[0;36m<module>\u001b[0;34m\u001b[0m\n\u001b[1;32m      4\u001b[0m \u001b[0;34m\u001b[0m\u001b[0m\n\u001b[1;32m      5\u001b[0m \u001b[0;31m# Ranked list of product tcin matches for each ingredient - Returns a list of lists\u001b[0m\u001b[0;34m\u001b[0m\u001b[0;34m\u001b[0m\u001b[0;34m\u001b[0m\u001b[0m\n\u001b[0;32m----> 6\u001b[0;31m \u001b[0mranked_match\u001b[0m \u001b[0;34m=\u001b[0m \u001b[0ml2_ranker\u001b[0m\u001b[0;34m.\u001b[0m\u001b[0mrank_products_recipe\u001b[0m\u001b[0;34m(\u001b[0m\u001b[0mrecipe_ingredients\u001b[0m\u001b[0;34m,\u001b[0m \u001b[0;36m3\u001b[0m\u001b[0;34m)\u001b[0m\u001b[0;34m\u001b[0m\u001b[0;34m\u001b[0m\u001b[0m\n\u001b[0m\u001b[1;32m      7\u001b[0m \u001b[0;34m\u001b[0m\u001b[0m\n\u001b[1;32m      8\u001b[0m \u001b[0mrslt_df\u001b[0m \u001b[0;34m=\u001b[0m \u001b[0mgroup10\u001b[0m\u001b[0;34m[\u001b[0m\u001b[0;34m[\u001b[0m\u001b[0;34m'title'\u001b[0m\u001b[0;34m,\u001b[0m \u001b[0;34m'tcin'\u001b[0m\u001b[0;34m,\u001b[0m \u001b[0;34m'short_desc'\u001b[0m\u001b[0;34m,\u001b[0m\u001b[0;34m'price'\u001b[0m\u001b[0;34m,\u001b[0m\u001b[0;34m'net_content_quantity_unit_of_measure'\u001b[0m\u001b[0;34m,\u001b[0m \u001b[0;34m'net_content_quantity_value'\u001b[0m\u001b[0;34m,\u001b[0m \u001b[0;34m'package_weight_unit_of_measure'\u001b[0m\u001b[0;34m,\u001b[0m\u001b[0;34m'package_weight'\u001b[0m\u001b[0;34m]\u001b[0m\u001b[0;34m]\u001b[0m\u001b[0;34m\u001b[0m\u001b[0;34m\u001b[0m\u001b[0m\n",
      "\u001b[0;31mNameError\u001b[0m: name 'l2_ranker' is not defined"
     ]
    }
   ],
   "source": [
    "# Preprocess recipe ingredients\n",
    "final_df['ingredient'] = preprocess(final_df['ingredient'])\n",
    "recipe_ingredients = list(final_df['ingredient'].values)\n",
    "\n",
    "# Ranked list of product tcin matches for each ingredient - Returns a list of lists \n",
    "ranked_match = l2_ranker.rank_products_recipe(recipe_ingredients, 3)\n",
    "\n",
    "rslt_df = group10[['title', 'tcin', 'short_desc','price','net_content_quantity_unit_of_measure', 'net_content_quantity_value', 'package_weight_unit_of_measure','package_weight']]\n",
    "final_rslt_df=pd.DataFrame()\n",
    "\n",
    "for i in range(len(ranked_match)):\n",
    "    rslt_inter = rslt_df.loc[group10['tcin'].isin(ranked_match[i])] \n",
    "    ing = recipe_ingredients[i]\n",
    "    length = min(len(ranked_match[i]),9)\n",
    "    for n in range(0,length):\n",
    "        for j, row in rslt_inter.iterrows():\n",
    "            if row.tcin == ranked_match[i][n] :\n",
    "                rslt_inter.loc[j,'rank']=n+1\n",
    "                rslt_inter.loc[j,'ingredient']=ing\n",
    "                break\n",
    "       \n",
    "    rslt_inter_n=rslt_inter.sort_values('rank')[0:9] \n",
    "    final_rslt_df= pd.concat([final_rslt_df,rslt_inter_n], ignore_index=True)\n",
    "\n",
    "#matching target database with recipe \n",
    "join_df = pd.merge(final_rslt_df, final_df, \n",
    "                   how = 'left', on = 'ingredient')\n",
    "\n",
    "#calculating recommended quantity\n",
    "rec_df = qty.recommended_quantity(join_df)\n",
    "df = rec_df.sort_values(by=['ingredient', 'recommended_qty', 'price'])\n",
    "display_df = df[['tcin', 'ingredient', 'recommended_qty', 'price']]"
   ]
  },
  {
   "cell_type": "code",
   "execution_count": null,
   "id": "749d8d3d",
   "metadata": {},
   "outputs": [],
   "source": [
    "join_df"
   ]
  },
  {
   "cell_type": "code",
   "execution_count": null,
   "id": "a9d7240f",
   "metadata": {
    "scrolled": false
   },
   "outputs": [],
   "source": [
    "dp.display_products_df(display_df, 3)"
   ]
  },
  {
   "cell_type": "code",
   "execution_count": null,
   "id": "7d08eeb5",
   "metadata": {},
   "outputs": [],
   "source": [
    "#4567\n",
    "#7609\n",
    "#32659"
   ]
  }
 ],
 "metadata": {
  "kernelspec": {
   "display_name": "Python 3 (ipykernel)",
   "language": "python",
   "name": "python3"
  },
  "language_info": {
   "codemirror_mode": {
    "name": "ipython",
    "version": 3
   },
   "file_extension": ".py",
   "mimetype": "text/x-python",
   "name": "python",
   "nbconvert_exporter": "python",
   "pygments_lexer": "ipython3",
   "version": "3.8.11"
  }
 },
 "nbformat": 4,
 "nbformat_minor": 5
}
